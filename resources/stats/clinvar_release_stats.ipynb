{
 "cells": [
  {
   "cell_type": "code",
   "execution_count": 48,
   "metadata": {
    "collapsed": true
   },
   "outputs": [],
   "source": [
    "import json\n",
    "import gzip\n",
    "from collections import defaultdict\n",
    "from collections import Counter\n",
    "import glob\n",
    "import os\n",
    "import itertools\n",
    "import sys"
   ]
  },
  {
   "cell_type": "code",
   "execution_count": 36,
   "metadata": {
    "collapsed": true
   },
   "outputs": [],
   "source": [
    "def clinvar_jsons():\n",
    "    with gzip.open(\"/media/storage/Job_Working_Directory/Python/eva_cttv_pipeline/resources/june16/clinvar_pathlikepath.json.gz\", \"rt\") as f:\n",
    "        for line in f:\n",
    "            line = line.rstrip()\n",
    "            yield json.loads(line)"
   ]
  },
  {
   "cell_type": "code",
   "execution_count": 5,
   "metadata": {
    "collapsed": false
   },
   "outputs": [],
   "source": [
    "def is_path_or_likely_path(clinvar_json):\n",
    "    clin_sigs = set()\n",
    "    for clinvar_assertion in clinvar_json[\"clinvarSet\"][\"clinVarAssertion\"]:\n",
    "        if \"description\" in clinvar_assertion[\"clinicalSignificance\"]:\n",
    "            for description in clinvar_assertion[\"clinicalSignificance\"][\"description\"]:\n",
    "                clin_sigs.add(description)\n",
    "        else:\n",
    "            continue\n",
    "    if len(clin_sigs.intersection({\"Pathogenic\", \"Likely pathogenic\"})) == 0:\n",
    "        return False\n",
    "    return True"
   ]
  },
  {
   "cell_type": "code",
   "execution_count": 63,
   "metadata": {
    "collapsed": true
   },
   "outputs": [],
   "source": [
    "not_provided_count = 0"
   ]
  },
  {
   "cell_type": "code",
   "execution_count": 65,
   "metadata": {
    "collapsed": true
   },
   "outputs": [],
   "source": [
    "def get_trait_names(trait_set):\n",
    "    global not_provided_count\n",
    "    trait_list = []\n",
    "    for trait in trait_set['trait']:\n",
    "        trait_list.append([])\n",
    "        for name in trait['name']:\n",
    "            # First trait name in the list will always be the \"Preferred\" one\n",
    "            if name['elementValue']['value'].lower() == \"not provided\":\n",
    "                not_provided_count += 1\n",
    "                continue\n",
    "            if name['elementValue']['type'] == 'Preferred':\n",
    "                trait_list[-1] = [name['elementValue']['value']] + trait_list[-1]\n",
    "            elif name['elementValue']['type'] in [\"EFO URL\", \"EFO id\", \"EFO name\"]:\n",
    "                continue  # if the trait name not originally from clinvar\n",
    "            else:\n",
    "                trait_list[-1].append(name['elementValue']['value'])\n",
    "    \n",
    "    trait_names_to_return = []\n",
    "    for trait in trait_list:\n",
    "        if len(trait) == 0:\n",
    "            continue\n",
    "        trait_names_to_return.append(trait[0].lower())\n",
    "\n",
    "    return trait_names_to_return"
   ]
  },
  {
   "cell_type": "code",
   "execution_count": 29,
   "metadata": {
    "collapsed": true
   },
   "outputs": [],
   "source": [
    "def get_all_trait_names(trait_set):\n",
    "    trait_list = []\n",
    "    for trait in trait_set['trait']:\n",
    "        trait_list.append([])\n",
    "        for name in trait['name']:\n",
    "            # First trait name in the list will always be the \"Preferred\" one\n",
    "            if name['elementValue']['value'].lower() == \"not provided\":\n",
    "                continue\n",
    "            if name['elementValue']['type'] == 'Preferred':\n",
    "                trait_list[-1] = [name['elementValue']['value']] + trait_list[-1]\n",
    "            elif name['elementValue']['type'] in [\"EFO URL\", \"EFO id\", \"EFO name\"]:\n",
    "                continue  # if the trait name not originally from clinvar\n",
    "            else:\n",
    "                trait_list[-1].append(name['elementValue']['value'])\n",
    "                \n",
    "    trait_names_to_return = []\n",
    "    for trait in trait_list:\n",
    "        if len(trait) == 0:\n",
    "            continue\n",
    "        for name in trait:\n",
    "            trait_names_to_return.append(name.lower())\n",
    "        \n",
    "    return trait_names_to_return"
   ]
  },
  {
   "cell_type": "markdown",
   "metadata": {},
   "source": [
    "First, the number of pathogenic or likely pathogenic records in total... 45715"
   ]
  },
  {
   "cell_type": "code",
   "execution_count": 12,
   "metadata": {
    "collapsed": false,
    "scrolled": true
   },
   "outputs": [
    {
     "name": "stdout",
     "output_type": "stream",
     "text": [
      "45715\n"
     ]
    }
   ],
   "source": [
    "count = 0\n",
    "for record in clinvar_jsons():\n",
    "    if is_path_or_likely_path(record):\n",
    "        count += 1\n",
    "print(count)"
   ]
  },
  {
   "cell_type": "markdown",
   "metadata": {},
   "source": [
    "Create file with just pathogenic and likely pathogenic records to speed up future processing"
   ]
  },
  {
   "cell_type": "code",
   "execution_count": 6,
   "metadata": {
    "collapsed": false
   },
   "outputs": [],
   "source": [
    "with gzip.open(\"/media/storage/Job_Working_Directory/Python/eva_cttv_pipeline/resources/june16/clinvar_pathlikepath.json.gz\", \"wt\") as f:\n",
    "    for record in clinvar_jsons():\n",
    "        if is_path_or_likely_path(record):\n",
    "            f.write(json.dumps(record) + \"\\n\")"
   ]
  },
  {
   "cell_type": "markdown",
   "metadata": {},
   "source": [
    "Total number of traits (considering records can have multiple traits)... 46316"
   ]
  },
  {
   "cell_type": "code",
   "execution_count": 22,
   "metadata": {
    "collapsed": false
   },
   "outputs": [
    {
     "name": "stdout",
     "output_type": "stream",
     "text": [
      "46316\n"
     ]
    }
   ],
   "source": [
    "count = 0\n",
    "for record in clinvar_jsons():\n",
    "    for trait in record[\"clinvarSet\"][\"referenceClinVarAssertion\"][\"traitSet\"][\"trait\"]:\n",
    "        count += 1\n",
    "print(count)"
   ]
  },
  {
   "cell_type": "markdown",
   "metadata": {},
   "source": [
    "Find total number of preferred trait names"
   ]
  },
  {
   "cell_type": "code",
   "execution_count": 20,
   "metadata": {
    "collapsed": false,
    "scrolled": true
   },
   "outputs": [],
   "source": [
    "trait_name_counter = defaultdict(int)\n",
    "for record in clinvar_jsons():\n",
    "    record_trait_names = get_trait_names(record[\"clinvarSet\"][\"referenceClinVarAssertion\"][\"traitSet\"])\n",
    "    for trait_name in record_trait_names:\n",
    "        trait_name_counter[trait_name.lower()] += 1"
   ]
  },
  {
   "cell_type": "code",
   "execution_count": 21,
   "metadata": {
    "collapsed": false
   },
   "outputs": [
    {
     "name": "stdout",
     "output_type": "stream",
     "text": [
      "5201\n"
     ]
    }
   ],
   "source": [
    "print(len(trait_name_counter))"
   ]
  },
  {
   "cell_type": "markdown",
   "metadata": {},
   "source": [
    "Total number of trait names (not just preferred)"
   ]
  },
  {
   "cell_type": "code",
   "execution_count": 30,
   "metadata": {
    "collapsed": false
   },
   "outputs": [],
   "source": [
    "trait_names = set()\n",
    "for record in clinvar_jsons():\n",
    "    record_trait_names = get_all_trait_names(record[\"clinvarSet\"][\"referenceClinVarAssertion\"][\"traitSet\"])\n",
    "    trait_names.update(record_trait_names)"
   ]
  },
  {
   "cell_type": "code",
   "execution_count": 31,
   "metadata": {
    "collapsed": false
   },
   "outputs": [
    {
     "name": "stdout",
     "output_type": "stream",
     "text": [
      "10231\n"
     ]
    }
   ],
   "source": [
    "print(len(trait_names))"
   ]
  },
  {
   "cell_type": "markdown",
   "metadata": {},
   "source": [
    "Looking at allele origin"
   ]
  },
  {
   "cell_type": "code",
   "execution_count": null,
   "metadata": {
    "collapsed": true
   },
   "outputs": [],
   "source": [
    "Find if any records have"
   ]
  },
  {
   "cell_type": "code",
   "execution_count": 40,
   "metadata": {
    "collapsed": false
   },
   "outputs": [],
   "source": [
    "allele_origins = []\n",
    "for record in clinvar_jsons():\n",
    "    record_allele_origins = set()\n",
    "    for clinvar_assetion_document in record[\"clinvarSet\"]['clinVarAssertion']:\n",
    "        for observed_in_document in clinvar_assetion_document['observedIn']:\n",
    "            record_allele_origins.add(observed_in_document['sample']['origin'])\n",
    "    record_allele_origins = sorted(list(record_allele_origins))\n",
    "    allele_origins.append(','.join(record_allele_origins))"
   ]
  },
  {
   "cell_type": "code",
   "execution_count": 41,
   "metadata": {
    "collapsed": false
   },
   "outputs": [],
   "source": [
    "allele_origins_counter = Counter(allele_origins)"
   ]
  },
  {
   "cell_type": "code",
   "execution_count": 42,
   "metadata": {
    "collapsed": true
   },
   "outputs": [
    {
     "name": "stdout",
     "output_type": "stream",
     "text": [
      "Counter({'germline': 39139, 'unknown': 1699, 'germline,not provided': 1307, 'not provided': 857, 'somatic': 666, 'de novo': 647, 'germline,unknown': 550, 'de novo,germline': 125, 'inherited': 123, 'maternal': 112, 'not provided,unknown': 72, 'germline,inherited': 68, 'paternal': 52, 'germline,not provided,unknown': 39, 'germline,somatic': 37, 'de novo,unknown': 32, 'de novo,germline,unknown': 26, 'germline,maternal': 23, 'germline,paternal': 18, 'biparental': 15, 'maternal,unknown': 9, 'germline,somatic,unknown': 8, 'germline,not applicable': 8, 'not provided,somatic': 7, 'tested-inconclusive': 6, 'de novo,germline,maternal,unknown': 5, 'germline,inherited,not provided': 4, 'paternal,unknown': 4, 'inherited,not provided': 4, 'uniparental': 4, 'inherited,paternal': 3, 'de novo,germline,inherited': 3, 'germline,maternal,not provided': 3, 'de novo,not applicable': 3, 'germline,maternal,unknown': 3, 'de novo,somatic': 2, 'germline,tested-inconclusive': 2, 'maternal,paternal': 2, 'inherited,unknown': 2, 'de novo,paternal,unknown': 2, 'de novo,germline,maternal': 2, 'de novo,germline,not provided': 2, 'inherited,maternal': 2, 'de novo,germline,maternal,not provided,unknown': 1, 'de novo,maternal,unknown': 1, 'de novo,paternal': 1, 'not applicable': 1, 'somatic,unknown': 1, 'de novo,inherited': 1, 'germline,not applicable,unknown': 1, 'de novo,maternal': 1, 'de novo,germline,not provided,unknown': 1, 'de novo,not provided': 1, 'germline,paternal,unknown': 1, 'maternal,somatic': 1, 'de novo,germline,maternal,paternal,unknown': 1, 'germline,maternal,paternal': 1, 'de novo,tested-inconclusive': 1, 'not provided,somatic,unknown': 1, 'germline,inherited,unknown': 1, 'de novo,maternal,paternal,unknown': 1})\n"
     ]
    }
   ],
   "source": [
    "print(allele_origins_counter)"
   ]
  },
  {
   "cell_type": "code",
   "execution_count": 48,
   "metadata": {
    "collapsed": true
   },
   "outputs": [
    {
     "name": "stdout",
     "output_type": "stream",
     "text": [
      "germline\t39139\n",
      "unknown\t1699\n",
      "germline,not provided\t1307\n",
      "not provided\t857\n",
      "somatic\t666\n",
      "de novo\t647\n",
      "germline,unknown\t550\n",
      "de novo,germline\t125\n",
      "inherited\t123\n",
      "maternal\t112\n",
      "not provided,unknown\t72\n",
      "germline,inherited\t68\n",
      "paternal\t52\n",
      "germline,not provided,unknown\t39\n",
      "germline,somatic\t37\n",
      "de novo,unknown\t32\n",
      "de novo,germline,unknown\t26\n",
      "germline,maternal\t23\n",
      "germline,paternal\t18\n",
      "biparental\t15\n",
      "maternal,unknown\t9\n",
      "germline,somatic,unknown\t8\n",
      "germline,not applicable\t8\n",
      "not provided,somatic\t7\n",
      "tested-inconclusive\t6\n",
      "de novo,germline,maternal,unknown\t5\n",
      "germline,inherited,not provided\t4\n",
      "paternal,unknown\t4\n",
      "inherited,not provided\t4\n",
      "uniparental\t4\n",
      "inherited,paternal\t3\n",
      "de novo,germline,inherited\t3\n",
      "germline,maternal,not provided\t3\n",
      "de novo,not applicable\t3\n",
      "germline,maternal,unknown\t3\n",
      "de novo,somatic\t2\n",
      "germline,tested-inconclusive\t2\n",
      "maternal,paternal\t2\n",
      "inherited,unknown\t2\n",
      "de novo,paternal,unknown\t2\n",
      "de novo,germline,maternal\t2\n",
      "de novo,germline,not provided\t2\n",
      "inherited,maternal\t2\n",
      "de novo,germline,maternal,not provided,unknown\t1\n",
      "de novo,maternal,unknown\t1\n",
      "de novo,paternal\t1\n",
      "not applicable\t1\n",
      "somatic,unknown\t1\n",
      "de novo,inherited\t1\n",
      "germline,not applicable,unknown\t1\n",
      "de novo,maternal\t1\n",
      "de novo,germline,not provided,unknown\t1\n",
      "de novo,not provided\t1\n",
      "germline,paternal,unknown\t1\n",
      "maternal,somatic\t1\n",
      "de novo,germline,maternal,paternal,unknown\t1\n",
      "germline,maternal,paternal\t1\n",
      "de novo,tested-inconclusive\t1\n",
      "not provided,somatic,unknown\t1\n",
      "germline,inherited,unknown\t1\n",
      "de novo,maternal,paternal,unknown\t1\n"
     ]
    }
   ],
   "source": [
    "for ao_combo, count in allele_origins_counter.most_common():\n",
    "    print('\\t'.join([ao_combo, str(count)]))"
   ]
  },
  {
   "cell_type": "markdown",
   "metadata": {},
   "source": [
    "data from clinvar's variant_summary files. below analysis might be best left until json file available...."
   ]
  },
  {
   "cell_type": "code",
   "execution_count": 2,
   "metadata": {
    "collapsed": false
   },
   "outputs": [],
   "source": [
    "var_sum_dir = \"/home/tom/tmp/clinvar/\""
   ]
  },
  {
   "cell_type": "code",
   "execution_count": 20,
   "metadata": {
    "collapsed": true
   },
   "outputs": [],
   "source": [
    "rcv_dict_set = defaultdict(set)\n",
    "rcv_dict_list = defaultdict(list)"
   ]
  },
  {
   "cell_type": "code",
   "execution_count": 6,
   "metadata": {
    "collapsed": true
   },
   "outputs": [],
   "source": [
    "def use_record(record):\n",
    "    if record[12].lower() != \"grch38\":\n",
    "        return False\n",
    "    if \"pathogenic\" not in record[5].lower():\n",
    "        return False\n",
    "    return True"
   ]
  },
  {
   "cell_type": "code",
   "execution_count": 29,
   "metadata": {
    "collapsed": false
   },
   "outputs": [],
   "source": [
    "for filename in os.listdir(var_sum_dir):\n",
    "    if not filename.startswith(\"variant_summary_\"):\n",
    "        continue\n",
    "    with gzip.open(var_sum_dir + filename, \"rt\") as file:\n",
    "        next(file)\n",
    "        for line in file:\n",
    "            record = line.rstrip().split(\"\\t\")\n",
    "            if not use_record(record):\n",
    "                continue\n",
    "            rcvs = record[8].split(\";\")\n",
    "            for rcv in rcvs:\n",
    "                rcv_dict_set[filename].add(rcv)\n",
    "                rcv_dict_list[filename].append(rcv)"
   ]
  },
  {
   "cell_type": "code",
   "execution_count": 32,
   "metadata": {
    "collapsed": true
   },
   "outputs": [
    {
     "name": "stdout",
     "output_type": "stream",
     "text": [
      "variant_summary_2016-04.txt.gz 111025\n",
      "variant_summary_2016-07.txt.gz 116291\n",
      "variant_summary_2016-06.txt.gz 113806\n",
      "variant_summary_2016-08.txt.gz 118750\n",
      "variant_summary_2016-01.txt.gz 107385\n",
      "variant_summary_2016-02.txt.gz 108618\n",
      "variant_summary_2016-09.txt.gz 119421\n",
      "variant_summary_2016-05.txt.gz 111508\n",
      "variant_summary_2016-03.txt.gz 109279\n"
     ]
    }
   ],
   "source": [
    "for file, rcv_set in rcv_dict_list.items():\n",
    "    print(file, len(rcv_set))"
   ]
  },
  {
   "cell_type": "code",
   "execution_count": 33,
   "metadata": {
    "collapsed": true
   },
   "outputs": [
    {
     "name": "stdout",
     "output_type": "stream",
     "text": [
      "Month 1 to 2:\n",
      "Removed: 164\n",
      "Added: 990\n",
      "\n",
      "Month 2 to 3:\n",
      "Removed: 191\n",
      "Added: 626\n",
      "\n",
      "Month 3 to 4:\n",
      "Removed: 95\n",
      "Added: 1187\n",
      "\n",
      "Month 4 to 5:\n",
      "Removed: 168\n",
      "Added: 501\n",
      "\n",
      "Month 5 to 6:\n",
      "Removed: 1888\n",
      "Added: 3872\n",
      "\n",
      "Month 6 to 7:\n",
      "Removed: 677\n",
      "Added: 2478\n",
      "\n",
      "Month 7 to 8:\n",
      "Removed: 777\n",
      "Added: 2732\n",
      "\n",
      "Month 8 to 9:\n",
      "Removed: 73\n",
      "Added: 447\n",
      "\n"
     ]
    }
   ],
   "source": [
    "for month in range(2,10):\n",
    "    last_month = month - 1\n",
    "    last_month_file = \"variant_summary_2016-0\" + str(last_month) + \".txt.gz\"\n",
    "    this_month_file = \"variant_summary_2016-0\" + str(month) + \".txt.gz\"\n",
    "    num_removed = len(rcv_dict_set[last_month_file] - rcv_dict_set[this_month_file])    \n",
    "    num_added = len(rcv_dict_set[this_month_file] - rcv_dict_set[last_month_file])\n",
    "    print(\"Month {} to {}:\".format(last_month, month))\n",
    "    print(\"Removed: {}\".format(num_removed))\n",
    "    print(\"Added: {}\".format(num_added))\n",
    "    print()"
   ]
  },
  {
   "cell_type": "code",
   "execution_count": 24,
   "metadata": {
    "collapsed": false
   },
   "outputs": [
    {
     "name": "stdout",
     "output_type": "stream",
     "text": [
      "52550\n",
      "52295\n"
     ]
    }
   ],
   "source": [
    "print(len(rcv_dict_list[\"variant_summary_2016-09.txt.gz\"]))\n",
    "print(len(rcv_dict_set[\"variant_summary_2016-09.txt.gz\"]))"
   ]
  },
  {
   "cell_type": "code",
   "execution_count": 27,
   "metadata": {
    "collapsed": true
   },
   "outputs": [],
   "source": [
    "rcv_list_counter_07 = Counter(rcv_dict_list[\"variant_summary_2016-07.txt.gz\"])"
   ]
  },
  {
   "cell_type": "code",
   "execution_count": 28,
   "metadata": {
    "collapsed": false
   },
   "outputs": [
    {
     "name": "stdout",
     "output_type": "stream",
     "text": [
      "[('RCV000149583;RCV000170535;RCV000170536;RCV000170538;RCV000170539;RCV000170540;RCV000170541;RCV000170542;RCV000170543', 9), ('RCV000016286;RCV000030905;RCV000016575;RCV000016573;RCV000016574;RCV000224000;RCV000016576;RCV000016577;RCV000016579;RCV000016580;RCV000016877;RCV000016879', 9)]\n"
     ]
    }
   ],
   "source": [
    "print(rcv_list_counter_07.most_common(2))"
   ]
  },
  {
   "cell_type": "code",
   "execution_count": 38,
   "metadata": {
    "collapsed": true
   },
   "outputs": [],
   "source": [
    "def get_rcv(record):\n",
    "    return record[\"clinvarSet\"][\"referenceClinVarAssertion\"][\"clinVarAccession\"][\"acc\"]"
   ]
  },
  {
   "cell_type": "code",
   "execution_count": 54,
   "metadata": {
    "collapsed": true
   },
   "outputs": [],
   "source": [
    "def get_rs_ids(record):\n",
    "    rs_ids = set()\n",
    "    measures = record[\"clinvarSet\"][\"referenceClinVarAssertion\"][\"measureSet\"][\"measure\"]\n",
    "    for measure in measures:\n",
    "        if \"xref\" not in measure:\n",
    "            continue\n",
    "        xref = measure[\"xref\"]\n",
    "        for ref in xref:\n",
    "            if ref[\"db\"].lower() != \"dbsnp\":\n",
    "                continue\n",
    "            if ref[\"type\"].lower() != \"rs\":\n",
    "                continue\n",
    "            rs_ids.add(\"rs{}\".format(ref[\"id\"]))\n",
    "    if len(rs_ids) == 0:\n",
    "        rs_ids = {\"-1\"}\n",
    "    return list(rs_ids)"
   ]
  },
  {
   "cell_type": "code",
   "execution_count": 66,
   "metadata": {
    "collapsed": false
   },
   "outputs": [
    {
     "name": "stdout",
     "output_type": "stream",
     "text": [
      "4861\n"
     ]
    }
   ],
   "source": [
    "# with gzip.open(\"/media/storage/Job_Working_Directory/Python/eva_cttv_pipeline/resources/oct16/mapping/for_zooma/rcv_rs_traitname_A.tsv.gz\", \n",
    "#                \"wt\") as outfile:\n",
    "for record in clinvar_jsons():\n",
    "    rcv = get_rcv(record)\n",
    "    rs_ids = get_rs_ids(record)\n",
    "    trait_names = get_trait_names(record[\"clinvarSet\"][\"referenceClinVarAssertion\"][\"traitSet\"])\n",
    "#     if len(trait_names) < 1:\n",
    "#         print(record)\n",
    "#         sys.exit(1)\n",
    "    for rs_id, trait_name in itertools.product(rs_ids, trait_names):\n",
    "        output_line = \"\\t\".join([rcv, rs_id, trait_name])\n",
    "#             outfile.write(output_line + \"\\n\")\n",
    "\n",
    "print(not_provided_count)"
   ]
  },
  {
   "cell_type": "code",
   "execution_count": 56,
   "metadata": {
    "collapsed": false
   },
   "outputs": [
    {
     "name": "stdout",
     "output_type": "stream",
     "text": [
      "45715\n"
     ]
    }
   ],
   "source": [
    "rcvs = set()\n",
    "for record in clinvar_jsons():\n",
    "    rcv = get_rcv(record)\n",
    "    rcvs.add(rcv)\n",
    "    \n",
    "print(len(rcvs))"
   ]
  }
 ],
 "metadata": {
  "kernelspec": {
   "display_name": "Python 3",
   "language": "python",
   "name": "python3"
  },
  "language_info": {
   "codemirror_mode": {
    "name": "ipython",
    "version": 3
   },
   "file_extension": ".py",
   "mimetype": "text/x-python",
   "name": "python",
   "nbconvert_exporter": "python",
   "pygments_lexer": "ipython3",
   "version": "3.5.1"
  }
 },
 "nbformat": 4,
 "nbformat_minor": 0
}
