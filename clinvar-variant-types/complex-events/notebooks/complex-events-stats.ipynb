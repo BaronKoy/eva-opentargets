{
 "cells": [
  {
   "cell_type": "code",
   "execution_count": 2,
   "id": "5f254a99",
   "metadata": {},
   "outputs": [],
   "source": [
    "from eva_cttv_pipeline.clinvar_xml_utils import *\n",
    "from consequence_prediction.repeat_expansion_variants.clinvar_identifier_parsing import parse_variant_identifier\n",
    "\n",
    "import os\n",
    "import urllib\n",
    "import requests\n",
    "import xml.etree.ElementTree as ElementTree\n",
    "from collections import Counter\n",
    "\n",
    "import hgvs.parser\n",
    "from hgvs.exceptions import HGVSParseError\n",
    "\n",
    "import numpy as np\n",
    "import pandas as pd"
   ]
  },
  {
   "cell_type": "code",
   "execution_count": 2,
   "id": "19437731",
   "metadata": {},
   "outputs": [],
   "source": [
    "%matplotlib inline\n",
    "import matplotlib.pyplot as plt"
   ]
  },
  {
   "cell_type": "code",
   "execution_count": 3,
   "id": "e08ce3ea",
   "metadata": {},
   "outputs": [],
   "source": [
    "parser = hgvs.parser.Parser()"
   ]
  },
  {
   "cell_type": "code",
   "execution_count": 4,
   "id": "624aa9f8",
   "metadata": {},
   "outputs": [],
   "source": [
    "PROJECT_ROOT = '/home/april/projects/opentargets'\n",
    "\n",
    "# dump of all records with no functional consequences: June consequence pred + ClinVar 6/26/2021\n",
    "no_consequences_path = os.path.join(PROJECT_ROOT, 'no-consequences.xml.gz')"
   ]
  },
  {
   "cell_type": "code",
   "execution_count": 5,
   "id": "23153ed0",
   "metadata": {},
   "outputs": [],
   "source": [
    "dataset = ClinVarDataset(no_consequences_path)"
   ]
  },
  {
   "cell_type": "markdown",
   "id": "b45cfc78",
   "metadata": {},
   "source": [
    "## Gather counts\n",
    "\n",
    "Among records with no functional consequences\n",
    "* how many of each variant type\n",
    "* how many have hgvs, sequence location w/ start/stop position at least, cytogenic location\n",
    "* of those with hgvs, how many can the library parse?\n",
    "    * how many can our code parse?"
   ]
  },
  {
   "cell_type": "code",
   "execution_count": null,
   "id": "333109f6",
   "metadata": {
    "scrolled": true
   },
   "outputs": [],
   "source": [
    "variant_type_hist = Counter()\n",
    "total_count = 0\n",
    "\n",
    "spdi_count = 0\n",
    "hgvs_count = 0\n",
    "toplevel_refseq_hgvs_count = 0\n",
    "cytogenetic_count = 0\n",
    "start_stop_count = 0\n",
    "strict_parseable_hgvs_count = 0\n",
    "our_parseable_hgvs_count = 0\n",
    "any_parseable_hgvs_count = 0\n",
    "\n",
    "hgvs_output_file = open(os.path.join(PROJECT_ROOT, 'unparseable-hgvs.txt'), 'w+')\n",
    "\n",
    "for record in dataset:\n",
    "    if record.measure:\n",
    "        m = record.measure\n",
    "        if m.has_complete_coordinates:\n",
    "            continue\n",
    "            \n",
    "        total_count += 1\n",
    "        variant_type_hist[m.variant_type] += 1\n",
    "            \n",
    "        # hgvs count\n",
    "        if m.hgvs:\n",
    "            hgvs_count += 1\n",
    "            if m.toplevel_refseq_hgvs:\n",
    "                toplevel_refseq_hgvs_count += 1\n",
    "\n",
    "            # parseability\n",
    "            one_strict_parseable = False\n",
    "            one_our_parseable = False\n",
    "            for hgvs in m.hgvs:\n",
    "                try:\n",
    "                    parser.parse_hgvs_variant(hgvs)\n",
    "                    one_strict_parseable = True\n",
    "                except:\n",
    "                    pass\n",
    "                try:\n",
    "                    if any(parse_variant_identifier(hgvs)):\n",
    "                        one_our_parseable = True\n",
    "                    else:\n",
    "                        hgvs_output_file.write(hgvs + '\\n')\n",
    "                except:\n",
    "                    pass  # these are None\n",
    "            if one_strict_parseable:\n",
    "                strict_parseable_hgvs_count += 1\n",
    "            if one_our_parseable:\n",
    "                our_parseable_hgvs_count += 1\n",
    "            if one_strict_parseable or one_our_parseable:\n",
    "                any_parseable_hgvs_count += 1\n",
    "                \n",
    "            \n",
    "        measure_xml = m.measure_xml\n",
    "        if find_elements(measure_xml, './CytogeneticLocation'):\n",
    "            cytogenetic_count += 1\n",
    "        if find_elements(measure_xml, './CanonicalSPDI'):\n",
    "            spdi_count += 1\n",
    "        \n",
    "        # probably the minimum we need for consequence prediction\n",
    "        if m.sequence_location_helper('Chr') and m.sequence_location_helper('start') and m.sequence_location_helper('stop'):\n",
    "            start_stop_count += 1\n",
    "\n",
    "hgvs_output_file.close()"
   ]
  },
  {
   "cell_type": "code",
   "execution_count": 12,
   "id": "cc37c02a",
   "metadata": {},
   "outputs": [
    {
     "name": "stdout",
     "output_type": "stream",
     "text": [
      "17649\n"
     ]
    }
   ],
   "source": [
    "print(total_count)"
   ]
  },
  {
   "cell_type": "code",
   "execution_count": 94,
   "id": "322f59a4",
   "metadata": {},
   "outputs": [
    {
     "data": {
      "text/plain": [
       "<BarContainer object of 15 artists>"
      ]
     },
     "execution_count": 94,
     "metadata": {},
     "output_type": "execute_result"
    },
    {
     "data": {
      "image/png": "[encoded data removed]",
      "text/plain": [
       "<Figure size 1080x504 with 1 Axes>"
      ]
     },
     "metadata": {
      "needs_background": "light"
     },
     "output_type": "display_data"
    }
   ],
   "source": [
    "plt.figure(figsize=(15,7))\n",
    "plt.xticks(rotation='vertical')\n",
    "plt.title('Variant Types (no functional consequences and incomplete coordinates)')\n",
    "plt.bar(variant_type_hist.keys(), variant_type_hist.values())"
   ]
  },
  {
   "cell_type": "code",
   "execution_count": 64,
   "id": "f7786a5b",
   "metadata": {},
   "outputs": [
    {
     "data": {
      "text/plain": [
       "Counter({'Deletion': 9937,\n",
       "         'Insertion': 552,\n",
       "         'single nucleotide variant': 864,\n",
       "         'Variation': 311,\n",
       "         'Duplication': 3875,\n",
       "         'Indel': 213,\n",
       "         'Inversion': 73,\n",
       "         'Translocation': 230,\n",
       "         'fusion': 10,\n",
       "         'copy number gain': 596,\n",
       "         'copy number loss': 813,\n",
       "         'Complex': 63,\n",
       "         'protein only': 99,\n",
       "         'Microsatellite': 12,\n",
       "         'Tandem duplication': 1})"
      ]
     },
     "execution_count": 64,
     "metadata": {},
     "output_type": "execute_result"
    }
   ],
   "source": [
    "variant_type_hist"
   ]
  },
  {
   "cell_type": "code",
   "execution_count": 29,
   "id": "6f3c68a1",
   "metadata": {},
   "outputs": [
    {
     "data": {
      "text/plain": [
       "<BarContainer object of 8 artists>"
      ]
     },
     "execution_count": 29,
     "metadata": {},
     "output_type": "execute_result"
    },
    {
     "data": {
      "image/png": "[encoded data removed]",
      "text/plain": [
       "<Figure size 1080x504 with 1 Axes>"
      ]
     },
     "metadata": {
      "needs_background": "light"
     },
     "output_type": "display_data"
    }
   ],
   "source": [
    "other_counts = {\n",
    "    'Canonical SPDI': spdi_count,\n",
    "    'Any HGVS': hgvs_count,\n",
    "    'Top level refseq HGVS': toplevel_refseq_hgvs_count,\n",
    "    'Cytogenetic location': cytogenetic_count,\n",
    "    'chr, start, stop': start_stop_count,\n",
    "    'official hgvs parser': strict_parseable_hgvs_count,\n",
    "    'our hgvs parser': our_parseable_hgvs_count,\n",
    "    'any hgvs parser': any_parseable_hgvs_count,\n",
    "}\n",
    "plt.figure(figsize=(15,7))\n",
    "plt.xticks(rotation='vertical')\n",
    "plt.title('Variant Descriptors (no functional consequences and incomplete coordinates)')\n",
    "plt.bar(other_counts.keys(), other_counts.values())"
   ]
  },
  {
   "cell_type": "code",
   "execution_count": 28,
   "id": "4b6489be",
   "metadata": {},
   "outputs": [
    {
     "data": {
      "text/plain": [
       "{'Canonical SPDI': 183,\n",
       " 'Any HGVS': 13619,\n",
       " 'Top level refseq HGVS': 6730,\n",
       " 'Cytogenetic location': 16317,\n",
       " 'chr, start, stop': 1344,\n",
       " 'official hgvs parser': 2402,\n",
       " 'our hgvs parser': 3165,\n",
       " 'any hgvs parser': 3226}"
      ]
     },
     "execution_count": 28,
     "metadata": {},
     "output_type": "execute_result"
    }
   ],
   "source": [
    "other_counts"
   ]
  },
  {
   "cell_type": "code",
   "execution_count": 6,
   "id": "1ffe2f41",
   "metadata": {
    "scrolled": true
   },
   "outputs": [],
   "source": [
    "def print_link_for_type(variant_type, min_score=-1):\n",
    "    for record in dataset:\n",
    "        if record.measure:\n",
    "            m = record.measure\n",
    "            if m.has_complete_coordinates:\n",
    "                continue\n",
    "\n",
    "            if m.variant_type == variant_type and record.score >= min_score:\n",
    "                print(f'https://www.ncbi.nlm.nih.gov/clinvar/{record.accession}/')"
   ]
  },
  {
   "cell_type": "code",
   "execution_count": null,
   "id": "90facbe7",
   "metadata": {
    "scrolled": false
   },
   "outputs": [],
   "source": [
    "print_link_for_type('Microsatellite', min_score=1)"
   ]
  },
  {
   "cell_type": "markdown",
   "id": "f21a6fda",
   "metadata": {},
   "source": [
    "### Examples\n",
    "\n",
    "Some hand-picked examples of complex variants from ClinVar.  For each type I tried to choose at least one that seemed \"typical\" and one that was relatively high quality to get an idea of the variability, but no guarantees for how representative these are.\n",
    "\n",
    "* Duplication\n",
    "    * https://www.ncbi.nlm.nih.gov/clinvar/variation/1062574/\n",
    "    * https://www.ncbi.nlm.nih.gov/clinvar/variation/89496/\n",
    "* Deletion\n",
    "    * https://www.ncbi.nlm.nih.gov/clinvar/variation/1011851/\n",
    "* Inversion\n",
    "    * https://www.ncbi.nlm.nih.gov/clinvar/variation/268016/\n",
    "    * https://www.ncbi.nlm.nih.gov/clinvar/variation/90611/\n",
    "* Translocation\n",
    "    * https://www.ncbi.nlm.nih.gov/clinvar/variation/267959/\n",
    "    * https://www.ncbi.nlm.nih.gov/clinvar/variation/267873/\n",
    "    * https://www.ncbi.nlm.nih.gov/clinvar/variation/1012364/\n",
    "* copy number gain\n",
    "    * https://www.ncbi.nlm.nih.gov/clinvar/variation/523250/\n",
    "    * https://www.ncbi.nlm.nih.gov/clinvar/variation/870516/\n",
    "* copy number loss\n",
    "    * https://www.ncbi.nlm.nih.gov/clinvar/variation/1047901/\n",
    "    * https://www.ncbi.nlm.nih.gov/clinvar/variation/625801/\n",
    "* Complex\n",
    "    * https://www.ncbi.nlm.nih.gov/clinvar/variation/267835/\n",
    "    * https://www.ncbi.nlm.nih.gov/clinvar/variation/585332/"
   ]
  },
  {
   "cell_type": "markdown",
   "id": "fd91a60b",
   "metadata": {},
   "source": [
    "### Appendix A: Marcos' questions\n",
    "\n",
    "* What do the HGVS parser numbers mean?\n",
    "    * This is the number of records which had at least one HGVS descriptor for which the specified parser was able to extract _some_ information.  For the official parser this means not throwing an exception; for our parser this means returning some non-`None` properties (though note our parser was originally written for the repeat expansion pipeline).\n",
    "* What's the total number of HGVS we can parse with either parser?\n",
    "    * added to the above chart.\n",
    "* From the variants with cytogenetic location, how many did not have any of the other descriptors, if any?\n",
    "    * see below"
   ]
  },
  {
   "cell_type": "code",
   "execution_count": 22,
   "id": "c9ce7200",
   "metadata": {},
   "outputs": [],
   "source": [
    "# exclusive counts - hgvs and nothing else, cytogenetic and nothing else, start/stop and nothing else\n",
    "hgvs_only_count = 0\n",
    "cytogenetic_only_count = 0\n",
    "start_stop_only_count = 0\n",
    "\n",
    "for record in dataset:\n",
    "    if record.measure:\n",
    "        m = record.measure\n",
    "        if m.has_complete_coordinates:\n",
    "            continue\n",
    "            \n",
    "        has_hgvs = m.hgvs\n",
    "        has_cytogenetic = find_elements(m.measure_xml, './CytogeneticLocation')\n",
    "        has_start_stop = m.chr and m.sequence_location_helper('start') and m.sequence_location_helper('stop')\n",
    "\n",
    "        if has_hgvs and not has_cytogenetic and not has_start_stop:\n",
    "            hgvs_only_count += 1\n",
    "        elif has_cytogenetic and not has_hgvs and not has_start_stop:\n",
    "            cytogenetic_only_count += 1\n",
    "        elif has_start_stop and not has_hgvs and not has_cytogenetic:\n",
    "            start_stop_only_count += 1"
   ]
  },
  {
   "cell_type": "code",
   "execution_count": 25,
   "id": "a7d85ca4",
   "metadata": {},
   "outputs": [
    {
     "data": {
      "text/plain": [
       "<BarContainer object of 3 artists>"
      ]
     },
     "execution_count": 25,
     "metadata": {},
     "output_type": "execute_result"
    },
    {
     "data": {
      "image/png": "[encoded data removed]",
      "text/plain": [
       "<Figure size 720x504 with 1 Axes>"
      ]
     },
     "metadata": {
      "needs_background": "light"
     },
     "output_type": "display_data"
    }
   ],
   "source": [
    "exclusive_counts = {\n",
    "    'Only HGVS': hgvs_only_count,\n",
    "    'Only cytogenetic': cytogenetic_only_count,\n",
    "    'Only chr/start/stop': start_stop_only_count\n",
    "}\n",
    "plt.figure(figsize=(10,7))\n",
    "plt.title('Variant Descriptors (no functional consequences and incomplete coordinates)')\n",
    "plt.bar(exclusive_counts.keys(), exclusive_counts.values())"
   ]
  },
  {
   "cell_type": "code",
   "execution_count": 24,
   "id": "aab0330e",
   "metadata": {},
   "outputs": [
    {
     "data": {
      "text/plain": [
       "{'Only HGVS': 1277, 'Only cytogenetic': 3821, 'Only chr/start/stop': 0}"
      ]
     },
     "execution_count": 24,
     "metadata": {},
     "output_type": "execute_result"
    }
   ],
   "source": [
    "exclusive_counts"
   ]
  },
  {
   "cell_type": "markdown",
   "id": "32449ee6",
   "metadata": {},
   "source": [
    "### Appendix B: More HGVS parsing exploration\n",
    "\n",
    "HGVS python library [doesn't support ranges](https://github.com/biocommons/hgvs/issues/225).\n",
    "\n",
    "[VEP API](https://rest.ensembl.org/#VEP) has some limited support for HGVS."
   ]
  },
  {
   "cell_type": "code",
   "execution_count": 29,
   "id": "feb1ae9e",
   "metadata": {
    "scrolled": true
   },
   "outputs": [
    {
     "name": "stdout",
     "output_type": "stream",
     "text": [
      "NC_000011.10:g.(?_17605796)_(17612832_?)del FAILED\n",
      "NC_000011.10:g.(17605790_17605796)_(17612832_1761283)del FAILED\n",
      "NC_000011.10:g.17605796_17612832del SUCCESS\n",
      "NC_000011.10:g.?_17612832del SUCCESS\n"
     ]
    }
   ],
   "source": [
    "def try_to_parse(hgvs):\n",
    "    try:\n",
    "        parser.parse_hgvs_variant(hgvs)\n",
    "        print(hgvs, 'SUCCESS')\n",
    "    except:\n",
    "        print(hgvs, 'FAILED')\n",
    "\n",
    "\n",
    "try_to_parse('NC_000011.10:g.(?_17605796)_(17612832_?)del')\n",
    "try_to_parse('NC_000011.10:g.(17605790_17605796)_(17612832_1761283)del')\n",
    "try_to_parse('NC_000011.10:g.17605796_17612832del')\n",
    "try_to_parse('NC_000011.10:g.?_17612832del')"
   ]
  },
  {
   "cell_type": "code",
   "execution_count": 4,
   "id": "0e985b80",
   "metadata": {},
   "outputs": [
    {
     "name": "stdout",
     "output_type": "stream",
     "text": [
      "{'error': \"Unable to parse HGVS notation 'NC_000011.10:g.(?_17605796)_(17612832_?)del': HGVS notation for variation with unknown location is not supported\"}\n",
      "{'error': \"Unable to parse HGVS notation 'NC_000011.10:g.(17605790_17605796)_(17612832_1761283)del': Could not parse the HGVS notation NC_000011.10:g.(17605790_17605796)_(17612832_1761283)del - can't interpret '(17612832_1761283)'\"}\n",
      "{'error': \"Unable to parse HGVS notation 'NC_000011.10:g.17605796_17612832del': Region requested must be smaller than 5kb\"}\n",
      "{'error': 'You must specify a region in the format chr, chr:start or chr:start-end at /nfs/public/release/ensweb/live/rest/www_104/.plenv/versions/5.26.1/lib/perl5/site_perl/5.26.1/x86_64-linux/Bio/DB/HTS/Tabix.pm line 104.\\n'}\n"
     ]
    }
   ],
   "source": [
    "def try_to_vep(hgvs):\n",
    "    safe_hgvs = urllib.parse.quote(hgvs)\n",
    "    vep_url = f'https://rest.ensembl.org/vep/human/hgvs/{safe_hgvs}?content-type=application/json'\n",
    "    resp = requests.get(vep_url)\n",
    "    print(resp.json())\n",
    "    \n",
    "\n",
    "try_to_vep('NC_000011.10:g.(?_17605796)_(17612832_?)del')\n",
    "try_to_vep('NC_000011.10:g.(17605790_17605796)_(17612832_1761283)del')\n",
    "try_to_vep('NC_000011.10:g.17605796_17612832del')\n",
    "try_to_vep('NC_000011.10:g.?_17612832del')"
   ]
  },
  {
   "cell_type": "code",
   "execution_count": null,
   "id": "db15159e",
   "metadata": {},
   "outputs": [],
   "source": []
  }
 ],
 "metadata": {
  "kernelspec": {
   "display_name": "Python 3 (ipykernel)",
   "language": "python",
   "name": "python3"
  },
  "language_info": {
   "codemirror_mode": {
    "name": "ipython",
    "version": 3
   },
   "file_extension": ".py",
   "mimetype": "text/x-python",
   "name": "python",
   "nbconvert_exporter": "python",
   "pygments_lexer": "ipython3",
   "version": "3.8.10"
  }
 },
 "nbformat": 4,
 "nbformat_minor": 5
}
