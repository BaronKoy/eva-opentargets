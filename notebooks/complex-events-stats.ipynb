{
 "cells": [
  {
   "cell_type": "code",
   "execution_count": 55,
   "id": "5f254a99",
   "metadata": {},
   "outputs": [],
   "source": [
    "from eva_cttv_pipeline.clinvar_xml_utils import *\n",
    "from consequence_prediction.repeat_expansion_variants.clinvar_identifier_parsing import parse_variant_identifier\n",
    "\n",
    "import os\n",
    "from urllib import request\n",
    "import xml.etree.ElementTree as ElementTree\n",
    "from collections import Counter\n",
    "\n",
    "import hgvs.parser\n",
    "from hgvs.exceptions import HGVSParseError\n",
    "\n",
    "import numpy as np\n",
    "import pandas as pd"
   ]
  },
  {
   "cell_type": "code",
   "execution_count": 56,
   "id": "19437731",
   "metadata": {},
   "outputs": [],
   "source": [
    "%matplotlib inline\n",
    "import matplotlib.pyplot as plt"
   ]
  },
  {
   "cell_type": "code",
   "execution_count": 58,
   "id": "e08ce3ea",
   "metadata": {},
   "outputs": [],
   "source": [
    "parser = hgvs.parser.Parser()"
   ]
  },
  {
   "cell_type": "code",
   "execution_count": 59,
   "id": "624aa9f8",
   "metadata": {},
   "outputs": [],
   "source": [
    "PROJECT_ROOT = '/home/april/projects/opentargets'\n",
    "\n",
    "# dump of all records with no functional consequences: June consequence pred + ClinVar 6/26/2021\n",
    "no_consequences_path = os.path.join(PROJECT_ROOT, 'no-consequences.xml.gz')"
   ]
  },
  {
   "cell_type": "code",
   "execution_count": 60,
   "id": "23153ed0",
   "metadata": {},
   "outputs": [],
   "source": [
    "dataset = ClinVarDataset(no_consequences_path)"
   ]
  },
  {
   "cell_type": "markdown",
   "id": "b45cfc78",
   "metadata": {},
   "source": [
    "## Gather counts\n",
    "\n",
    "Among records with no functional consequences\n",
    "* how many of each variant type\n",
    "* how many have hgvs, sequence location w/ start/stop position at least, cytogenic location\n",
    "* of those with hgvs, how many can the library parse?\n",
    "    * how many can our code parse?"
   ]
  },
  {
   "cell_type": "code",
   "execution_count": null,
   "id": "333109f6",
   "metadata": {
    "scrolled": true
   },
   "outputs": [],
   "source": [
    "variant_type_hist = Counter()\n",
    "total_count = 0\n",
    "\n",
    "spdi_count = 0\n",
    "hgvs_count = 0\n",
    "toplevel_refseq_hgvs_count = 0\n",
    "cytogenetic_count = 0\n",
    "start_stop_count = 0\n",
    "strict_parseable_hgvs_count = 0\n",
    "our_parseable_hgvs_count = 0\n",
    "\n",
    "for record in dataset:\n",
    "    if record.measure:\n",
    "        m = record.measure\n",
    "        if m.has_complete_coordinates:\n",
    "            continue\n",
    "            \n",
    "        total_count += 1\n",
    "        variant_type_hist[m.variant_type] += 1\n",
    "            \n",
    "        # hgvs count\n",
    "        if m.hgvs:\n",
    "            hgvs_count += 1\n",
    "            if m.toplevel_refseq_hgvs:\n",
    "                toplevel_refseq_hgvs_count += 1\n",
    "\n",
    "            # parseability\n",
    "            one_strict_parseable = False\n",
    "            one_our_parseable = False\n",
    "            for hgvs in m.hgvs:\n",
    "                try:\n",
    "                    parser.parse_hgvs_variant(hgvs)\n",
    "                    one_strict_parseable = True\n",
    "                except:\n",
    "                    pass\n",
    "                try:\n",
    "                    if any(parse_variant_identifier(hgvs)):\n",
    "                        one_our_parseable = True\n",
    "                except:\n",
    "                    pass\n",
    "            if one_strict_parseable:\n",
    "                strict_parseable_hgvs_count += 1\n",
    "            if one_our_parseable:\n",
    "                our_parseable_hgvs_count += 1\n",
    "                \n",
    "            \n",
    "        measure_xml = m.measure_xml\n",
    "        if find_elements(measure_xml, './CytogeneticLocation'):\n",
    "            cytogenetic_count += 1\n",
    "        if find_elements(measure_xml, './CanonicalSPDI'):\n",
    "            spdi_count += 1\n",
    "        \n",
    "        # probably the minimum we need for consequence prediction\n",
    "        if m.sequence_location_helper('Chr') and m.sequence_location_helper('start') and m.sequence_location_helper('stop'):\n",
    "            start_stop_count += 1"
   ]
  },
  {
   "cell_type": "code",
   "execution_count": 87,
   "id": "cc37c02a",
   "metadata": {},
   "outputs": [
    {
     "name": "stdout",
     "output_type": "stream",
     "text": [
      "17649\n"
     ]
    }
   ],
   "source": [
    "print(total_count)"
   ]
  },
  {
   "cell_type": "code",
   "execution_count": 94,
   "id": "322f59a4",
   "metadata": {},
   "outputs": [
    {
     "data": {
      "text/plain": [
       "<BarContainer object of 15 artists>"
      ]
     },
     "execution_count": 94,
     "metadata": {},
     "output_type": "execute_result"
    },
    {
     "data": {
      "image/png": "[encoded data removed]",
      "text/plain": [
       "<Figure size 1080x504 with 1 Axes>"
      ]
     },
     "metadata": {
      "needs_background": "light"
     },
     "output_type": "display_data"
    }
   ],
   "source": [
    "plt.figure(figsize=(15,7))\n",
    "plt.xticks(rotation='vertical')\n",
    "plt.title('Variant Types (no functional consequences and incomplete coordinates)')\n",
    "plt.bar(variant_type_hist.keys(), variant_type_hist.values())"
   ]
  },
  {
   "cell_type": "code",
   "execution_count": 64,
   "id": "f7786a5b",
   "metadata": {},
   "outputs": [
    {
     "data": {
      "text/plain": [
       "Counter({'Deletion': 9937,\n",
       "         'Insertion': 552,\n",
       "         'single nucleotide variant': 864,\n",
       "         'Variation': 311,\n",
       "         'Duplication': 3875,\n",
       "         'Indel': 213,\n",
       "         'Inversion': 73,\n",
       "         'Translocation': 230,\n",
       "         'fusion': 10,\n",
       "         'copy number gain': 596,\n",
       "         'copy number loss': 813,\n",
       "         'Complex': 63,\n",
       "         'protein only': 99,\n",
       "         'Microsatellite': 12,\n",
       "         'Tandem duplication': 1})"
      ]
     },
     "execution_count": 64,
     "metadata": {},
     "output_type": "execute_result"
    }
   ],
   "source": [
    "variant_type_hist"
   ]
  },
  {
   "cell_type": "code",
   "execution_count": 91,
   "id": "6f3c68a1",
   "metadata": {},
   "outputs": [
    {
     "data": {
      "text/plain": [
       "<BarContainer object of 7 artists>"
      ]
     },
     "execution_count": 91,
     "metadata": {},
     "output_type": "execute_result"
    },
    {
     "data": {
      "image/png": "[encoded data removed]",
      "text/plain": [
       "<Figure size 1080x504 with 1 Axes>"
      ]
     },
     "metadata": {
      "needs_background": "light"
     },
     "output_type": "display_data"
    }
   ],
   "source": [
    "other_counts = {\n",
    "    'Canonical SPDI': spdi_count,\n",
    "    'Any HGVS': hgvs_count,\n",
    "    'Top level refseq HGVS': toplevel_refseq_hgvs_count,\n",
    "    'Cytogenetic location': cytogenetic_count,\n",
    "    'chr, start, stop': start_stop_count,\n",
    "    'official hgvs parser': strict_parseable_hgvs_count,\n",
    "    'our hgvs parser': our_parseable_hgvs_count\n",
    "}\n",
    "plt.figure(figsize=(15,7))\n",
    "plt.title('Variant Descriptors (no functional consequences and incomplete coordinates)')\n",
    "plt.bar(other_counts.keys(), other_counts.values())"
   ]
  },
  {
   "cell_type": "code",
   "execution_count": 66,
   "id": "4b6489be",
   "metadata": {},
   "outputs": [
    {
     "data": {
      "text/plain": [
       "{'Canonical SPDI': 183,\n",
       " 'Any HGVS': 13619,\n",
       " 'Top level refseq HGVS': 6730,\n",
       " 'Cytogenetic location': 16317,\n",
       " 'chr, start, stop': 1344,\n",
       " 'official hgvs parser': 2402,\n",
       " 'our hgvs parser': 3165}"
      ]
     },
     "execution_count": 66,
     "metadata": {},
     "output_type": "execute_result"
    }
   ],
   "source": [
    "other_counts"
   ]
  },
  {
   "cell_type": "markdown",
   "id": "f21a6fda",
   "metadata": {},
   "source": [
    "### Examples\n",
    "\n",
    "Some hand-picked examples of complex variants from ClinVar.  For each type I tried to choose at least one that seemed \"typical\" and one that was relatively high quality to get an idea of the variability, but no guarantees for how representative these are.\n",
    "\n",
    "* Duplication\n",
    "    * https://www.ncbi.nlm.nih.gov/clinvar/variation/1062574/\n",
    "    * https://www.ncbi.nlm.nih.gov/clinvar/variation/89496/\n",
    "* Deletion\n",
    "    * https://www.ncbi.nlm.nih.gov/clinvar/variation/1011851/\n",
    "* Inversion\n",
    "    * https://www.ncbi.nlm.nih.gov/clinvar/variation/268016/\n",
    "    * https://www.ncbi.nlm.nih.gov/clinvar/variation/90611/\n",
    "* Translocation\n",
    "    * https://www.ncbi.nlm.nih.gov/clinvar/variation/267959/\n",
    "    * https://www.ncbi.nlm.nih.gov/clinvar/variation/267873/\n",
    "    * https://www.ncbi.nlm.nih.gov/clinvar/variation/1012364/\n",
    "* copy number gain\n",
    "    * https://www.ncbi.nlm.nih.gov/clinvar/variation/523250/\n",
    "    * https://www.ncbi.nlm.nih.gov/clinvar/variation/870516/\n",
    "* copy number loss\n",
    "    * https://www.ncbi.nlm.nih.gov/clinvar/variation/1047901/\n",
    "    * https://www.ncbi.nlm.nih.gov/clinvar/variation/625801/\n",
    "* Complex\n",
    "    * https://www.ncbi.nlm.nih.gov/clinvar/variation/267835/\n",
    "    * https://www.ncbi.nlm.nih.gov/clinvar/variation/585332/"
   ]
  },
  {
   "cell_type": "code",
   "execution_count": 80,
   "id": "1ffe2f41",
   "metadata": {
    "scrolled": true
   },
   "outputs": [],
   "source": [
    "def print_link_for_type(variant_type, min_score=-1):\n",
    "    for record in dataset:\n",
    "        if record.measure:\n",
    "            m = record.measure\n",
    "            if m.has_complete_coordinates:\n",
    "                continue\n",
    "\n",
    "            if m.variant_type == variant_type and record.score >= min_score:\n",
    "                print(f'https://www.ncbi.nlm.nih.gov/clinvar/{record.accession}/')"
   ]
  },
  {
   "cell_type": "code",
   "execution_count": null,
   "id": "90facbe7",
   "metadata": {
    "scrolled": false
   },
   "outputs": [],
   "source": [
    "print_link_for_type('copy number loss', min_score=1)"
   ]
  },
  {
   "cell_type": "code",
   "execution_count": null,
   "id": "c24469de",
   "metadata": {},
   "outputs": [],
   "source": []
  }
 ],
 "metadata": {
  "kernelspec": {
   "display_name": "Python 3 (ipykernel)",
   "language": "python",
   "name": "python3"
  },
  "language_info": {
   "codemirror_mode": {
    "name": "ipython",
    "version": 3
   },
   "file_extension": ".py",
   "mimetype": "text/x-python",
   "name": "python",
   "nbconvert_exporter": "python",
   "pygments_lexer": "ipython3",
   "version": "3.8.10"
  }
 },
 "nbformat": 4,
 "nbformat_minor": 5
}
