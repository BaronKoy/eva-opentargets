{
 "cells": [
  {
   "cell_type": "code",
   "execution_count": 1,
   "id": "dd453fc6",
   "metadata": {},
   "outputs": [],
   "source": [
    "from collections import Counter\n",
    "import sys\n",
    "\n",
    "sys.path.append('..')"
   ]
  },
  {
   "cell_type": "code",
   "execution_count": 2,
   "id": "bc51f391",
   "metadata": {},
   "outputs": [],
   "source": [
    "from filter_clinvar_xml import filter_xml, pprint, iterate_cvs_from_xml\n",
    "from clinvar_xml_io.clinvar_xml_io import *"
   ]
  },
  {
   "cell_type": "markdown",
   "id": "6d43ee1a",
   "metadata": {},
   "source": [
    "## Filter dataset"
   ]
  },
  {
   "cell_type": "code",
   "execution_count": 3,
   "id": "45db52ed",
   "metadata": {},
   "outputs": [],
   "source": [
    "def drug_response(x: ClinVarRecord):\n",
    "    return 'drug response' in x.clinical_significance_list or x.trait_set_type == 'DrugResponse'"
   ]
  },
  {
   "cell_type": "code",
   "execution_count": 4,
   "id": "71ff356f",
   "metadata": {},
   "outputs": [
    {
     "name": "stderr",
     "output_type": "stream",
     "text": [
      "INFO:filter_clinvar_xml:Records written: 4970\n"
     ]
    }
   ],
   "source": [
    "filter_xml(\n",
    "    input_xml='/home/april/projects/opentargets/ClinVarFullRelease_00-latest.xml.gz',\n",
    "    output_xml='/home/april/projects/opentargets/drug-response.xml.gz',\n",
    "    filter_fct=drug_response,\n",
    "    max_num=None\n",
    ")"
   ]
  },
  {
   "cell_type": "code",
   "execution_count": 3,
   "id": "36613283",
   "metadata": {},
   "outputs": [],
   "source": [
    "drug_xml = '/home/april/projects/opentargets/drug-response.xml.gz'"
   ]
  },
  {
   "cell_type": "markdown",
   "id": "71aa022e",
   "metadata": {},
   "source": [
    "## Submitters of drug response data"
   ]
  },
  {
   "cell_type": "code",
   "execution_count": 4,
   "id": "4b9512c5",
   "metadata": {
    "scrolled": false
   },
   "outputs": [],
   "source": [
    "# For this we can't use ClinVarRecord as it only includes the RCV - submitter is in the SCV element\n",
    "all_submitters = []\n",
    "for raw_cvs_xml in iterate_cvs_from_xml(drug_xml):\n",
    "    scvs = find_elements(raw_cvs_xml, './ClinVarAssertion/ClinVarSubmissionID')\n",
    "    submitters = [scv.attrib.get('submitter') for scv in scvs]\n",
    "    all_submitters.extend(submitters)"
   ]
  },
  {
   "cell_type": "code",
   "execution_count": 5,
   "id": "702b9c8b",
   "metadata": {},
   "outputs": [],
   "source": [
    "submitter_counts = Counter(all_submitters)"
   ]
  },
  {
   "cell_type": "code",
   "execution_count": 6,
   "id": "c85fa0a4",
   "metadata": {},
   "outputs": [
    {
     "data": {
      "text/plain": [
       "37"
      ]
     },
     "execution_count": 6,
     "metadata": {},
     "output_type": "execute_result"
    }
   ],
   "source": [
    "len(submitter_counts)"
   ]
  },
  {
   "cell_type": "code",
   "execution_count": 7,
   "id": "00c8ee81",
   "metadata": {},
   "outputs": [
    {
     "data": {
      "text/plain": [
       "Counter({'PharmGKB': 401,\n",
       "         'OMIM': 84,\n",
       "         'Institute of Microbiology; University Hospital and Univeristy of Lausanne': 3,\n",
       "         'Neurology IV Unit; Fondazione Istituto Neurologico C. Besta': 1,\n",
       "         \"Center for Pediatric Genomic Medicine,Children's Mercy Hospital and Clinics\": 5,\n",
       "         'Laboratory for Molecular Medicine,Mass General Brigham Personalized Medicine': 58,\n",
       "         \"Center for Advanced Molecular Diagnostics, Cytogenetics Laboratory,Brigham and Women's Hospital\": 2,\n",
       "         'Center for Personalized Medicine, Roswell Park Cancer Institute': 1,\n",
       "         'Albrecht-Kossel-Institute,Medical University Rostock': 46,\n",
       "         'Genetic Testing Lab, Ashok and Rita Patel Institute of Integrated Study and Research in Biotechnology and Allied Sciences': 66,\n",
       "         'Oxford Haemato-Oncology Service,Oxford University Hospitals NHS Foundation Trust': 30,\n",
       "         'Kopetz Lab,MD Anderson Cancer Center': 2,\n",
       "         'Division of Hematology/Oncology, Florida,Mayo Clinic': 2,\n",
       "         'Centre for Translational Omics - GOSgene,University College London': 1,\n",
       "         'Genomic Research Center,Shahid Beheshti University of Medical Sciences': 1,\n",
       "         'Medical Genetics Summaries': 37,\n",
       "         'Aziz Sancar Institute of Experimental Medicine,Istanbul University': 1,\n",
       "         'Genitourinary Malignancies Research Center,Cleveland Clinic': 1,\n",
       "         'Division of Drug Research,Linkoping University': 4,\n",
       "         'OSU Cancer Genomics Laboratory, Ohio State University Medical Center': 1,\n",
       "         'Clinical Laboratory,New York Genome Center': 1,\n",
       "         'Pharmacogenomics Lab,Chungbuk National University': 12,\n",
       "         'Bioinformatics Institute,Agency for Science, Technology and Research': 3,\n",
       "         'UT Southwestern Medical Center, UT Southwestern Medical Center': 1,\n",
       "         'Applied Bioinformatics Laboratories,New York University School of Medicine': 1,\n",
       "         'Bruce Budowle Laboratory,University of North Texas Health Science Center': 1610,\n",
       "         'CIViC knowledgebase,Washington University School of Medicine': 6,\n",
       "         'Davare Laboratory,Oregon Health & Science University': 2,\n",
       "         'Equipe Genetique des Anomalies du Developpement, Université de Bourgogne': 4,\n",
       "         'Genetic Services Laboratory, University of Chicago': 2,\n",
       "         'Department of Genetics, Osmania University': 1,\n",
       "         'Diagnostic Laboratory, Department of Genetics, University Medical Center Groningen': 1,\n",
       "         'Clinical Genetics DNA and cytogenetics Diagnostics Lab, Erasmus MC, Erasmus Medical Center': 1,\n",
       "         'Genetics, Bhagwan Mahavir Medical Research Centre': 6,\n",
       "         'Institute of Medical Sciences, Banaras Hindu University': 1,\n",
       "         'Illumina Laboratory Services,Illumina': 112,\n",
       "         'Clinical Pharmacogenetics Implementation Consortium': 2469})"
      ]
     },
     "execution_count": 7,
     "metadata": {},
     "output_type": "execute_result"
    }
   ],
   "source": [
    "submitter_counts"
   ]
  },
  {
   "cell_type": "markdown",
   "id": "8f8c33fa",
   "metadata": {},
   "source": [
    "## Drug response attributes provided"
   ]
  },
  {
   "cell_type": "code",
   "execution_count": 8,
   "id": "e9e43fa1",
   "metadata": {},
   "outputs": [],
   "source": [
    "dataset = ClinVarDataset(drug_xml)"
   ]
  },
  {
   "cell_type": "code",
   "execution_count": 9,
   "id": "3dbbfdf2",
   "metadata": {
    "scrolled": true
   },
   "outputs": [],
   "source": [
    "all_trait_names = set()\n",
    "\n",
    "for r in dataset:\n",
    "    for trait in r.traits:\n",
    "        if trait.trait_xml.attrib['Type'] == 'DrugResponse':\n",
    "            all_trait_names.add(trait.preferred_or_other_valid_name)"
   ]
  },
  {
   "cell_type": "code",
   "execution_count": 10,
   "id": "cf6f8001",
   "metadata": {
    "scrolled": false
   },
   "outputs": [
    {
     "data": {
      "text/plain": [
       "{'AKT1 Inhibitor response',\n",
       " 'Aminoglycoside-induced deafness',\n",
       " 'Androgen deprivation therapy response',\n",
       " 'Anti-SEMA4D Monoclonal Antibody VX15/2503',\n",
       " 'Azathioprine response',\n",
       " 'CYP2C19: decreased function',\n",
       " 'CYP2C19: increased function',\n",
       " 'CYP2C19: no function',\n",
       " 'CYP2C19: normal function',\n",
       " 'CYP2C19: uncertain function',\n",
       " 'Cabozantinib resistance',\n",
       " 'Carbamazepine hypersensitivity',\n",
       " 'Citalopram response',\n",
       " 'Clopidogrel response',\n",
       " 'Codeine response',\n",
       " 'Corticosteroids response',\n",
       " 'Dabrafenib response',\n",
       " 'Debrisoquine, poor metabolism of',\n",
       " 'Debrisoquine, ultrarapid metabolism of',\n",
       " 'Deutetrabenazine response',\n",
       " 'Dopamine agonists response',\n",
       " 'Doxorubicin response',\n",
       " 'Efavirenz response',\n",
       " 'Entrectinib resistance',\n",
       " 'Erlotinib response',\n",
       " 'Escitalopram response',\n",
       " 'Everolimus response',\n",
       " 'Ezetimibe response',\n",
       " 'Fluorouracil response',\n",
       " 'Flurbiprofen response',\n",
       " 'Gefitinib response',\n",
       " 'Gemcitabine response',\n",
       " 'Gentamicin response',\n",
       " 'Glipizide response',\n",
       " 'Histone Methylation Therapy response',\n",
       " 'Imatinib response',\n",
       " 'Irinotecan response',\n",
       " 'Larotrectinib resistance',\n",
       " 'Lesinurad response',\n",
       " 'Migalastat response',\n",
       " 'Mitogen-activated protein kinase kinase inhibitor response',\n",
       " 'Pazopanib response',\n",
       " 'Pemigatinib resistance',\n",
       " 'Phenytoin response',\n",
       " 'Piroxicam response',\n",
       " 'Platinum compounds response - Efficacy',\n",
       " 'Poly (ADP-Ribose) polymerase inhibitor response',\n",
       " 'Prednisolone response',\n",
       " 'Programmed death ligand-1 (PD-L1) blocking antibody response',\n",
       " 'Ras Inhibitor response',\n",
       " 'Regorafenib response',\n",
       " 'Repotrectinib resistance',\n",
       " 'Selitrectinib resistance',\n",
       " 'Sertraline response',\n",
       " 'Slow acetylator due to N-acetyltransferase enzyme variant',\n",
       " 'Suxamethonium response - slow metabolism',\n",
       " 'Tamoxifen response',\n",
       " 'Tegafur response',\n",
       " 'Thiopurine response',\n",
       " 'Tolbutamide response',\n",
       " 'Tramadol response',\n",
       " 'Trametinib-Dabrafenib Response',\n",
       " 'Tretinoin response',\n",
       " 'Tyrosine kinase inhibitor response',\n",
       " 'Vascular endothelial growth factor (VEGF) inhibitor response',\n",
       " 'Vemurafenib-Cobimetinib Response',\n",
       " 'Voriconazole response',\n",
       " 'Warfarin response',\n",
       " 'Wee1 Inhibitor response',\n",
       " 'acenocoumarol response - Dosage',\n",
       " 'amikacin response - Toxicity',\n",
       " 'aminoglycoside antibacterials response - Toxicity',\n",
       " 'atorvastatin response - Efficacy',\n",
       " 'atorvastatin response - Metabolism/PK',\n",
       " 'atorvastatin response - Toxicity',\n",
       " 'azathioprine response - Toxicity',\n",
       " 'boceprevir, peginterferon alfa-2a, peginterferon alfa-2b and ribavirin response - Efficacy',\n",
       " 'capecitabine response - Toxicity',\n",
       " 'captopril response - Efficacy',\n",
       " 'carbamazepine response - Dosage',\n",
       " 'carboxymethyl-dextran-A2-gadolinium-DOTA',\n",
       " 'citalopram response - Metabolism/PK',\n",
       " 'clopidogrel response - Dosage, Efficacy, Toxicity/ADR',\n",
       " 'clopidogrel response - Efficacy',\n",
       " 'clopidogrel response - Metabolism/PK',\n",
       " 'desflurane response - Toxicity',\n",
       " 'efavirenz response - Metabolism/PK',\n",
       " 'efavirenz response - Toxicity',\n",
       " 'enflurane response - Toxicity',\n",
       " 'erlotinib response - Efficacy',\n",
       " 'escitalopram response - Metabolism/PK',\n",
       " 'etanercept response - Efficacy',\n",
       " 'ethanol response - Toxicity',\n",
       " 'fluorouracil response - Other',\n",
       " 'fluorouracil response - Toxicity',\n",
       " 'gefitinib response - Efficacy',\n",
       " 'gentamicin response - Toxicity',\n",
       " 'halothane response - Toxicity',\n",
       " 'hmg coa reductase inhibitors response - Toxicity',\n",
       " 'hydrochlorothiazide response - Efficacy',\n",
       " 'interferons, peginterferon alfa-2a, peginterferon alfa-2b, and ribavirin response - Efficacy',\n",
       " 'irinotecan response - Toxicity',\n",
       " 'isoflurane response - Toxicity',\n",
       " 'ivacaftor / lumacaftor response - Efficacy',\n",
       " 'ivacaftor / tezacaftor response - Efficacy',\n",
       " 'ivacaftor response - Efficacy',\n",
       " 'kanamycin response - Toxicity',\n",
       " 'mTOR Inhibitor response',\n",
       " 'mercaptopurine response - Dosage',\n",
       " 'methotrexate response - Efficacy',\n",
       " 'methotrexate response - Metabolism/PK',\n",
       " 'methotrexate response - Toxicity',\n",
       " 'methoxyflurane response - Toxicity',\n",
       " 'nevirapine response - Metabolism/PK',\n",
       " 'nevirapine response - Toxicity',\n",
       " 'nicotine response - Toxicity',\n",
       " 'peginterferon alfa-2a response - Efficacy',\n",
       " 'peginterferon alfa-2a, peginterferon alfa-2b, and ribavirin response - Efficacy',\n",
       " 'peginterferon alfa-2a, peginterferon alfa-2b, ribavirin, and telaprevir response - Efficacy',\n",
       " 'peginterferon alfa-2b and ribavirin response - Toxicity',\n",
       " 'peginterferon alfa-2b response - Efficacy',\n",
       " 'phenprocoumon response - Dosage',\n",
       " 'phenprocoumon response - Toxicity',\n",
       " 'pravastatin response - Efficacy',\n",
       " 'ribavirin response - Efficacy',\n",
       " 'rosuvastatin response - Efficacy',\n",
       " 'rosuvastatin response - Metabolism/PK',\n",
       " 'salmeterol response - Efficacy',\n",
       " 'sevoflurane response - Toxicity',\n",
       " 'simvastatin acid response - Metabolism/PK',\n",
       " 'simvastatin response - Toxicity',\n",
       " 'streptomycin response - Toxicity',\n",
       " 'succinylcholine response - Toxicity',\n",
       " 'tacrolimus response - Metabolism/PK',\n",
       " 'tegafur response - Toxicity',\n",
       " 'tobramycin response - Toxicity',\n",
       " 'warfarin response - Dosage',\n",
       " 'warfarin response - Toxicity',\n",
       " 'warfarin response - Toxicity/ADR'}"
      ]
     },
     "execution_count": 10,
     "metadata": {},
     "output_type": "execute_result"
    }
   ],
   "source": [
    "all_trait_names"
   ]
  },
  {
   "cell_type": "markdown",
   "id": "ed7bd40c",
   "metadata": {},
   "source": [
    "## Summary\n",
    "\n",
    "* 4970 drug response records in June 2022 data\n",
    "* 37 different submitters - not just PharmGKB!\n",
    "* Not much in ClinVar XML besides the trait name itself\n",
    "    * According to [clinical significance docs](https://www.ncbi.nlm.nih.gov/clinvar/docs/clinsig/) they \"anticipate adding more specific drug response terms based on a recommendation by CPIC.\"\n",
    "* Trait names have variable informativeness\n",
    "    * Often just \"response\"\n",
    "    * Can include PharmGKB categories like `Efficacy`, `Dosage`, `Toxicity`, etc. (possibly these are just PharmGKB submissions?)\n",
    "    * Can occasionally include indication of direction - e.g. `Cabozantinib resistance`, `Carbamazepine hypersensitivity`, `Debrisoquine, ultrarapid metabolism of`, `Suxamethonium response - slow metabolism`\n"
   ]
  },
  {
   "cell_type": "code",
   "execution_count": null,
   "id": "04c37c6e",
   "metadata": {},
   "outputs": [],
   "source": []
  }
 ],
 "metadata": {
  "kernelspec": {
   "display_name": "Python 3 (ipykernel)",
   "language": "python",
   "name": "python3"
  },
  "language_info": {
   "codemirror_mode": {
    "name": "ipython",
    "version": 3
   },
   "file_extension": ".py",
   "mimetype": "text/x-python",
   "name": "python",
   "nbconvert_exporter": "python",
   "pygments_lexer": "ipython3",
   "version": "3.8.10"
  }
 },
 "nbformat": 4,
 "nbformat_minor": 5
}
