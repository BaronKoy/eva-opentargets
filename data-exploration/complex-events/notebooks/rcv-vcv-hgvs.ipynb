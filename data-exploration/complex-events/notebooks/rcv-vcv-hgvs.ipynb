{
 "cells": [
  {
   "cell_type": "markdown",
   "id": "cd4f3675",
   "metadata": {},
   "source": [
    "### How to associate consequences derived from HGVS expressions with ClinVar records?"
   ]
  },
  {
   "cell_type": "code",
   "execution_count": 1,
   "id": "1d08cfd3",
   "metadata": {},
   "outputs": [],
   "source": [
    "from collections import defaultdict, Counter\n",
    "from itertools import zip_longest\n",
    "import json\n",
    "import os\n",
    "import re\n",
    "import sys\n",
    "import urllib\n",
    "\n",
    "import numpy as np\n",
    "import requests\n",
    "\n",
    "from eva_cttv_pipeline.clinvar_xml_io.clinvar_xml_io import *\n",
    "\n",
    "%matplotlib inline\n",
    "import matplotlib.pyplot as plt"
   ]
  },
  {
   "cell_type": "code",
   "execution_count": 2,
   "id": "d038ac30",
   "metadata": {},
   "outputs": [],
   "source": [
    "from eva_cttv_pipeline.clinvar_xml_io.clinvar_xml_io.hgvs_variant import HgvsVariant"
   ]
  },
  {
   "cell_type": "code",
   "execution_count": 3,
   "id": "348c15e1",
   "metadata": {},
   "outputs": [],
   "source": [
    "PROJECT_ROOT = '/home/april/projects/opentargets/'\n",
    "clinvar_path = os.path.join(PROJECT_ROOT, 'ClinVarFullRelease_00-latest.xml.gz')\n",
    "# clinvar_path = os.path.join(PROJECT_ROOT, 'clinvar-sample.xml.gz')\n",
    "dataset = ClinVarDataset(clinvar_path)"
   ]
  },
  {
   "cell_type": "code",
   "execution_count": 4,
   "id": "aa2d5414",
   "metadata": {},
   "outputs": [],
   "source": [
    "def vcv(record):\n",
    "    if record.measure:\n",
    "        return find_mandatory_unique_element(record.rcv, './MeasureSet').attrib['Acc']"
   ]
  },
  {
   "cell_type": "code",
   "execution_count": 30,
   "id": "fd5542d9",
   "metadata": {},
   "outputs": [],
   "source": [
    "limit = None\n",
    "\n",
    "# for each HGVS that structural variants pipeline would process, how many rcvs/vcvs are associated?\n",
    "#  and would any of them potentially get annotated by the simple VEP pipeline? (assuming repeats override complex)\n",
    "complex_hgvs_to_complex_rcv = defaultdict(list)\n",
    "complex_hgvs_to_complex_vcv = defaultdict(list)\n",
    "\n",
    "complex_hgvs_to_other_rcv = defaultdict(list)\n",
    "complex_hgvs_to_other_vcv = defaultdict(list)\n",
    "\n",
    "i = 0\n",
    "for r in dataset:\n",
    "    if pipeline.can_process(r):\n",
    "        complex_hgvs = [h for h in r.measure.current_hgvs if h is not None]\n",
    "        for h in complex_hgvs:\n",
    "            complex_hgvs_to_complex_rcv[h].append(r.accession)\n",
    "            complex_hgvs_to_complex_vcv[h].append(vcv(r))\n",
    "    else:\n",
    "        if r.measure and r.measure.current_hgvs:\n",
    "            other_hgvs = [h for h in r.measure.current_hgvs if h is not None]\n",
    "            for h in other_hgvs:\n",
    "                if h in complex_hgvs_to_complex_rcv:\n",
    "                    complex_hgvs_to_other_rcv[h].append(r.accession)\n",
    "                    complex_hgvs_to_other_vcv[h].append(vcv(r))\n",
    "    i += 1\n",
    "    if limit and i > limit:\n",
    "        break"
   ]
  },
  {
   "cell_type": "markdown",
   "id": "15ad4bfb",
   "metadata": {},
   "source": [
    "### Part 1: \"Problem\" RCVs\n",
    "\n",
    "RCVs with and without coordinates that are associated with the same genomic HGVS."
   ]
  },
  {
   "cell_type": "code",
   "execution_count": 48,
   "id": "b84b8dd0",
   "metadata": {},
   "outputs": [],
   "source": [
    "from eva_cttv_pipeline.clinvar_xml_io.clinvar_xml_io.hgvs_variant import SequenceType\n",
    "\n",
    "problem_rcvs = []\n",
    "for h in complex_hgvs_to_other_rcv.keys():\n",
    "    if HgvsVariant(h).sequence_type == SequenceType.GENOMIC:\n",
    "        problem_rcvs.extend(complex_hgvs_to_other_rcv[h])\n",
    "        problem_rcvs.extend(complex_hgvs_to_complex_rcv[h])\n",
    "problem_rcvs = set(problem_rcvs)"
   ]
  },
  {
   "cell_type": "code",
   "execution_count": 49,
   "id": "317a1a59",
   "metadata": {},
   "outputs": [
    {
     "data": {
      "text/plain": [
       "{'RCV000020022',\n",
       " 'RCV000235026',\n",
       " 'RCV000516854',\n",
       " 'RCV000556621',\n",
       " 'RCV001169937',\n",
       " 'RCV001192398',\n",
       " 'RCV001780504',\n",
       " 'RCV001783376'}"
      ]
     },
     "execution_count": 49,
     "metadata": {},
     "output_type": "execute_result"
    }
   ],
   "source": [
    "problem_rcvs  # includes both complex and \"other\" rcvs"
   ]
  },
  {
   "cell_type": "code",
   "execution_count": 54,
   "id": "b118a563",
   "metadata": {
    "scrolled": false
   },
   "outputs": [
    {
     "name": "stdout",
     "output_type": "stream",
     "text": [
      "RCV001780504\n",
      "VCV001322084\n",
      "['LRG_1254t1:c.1327del', 'NM_000080.4:c.1327del', 'LRG_1254:g.9185del', 'NG_028005.1:g.70553del', 'NG_008029.2:g.9185del', 'NC_000017.11:g.4898892del', None, 'LRG_1254p1:p.Glu443fs', 'NP_000071.1:p.Glu443fs']\n",
      "None\n",
      "\n",
      "=========\n",
      "\n",
      "RCV001783376\n",
      "VCV001323012\n",
      "['LRG_672t1:c.803_806del', 'NM_001199974.2:c.177+6741_177+6744del', 'NM_001199973.2:c.300+3106_300+3109del', 'NM_000169.3:c.803_806del', 'LRG_672:g.14398_14401del', 'NG_007119.1:g.14398_14401del', 'NC_000023.11:g.101398566_101398569del', 'NR_164783.1:n.882_885del', None, None, 'NP_000160.1:p.Met267_Leu268insTer']\n",
      "None\n",
      "\n",
      "=========\n",
      "\n",
      "RCV001192398\n",
      "VCV000222420\n",
      "['NM_001199974.2:c.177+6744_177+6747del', 'NM_001199973.2:c.300+3109_300+3112del', 'LRG_672:g.14398_14401del', 'NG_007119.1:g.14398_14401del', 'NC_000023.11:g.101398566_101398569del', 'NC_000023.10:g.100653551_100653554del', None, 'p.L268X']\n",
      "X_101398562_CACTA_C\n",
      "\n",
      "=========\n",
      "\n",
      "RCV000020022\n",
      "VCV000243031\n",
      "['NM_000080.4:c.1327delG', 'LRG_1254t1:c.1327del', 'LRG_1254:g.9185del', 'NG_028005.1:g.70553del', 'NG_008029.2:g.9185del', 'NC_000017.11:g.4898892del', 'NC_000017.10:g.4802186del', None, None, 'p.Glu443Lysfs*64', 'NP_000071.1:p.Glu443LysfsTer64']\n",
      "17_4898890_TC_T\n",
      "\n",
      "=========\n",
      "\n",
      "RCV000235026\n",
      "VCV000243031\n",
      "['NM_000080.4:c.1327delG', 'LRG_1254t1:c.1327del', 'LRG_1254:g.9185del', 'NG_028005.1:g.70553del', 'NG_008029.2:g.9185del', 'NC_000017.11:g.4898892del', 'NC_000017.10:g.4802186del', None, None, 'p.Glu443Lysfs*64', 'NP_000071.1:p.Glu443LysfsTer64']\n",
      "17_4898890_TC_T\n",
      "\n",
      "=========\n",
      "\n",
      "RCV000516854\n",
      "VCV000243031\n",
      "['NM_000080.4:c.1327delG', 'LRG_1254t1:c.1327del', 'LRG_1254:g.9185del', 'NG_028005.1:g.70553del', 'NG_008029.2:g.9185del', 'NC_000017.11:g.4898892del', 'NC_000017.10:g.4802186del', None, None, 'p.Glu443Lysfs*64', 'NP_000071.1:p.Glu443LysfsTer64']\n",
      "17_4898890_TC_T\n",
      "\n",
      "=========\n",
      "\n",
      "RCV000556621\n",
      "VCV000243031\n",
      "['NM_000080.4:c.1327delG', 'LRG_1254t1:c.1327del', 'LRG_1254:g.9185del', 'NG_028005.1:g.70553del', 'NG_008029.2:g.9185del', 'NC_000017.11:g.4898892del', 'NC_000017.10:g.4802186del', None, None, 'p.Glu443Lysfs*64', 'NP_000071.1:p.Glu443LysfsTer64']\n",
      "17_4898890_TC_T\n",
      "\n",
      "=========\n",
      "\n",
      "RCV001169937\n",
      "VCV000243031\n",
      "['NM_000080.4:c.1327delG', 'LRG_1254t1:c.1327del', 'LRG_1254:g.9185del', 'NG_028005.1:g.70553del', 'NG_008029.2:g.9185del', 'NC_000017.11:g.4898892del', 'NC_000017.10:g.4802186del', None, None, 'p.Glu443Lysfs*64', 'NP_000071.1:p.Glu443LysfsTer64']\n",
      "17_4898890_TC_T\n",
      "\n",
      "=========\n",
      "\n"
     ]
    }
   ],
   "source": [
    "for r in dataset:\n",
    "    if r.accession in problem_rcvs:\n",
    "        print(r.accession)\n",
    "        print(vcv(r))\n",
    "        print(r.measure.current_hgvs)\n",
    "        print(r.measure.vcf_full_coords)\n",
    "        print('\\n=========\\n')"
   ]
  },
  {
   "cell_type": "code",
   "execution_count": null,
   "id": "bf2ab736",
   "metadata": {},
   "outputs": [],
   "source": [
    "for h, vcvs in complex_hgvs_to_complex_vcv.items():\n",
    "    num_vcvs = len(set(vcvs))\n",
    "    if num_vcvs > 1 and HgvsVariant(h).sequence_type == SequenceType.GENOMIC:\n",
    "        print(h)\n",
    "        print(set(vcvs))\n",
    "        print('\\n========\\n')"
   ]
  },
  {
   "cell_type": "code",
   "execution_count": 61,
   "id": "40531d6b",
   "metadata": {},
   "outputs": [],
   "source": [
    "# for two sets of HGVS identifiers associated with two different VCVs, what's the intersection & set difference?\n",
    "with_coordinates = {'NM_000080.4:c.1327delG', 'LRG_1254t1:c.1327del', 'LRG_1254:g.9185del', 'NG_028005.1:g.70553del', 'NG_008029.2:g.9185del', 'NC_000017.11:g.4898892del', 'NC_000017.10:g.4802186del', None, None, 'p.Glu443Lysfs*64', 'NP_000071.1:p.Glu443LysfsTer64'}\n",
    "no_coordinates = {'LRG_1254t1:c.1327del', 'NM_000080.4:c.1327del', 'LRG_1254:g.9185del', 'NG_028005.1:g.70553del', 'NG_008029.2:g.9185del', 'NC_000017.11:g.4898892del', None, 'LRG_1254p1:p.Glu443fs', 'NP_000071.1:p.Glu443fs'}"
   ]
  },
  {
   "cell_type": "code",
   "execution_count": 64,
   "id": "b8b77e88",
   "metadata": {},
   "outputs": [
    {
     "data": {
      "text/plain": [
       "{'LRG_1254:g.9185del',\n",
       " 'LRG_1254t1:c.1327del',\n",
       " 'NC_000017.11:g.4898892del',\n",
       " 'NG_008029.2:g.9185del',\n",
       " 'NG_028005.1:g.70553del',\n",
       " None}"
      ]
     },
     "execution_count": 64,
     "metadata": {},
     "output_type": "execute_result"
    }
   ],
   "source": [
    "with_coordinates & no_coordinates"
   ]
  },
  {
   "cell_type": "code",
   "execution_count": 65,
   "id": "32c867dc",
   "metadata": {},
   "outputs": [
    {
     "data": {
      "text/plain": [
       "{'NC_000017.10:g.4802186del',\n",
       " 'NM_000080.4:c.1327delG',\n",
       " 'NP_000071.1:p.Glu443LysfsTer64',\n",
       " 'p.Glu443Lysfs*64'}"
      ]
     },
     "execution_count": 65,
     "metadata": {},
     "output_type": "execute_result"
    }
   ],
   "source": [
    "with_coordinates - no_coordinates"
   ]
  },
  {
   "cell_type": "code",
   "execution_count": 66,
   "id": "468f5f73",
   "metadata": {},
   "outputs": [
    {
     "data": {
      "text/plain": [
       "{'LRG_1254p1:p.Glu443fs', 'NM_000080.4:c.1327del', 'NP_000071.1:p.Glu443fs'}"
      ]
     },
     "execution_count": 66,
     "metadata": {},
     "output_type": "execute_result"
    }
   ],
   "source": [
    "no_coordinates - with_coordinates"
   ]
  },
  {
   "cell_type": "markdown",
   "id": "4b587e1d",
   "metadata": {},
   "source": [
    "### Notes\n",
    "* Is the same measure (VCV or HGVS) ever associated with different RCVs?\n",
    "    * Yes - unlike for repeat expansion variants, these structural ones (no coordinates but with HGVS) can have the same measure/VCV associated with multiple RCVs\n",
    "    * hence _cannot_ use RCV to connect records to consequences\n",
    "* Is the same HGVS ever associated with RCVs with and without complete coordinates?\n",
    "    * Yes, surprisingly...\n",
    "    * when this happens it's via different VCVs\n",
    "* If complex HGVS is associated with another RCV that does have complete coordinates, are these aligned?\n",
    "    * Not always exactly...\n",
    "    * e.g. `NC_000017.11:g.4898892del` is associated with an RCV with no coordinates and one with coordinates `17_4898890_TC_T`\n",
    "* Is the same HGVS ever associated with different VCVs?\n",
    "    * Yes, very often actually\n",
    "* Is the same _set_ of HGVS ever associated with different VCVs?\n",
    "    * Not for the above case but probably can't tell for certain (and probably not worth relying on this)\n",
    "\n",
    "Bonus question: how is ClinVar associating HGVS with VCV???"
   ]
  },
  {
   "cell_type": "markdown",
   "id": "2d95811c",
   "metadata": {},
   "source": [
    "### Part 2: Consequences of \"problem\" RCVs\n",
    "\n",
    "What happens if we actually run the two relevant consequence mapping pipelines on these RCVs?"
   ]
  },
  {
   "cell_type": "code",
   "execution_count": 21,
   "id": "df9f60c8",
   "metadata": {},
   "outputs": [],
   "source": [
    "import pandas as pd\n",
    "pd.set_option('display.max_colwidth', None)\n",
    "\n",
    "from consequence_prediction.structural_variants import pipeline as structural_pipeline\n",
    "from consequence_prediction.vep_mapping_pipeline.consequence_mapping import colon_based_id_to_vep_id, process_variants"
   ]
  },
  {
   "cell_type": "code",
   "execution_count": 6,
   "id": "22414ad8",
   "metadata": {},
   "outputs": [],
   "source": [
    "problem_path = os.path.join(PROJECT_ROOT, 'complex-events/rcvs_sharing_hgvs.xml.gz')\n",
    "problem_dataset = ClinVarDataset(problem_path)"
   ]
  },
  {
   "cell_type": "code",
   "execution_count": 16,
   "id": "2cfcd1ed",
   "metadata": {},
   "outputs": [],
   "source": [
    "# convert VEP pipeline to be more usable...\n",
    "IUPAC_AMBIGUOUS_SEQUENCE = re.compile(r'[^ACGT]')\n",
    "\n",
    "def vep_pipeline_main(clinvar_xml):\n",
    "    variants = []\n",
    "    for clinvar_record in ClinVarDataset(clinvar_xml):\n",
    "        if clinvar_record.measure is None or not clinvar_record.measure.has_complete_coordinates:\n",
    "            continue\n",
    "        m = clinvar_record.measure\n",
    "        if IUPAC_AMBIGUOUS_SEQUENCE.search(m.vcf_ref + m.vcf_alt):\n",
    "            continue\n",
    "        variants.append(f'{m.chr}:{m.vcf_pos}:{m.vcf_ref}:{m.vcf_alt}')\n",
    "\n",
    "    variants_to_query = [colon_based_id_to_vep_id(v) for v in variants]\n",
    "    variant_results = process_variants(variants_to_query)\n",
    "    variant_data = []\n",
    "    for variant_id, gene_id, gene_symbol, consequence_term, distance in variant_results:\n",
    "        variant_data.append((variant_id, '1', gene_id, gene_symbol, consequence_term, distance))\n",
    "    consequences = pd.DataFrame(variant_data, columns=('VariantID', 'PlaceholderOnes', 'EnsemblGeneID',\n",
    "                                               'EnsemblGeneName', 'ConsequenceTerm', 'Distance'))\n",
    "    return consequences"
   ]
  },
  {
   "cell_type": "code",
   "execution_count": 17,
   "id": "deaafeb5",
   "metadata": {},
   "outputs": [],
   "source": [
    "vep_consequences = vep_pipeline_main(problem_path)"
   ]
  },
  {
   "cell_type": "code",
   "execution_count": 22,
   "id": "cc6d1ef5",
   "metadata": {},
   "outputs": [
    {
     "data": {
      "text/html": [
       "<div>\n",
       "<style scoped>\n",
       "    .dataframe tbody tr th:only-of-type {\n",
       "        vertical-align: middle;\n",
       "    }\n",
       "\n",
       "    .dataframe tbody tr th {\n",
       "        vertical-align: top;\n",
       "    }\n",
       "\n",
       "    .dataframe thead th {\n",
       "        text-align: right;\n",
       "    }\n",
       "</style>\n",
       "<table border=\"1\" class=\"dataframe\">\n",
       "  <thead>\n",
       "    <tr style=\"text-align: right;\">\n",
       "      <th></th>\n",
       "      <th>VariantID</th>\n",
       "      <th>PlaceholderOnes</th>\n",
       "      <th>EnsemblGeneID</th>\n",
       "      <th>EnsemblGeneName</th>\n",
       "      <th>ConsequenceTerm</th>\n",
       "      <th>Distance</th>\n",
       "    </tr>\n",
       "  </thead>\n",
       "  <tbody>\n",
       "    <tr>\n",
       "      <th>0</th>\n",
       "      <td>X 101398562 . CACTA C</td>\n",
       "      <td>1</td>\n",
       "      <td>ENSG00000102393</td>\n",
       "      <td>GLA</td>\n",
       "      <td>frameshift_variant</td>\n",
       "      <td>0</td>\n",
       "    </tr>\n",
       "    <tr>\n",
       "      <th>1</th>\n",
       "      <td>17 4898890 . TC T</td>\n",
       "      <td>1</td>\n",
       "      <td>ENSG00000108556</td>\n",
       "      <td>CHRNE</td>\n",
       "      <td>frameshift_variant</td>\n",
       "      <td>0</td>\n",
       "    </tr>\n",
       "  </tbody>\n",
       "</table>\n",
       "</div>"
      ],
      "text/plain": [
       "               VariantID PlaceholderOnes    EnsemblGeneID EnsemblGeneName  \\\n",
       "0  X 101398562 . CACTA C               1  ENSG00000102393             GLA   \n",
       "1      17 4898890 . TC T               1  ENSG00000108556           CHRNE   \n",
       "\n",
       "      ConsequenceTerm  Distance  \n",
       "0  frameshift_variant         0  \n",
       "1  frameshift_variant         0  "
      ]
     },
     "execution_count": 22,
     "metadata": {},
     "output_type": "execute_result"
    }
   ],
   "source": [
    "vep_consequences"
   ]
  },
  {
   "cell_type": "code",
   "execution_count": 33,
   "id": "fbc52398",
   "metadata": {},
   "outputs": [
    {
     "name": "stderr",
     "output_type": "stream",
     "text": [
      "INFO:consequence_prediction.structural_variants.pipeline:2 records processed with 17 HGVS expressions\n",
      "INFO:consequence_prediction.structural_variants.pipeline:3 parsed into chrom/start/end/type\n",
      "INFO:consequence_prediction.structural_variants.pipeline:Done with batch 1\n"
     ]
    }
   ],
   "source": [
    "struct_consequences = structural_pipeline.main(problem_path)"
   ]
  },
  {
   "cell_type": "code",
   "execution_count": 34,
   "id": "9adab997",
   "metadata": {},
   "outputs": [],
   "source": [
    "# haven't implemented the single base deletion case as it's not a range, but I think we'd get the following\n",
    "# https://rest.ensembl.org/vep/human/region/NC_000017.11:4898892-4898892:1/DEL?content-type=application/json\n",
    "struct_consequences = struct_consequences.append(\n",
    "    pd.DataFrame(\n",
    "        [['NC_000017.11 4898892 4898892 DEL +', 1, 'ENSG00000108556', 'CHRNE', 'frameshift_variant', 0]],\n",
    "        columns=('VariantID', 'PlaceholderOnes', 'EnsemblGeneID', 'EnsemblGeneName', 'ConsequenceTerm', 'Distance')\n",
    "    )\n",
    ")"
   ]
  },
  {
   "cell_type": "code",
   "execution_count": 35,
   "id": "8bf4f977",
   "metadata": {},
   "outputs": [
    {
     "data": {
      "text/html": [
       "<div>\n",
       "<style scoped>\n",
       "    .dataframe tbody tr th:only-of-type {\n",
       "        vertical-align: middle;\n",
       "    }\n",
       "\n",
       "    .dataframe tbody tr th {\n",
       "        vertical-align: top;\n",
       "    }\n",
       "\n",
       "    .dataframe thead th {\n",
       "        text-align: right;\n",
       "    }\n",
       "</style>\n",
       "<table border=\"1\" class=\"dataframe\">\n",
       "  <thead>\n",
       "    <tr style=\"text-align: right;\">\n",
       "      <th></th>\n",
       "      <th>VariantID</th>\n",
       "      <th>PlaceholderOnes</th>\n",
       "      <th>EnsemblGeneID</th>\n",
       "      <th>EnsemblGeneName</th>\n",
       "      <th>ConsequenceTerm</th>\n",
       "      <th>Distance</th>\n",
       "    </tr>\n",
       "  </thead>\n",
       "  <tbody>\n",
       "    <tr>\n",
       "      <th>0</th>\n",
       "      <td>NC_000023.11 101398566 101398569 DEL + NC_000023.11:g.101398566_101398569del</td>\n",
       "      <td>1</td>\n",
       "      <td>ENSG00000102393</td>\n",
       "      <td>GLA</td>\n",
       "      <td>coding_sequence_variant</td>\n",
       "      <td>0</td>\n",
       "    </tr>\n",
       "    <tr>\n",
       "      <th>0</th>\n",
       "      <td>NC_000017.11 4898892 4898892 DEL +</td>\n",
       "      <td>1</td>\n",
       "      <td>ENSG00000108556</td>\n",
       "      <td>CHRNE</td>\n",
       "      <td>frameshift_variant</td>\n",
       "      <td>0</td>\n",
       "    </tr>\n",
       "  </tbody>\n",
       "</table>\n",
       "</div>"
      ],
      "text/plain": [
       "                                                                      VariantID  \\\n",
       "0  NC_000023.11 101398566 101398569 DEL + NC_000023.11:g.101398566_101398569del   \n",
       "0                                            NC_000017.11 4898892 4898892 DEL +   \n",
       "\n",
       "  PlaceholderOnes    EnsemblGeneID EnsemblGeneName          ConsequenceTerm  \\\n",
       "0               1  ENSG00000102393             GLA  coding_sequence_variant   \n",
       "0               1  ENSG00000108556           CHRNE       frameshift_variant   \n",
       "\n",
       "   Distance  \n",
       "0         0  \n",
       "0         0  "
      ]
     },
     "execution_count": 35,
     "metadata": {},
     "output_type": "execute_result"
    }
   ],
   "source": [
    "struct_consequences"
   ]
  },
  {
   "cell_type": "code",
   "execution_count": null,
   "id": "0d853735",
   "metadata": {},
   "outputs": [],
   "source": []
  }
 ],
 "metadata": {
  "kernelspec": {
   "display_name": "Python 3 (ipykernel)",
   "language": "python",
   "name": "python3"
  },
  "language_info": {
   "codemirror_mode": {
    "name": "ipython",
    "version": 3
   },
   "file_extension": ".py",
   "mimetype": "text/x-python",
   "name": "python",
   "nbconvert_exporter": "python",
   "pygments_lexer": "ipython3",
   "version": "3.8.10"
  }
 },
 "nbformat": 4,
 "nbformat_minor": 5
}
