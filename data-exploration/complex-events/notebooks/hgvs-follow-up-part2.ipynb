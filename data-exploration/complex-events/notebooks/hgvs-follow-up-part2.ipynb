{
 "cells": [
  {
   "cell_type": "markdown",
   "id": "0ae6cf7f",
   "metadata": {},
   "source": [
    "# Follow-up questions - 02/02/2022\n",
    "\n",
    "## Table of contents\n",
    "\n",
    "1. [Phenotypes](#Phenotypes)\n",
    "2. [Uncertain ranges](#Uncertain-ranges)\n",
    "    1. [Spans](#Uncertainty-from-spans)\n",
    "    2. [Genes](#Uncertainty-from-genes)\n",
    "3. [Summary](#Summary)"
   ]
  },
  {
   "cell_type": "code",
   "execution_count": 1,
   "id": "d1aad868",
   "metadata": {},
   "outputs": [],
   "source": [
    "from collections import defaultdict, Counter\n",
    "from itertools import zip_longest\n",
    "import json\n",
    "import os\n",
    "import re\n",
    "import sys\n",
    "import urllib\n",
    "\n",
    "import numpy as np\n",
    "import requests\n",
    "\n",
    "from consequence_prediction.vep_mapping_pipeline.consequence_mapping import *\n",
    "from eva_cttv_pipeline.clinvar_xml_io.clinvar_xml_io import *\n",
    "from eva_cttv_pipeline.evidence_string_generation.clinvar_to_evidence_strings import convert_allele_origins\n",
    "\n",
    "%matplotlib inline\n",
    "import matplotlib.pyplot as plt"
   ]
  },
  {
   "cell_type": "markdown",
   "id": "97ad61a3",
   "metadata": {},
   "source": [
    "## Phenotypes\n",
    "\n",
    "> What are the phenotypes of the structural variant? Are they somatic or germline?\n",
    "\n",
    "[Top of page](#Table-of-contents)"
   ]
  },
  {
   "cell_type": "code",
   "execution_count": 2,
   "id": "7df32fc6",
   "metadata": {},
   "outputs": [],
   "source": [
    "PROJECT_ROOT = '/home/april/projects/opentargets/complex-events'\n",
    "\n",
    "# dump of all records with no functional consequences and no complete coordinates\n",
    "# uses June consequence pred + ClinVar 6/26/2021\n",
    "no_consequences_path = os.path.join(PROJECT_ROOT, 'no-conseq_no-coords.xml.gz')\n",
    "dataset = ClinVarDataset(no_consequences_path)"
   ]
  },
  {
   "cell_type": "code",
   "execution_count": 3,
   "id": "69d837e9",
   "metadata": {},
   "outputs": [],
   "source": [
    "def get_somatic_germline_counts(dataset):\n",
    "    all_allele_origins = [convert_allele_origins(record.valid_allele_origins) for record in dataset]\n",
    "    \n",
    "    # Our pipeline's definition for distinguishing somatic & germline\n",
    "    def is_somatic(allele_origins):\n",
    "        return allele_origins == ['somatic']\n",
    "\n",
    "    phenotypes_counts = Counter()\n",
    "    for allele_origins in all_allele_origins:\n",
    "        germline = False\n",
    "        somatic = False\n",
    "        for ao in allele_origins:\n",
    "            if is_somatic(ao):\n",
    "                somatic = True\n",
    "            else:\n",
    "                germline = True\n",
    "        if germline and somatic:\n",
    "            phenotypes_counts['both'] += 1\n",
    "        if germline and not somatic:\n",
    "            phenotypes_counts['germline'] += 1\n",
    "        if somatic and not germline:\n",
    "            phenotypes_counts['somatic'] += 1\n",
    "            \n",
    "    # flat count of allele origins\n",
    "    flattened_allele_origins = [x for allele_origins in all_allele_origins for ao in allele_origins for x in ao]\n",
    "    flat_pheno_counts = Counter(flattened_allele_origins)\n",
    "            \n",
    "    return phenotypes_counts, flat_pheno_counts"
   ]
  },
  {
   "cell_type": "code",
   "execution_count": 4,
   "id": "b6a05c66",
   "metadata": {},
   "outputs": [],
   "source": [
    "complex_phenotypes, complex_flat_aos = get_somatic_germline_counts(dataset)"
   ]
  },
  {
   "cell_type": "code",
   "execution_count": 5,
   "id": "d0dd6789",
   "metadata": {},
   "outputs": [
    {
     "data": {
      "text/plain": [
       "Counter({'germline': 17335, 'somatic': 313, 'both': 1})"
      ]
     },
     "execution_count": 5,
     "metadata": {},
     "output_type": "execute_result"
    }
   ],
   "source": [
    "complex_phenotypes"
   ]
  },
  {
   "cell_type": "code",
   "execution_count": 6,
   "id": "571c730d",
   "metadata": {},
   "outputs": [],
   "source": [
    "# check if these are enriched in somatic relative to full set\n",
    "full_dataset = ClinVarDataset(os.path.join(PROJECT_ROOT, 'ClinVarFullRelease_2021-07.xml.gz'))"
   ]
  },
  {
   "cell_type": "code",
   "execution_count": 7,
   "id": "81a8c7f5",
   "metadata": {},
   "outputs": [],
   "source": [
    "full_phenotypes, full_flat_aos = get_somatic_germline_counts(full_dataset)"
   ]
  },
  {
   "cell_type": "code",
   "execution_count": 8,
   "id": "232057e6",
   "metadata": {},
   "outputs": [
    {
     "data": {
      "text/plain": [
       "Counter({'germline': 1414050, 'somatic': 12528, 'both': 219})"
      ]
     },
     "execution_count": 8,
     "metadata": {},
     "output_type": "execute_result"
    }
   ],
   "source": [
    "full_phenotypes"
   ]
  },
  {
   "cell_type": "code",
   "execution_count": 9,
   "id": "f431a448",
   "metadata": {},
   "outputs": [],
   "source": [
    "def percent_somatic(c):\n",
    "    return c['somatic'] / sum(c.values()) * 100.0"
   ]
  },
  {
   "cell_type": "code",
   "execution_count": 10,
   "id": "056b5fc3",
   "metadata": {},
   "outputs": [
    {
     "name": "stdout",
     "output_type": "stream",
     "text": [
      "percent somatic for complex: 1.7734715847923397\n",
      "percent somatic for all: 0.8780506266834034\n"
     ]
    }
   ],
   "source": [
    "print('percent somatic for complex:', percent_somatic(complex_phenotypes))\n",
    "print('percent somatic for all:', percent_somatic(full_phenotypes))"
   ]
  },
  {
   "cell_type": "markdown",
   "id": "99d6deb9",
   "metadata": {},
   "source": [
    "## Uncertain ranges\n",
    "\n",
    "> It would be interesting to know the size of the uncertainty when it is known and compare it to the known inner range (ratio between certain range and uncertain range).\n",
    "\n",
    "[Top of page](#Table-of-contents)"
   ]
  },
  {
   "cell_type": "markdown",
   "id": "e6f52017",
   "metadata": {},
   "source": [
    "#### Imprecise - known bounds\n",
    "\n",
    "Ex. `NC_000011.8:g.(67967534_67967551)_(67974756_67974774)del`\n",
    "\n",
    "\"Certainty\" = smallest possible span divided by largest possible span\n",
    "\n",
    "Also interested in the absolute size of the potential deviation (range of start points + range of end points)"
   ]
  },
  {
   "cell_type": "code",
   "execution_count": 16,
   "id": "0b7514a5",
   "metadata": {},
   "outputs": [
    {
     "data": {
      "text/plain": [
       "0.9951657458563536"
      ]
     },
     "execution_count": 16,
     "metadata": {},
     "output_type": "execute_result"
    }
   ],
   "source": [
    "(67974756 - 67967551) / (67974774 - 67967534)"
   ]
  },
  {
   "cell_type": "code",
   "execution_count": 17,
   "id": "5e63efd1",
   "metadata": {},
   "outputs": [
    {
     "data": {
      "text/plain": [
       "35"
      ]
     },
     "execution_count": 17,
     "metadata": {},
     "output_type": "execute_result"
    }
   ],
   "source": [
    "(67967551 - 67967534) + (67974774 - 67974756)"
   ]
  },
  {
   "cell_type": "markdown",
   "id": "23719be8",
   "metadata": {},
   "source": [
    "#### Precise\n",
    "\n",
    "Ex. `NC_000016.10:g.12595039_12636793del`\n",
    "\n",
    "Certainty of 1 (no uncertainty)"
   ]
  },
  {
   "cell_type": "markdown",
   "id": "cc29fe3a",
   "metadata": {},
   "source": [
    "#### Imprecise - unknown bounds\n",
    "\n",
    "Ex. `NC_000015.10:g.(?_26547773)_(26775295_?)del`\n",
    "\n",
    "In theory we could compute the same numbers using the full length of the reference sequence, but not sure it's meaningful."
   ]
  },
  {
   "cell_type": "code",
   "execution_count": 18,
   "id": "3216f5a1",
   "metadata": {},
   "outputs": [
    {
     "data": {
      "text/plain": [
       "0.002230800544937269"
      ]
     },
     "execution_count": 18,
     "metadata": {},
     "output_type": "execute_result"
    }
   ],
   "source": [
    "(26775295 - 26547773) / 101991189  # length of chr 15"
   ]
  },
  {
   "cell_type": "code",
   "execution_count": 77,
   "id": "c273bcd9",
   "metadata": {},
   "outputs": [],
   "source": [
    "# TODO measure this for spans, genes?\n",
    "# - do spans definitely, genes if time\n",
    "# - focus on known bounds\n",
    "# - dot plot of uncertainty ratio vs. absolute size of flanking regions"
   ]
  },
  {
   "cell_type": "markdown",
   "id": "f97cf350",
   "metadata": {},
   "source": [
    "### Uncertainty from spans\n",
    "\n",
    "[Top of page](#Table-of-contents)"
   ]
  },
  {
   "cell_type": "code",
   "execution_count": 34,
   "id": "6c2d3c49",
   "metadata": {},
   "outputs": [],
   "source": [
    "sequence_identifier = r'[a-zA-Z0-9_.]+'\n",
    "genomic_sequence = f'^({sequence_identifier}):g\\.'\n",
    "\n",
    "# only INS, DEL, DUP supported by VEP\n",
    "variant_type_regex = {\n",
    "    re.compile(f'{genomic_sequence}.*?del(?!ins).*?') : 'DEL',\n",
    "    re.compile(f'{genomic_sequence}.*?dup.*?') : 'DUP',\n",
    "    re.compile(f'{genomic_sequence}.*?(?<!del)ins.*?') : 'INS',\n",
    "}\n",
    "\n",
    "# for this we EXCLUDE unknown bounds, and capture all numeric bounds on endpoints\n",
    "def_range = r'([0-9]+)_([0-9]+)'\n",
    "var_range = r'\\(([0-9]+)_([0-9]+)\\)_\\(([0-9]+)_([0-9]+)\\)'\n",
    "ch = r'[^?_+-]'\n",
    "\n",
    "def_span_regex = re.compile(f'{genomic_sequence}{ch}*?{def_range}{ch}*?$')\n",
    "var_span_regex = re.compile(f'{genomic_sequence}{ch}*?{var_range}{ch}*?$')"
   ]
  },
  {
   "cell_type": "code",
   "execution_count": 80,
   "id": "dc405452",
   "metadata": {},
   "outputs": [],
   "source": [
    "def endpoint_bounds(dataset, include_precise=False, limit=None):\n",
    "    \"\"\"Returns inner and outer bounds on endpoints (duplicating inner/outer if precise).\"\"\"\n",
    "    n = 0\n",
    "    all_bounds = []\n",
    "    \n",
    "    for record in dataset:\n",
    "        if not record.measure or not record.measure.hgvs:\n",
    "            continue\n",
    "\n",
    "        hs = [h for h in record.measure.hgvs if h is not None]\n",
    "        n += 1\n",
    "        if limit and n > limit:\n",
    "            break\n",
    "            \n",
    "        for h in hs:\n",
    "            # NC_000011.8:g.(67967534_67967551)_(67974756_67974774)del\n",
    "            var_match = var_span_regex.match(h)\n",
    "            if var_match and all(var_match.group(i) for i in range(2,6)):\n",
    "                # use terminology from dbVar data model\n",
    "                # see https://www.ncbi.nlm.nih.gov/core/assets/dbvar/files/dbVar_VCF_Submission.pdf\n",
    "                outer_start = int(var_match.group(2))\n",
    "                inner_start = int(var_match.group(3))\n",
    "                inner_stop = int(var_match.group(4))\n",
    "                outer_stop = int(var_match.group(5))   \n",
    "                all_bounds.append(((outer_start, inner_start), (inner_stop, outer_stop)))\n",
    "                # presumably all hgvs expressions for one record have the same span, don't double count\n",
    "                break\n",
    "                \n",
    "            elif include_precise:\n",
    "                # NC_000016.10:g.12595039_12636793del\n",
    "                def_match = def_span_regex.match(h)\n",
    "                if def_match and def_match.group(2) and def_match.group(3):\n",
    "                    outer_start = inner_start = int(def_match.group(2))\n",
    "                    inner_stop = outer_stop = int(def_match.group(3))\n",
    "                    all_bounds.append(((outer_start, inner_start), (inner_stop, outer_stop)))\n",
    "                    break\n",
    "                \n",
    "    return all_bounds"
   ]
  },
  {
   "cell_type": "code",
   "execution_count": 81,
   "id": "690de0c9",
   "metadata": {},
   "outputs": [],
   "source": [
    "all_bounds = endpoint_bounds(dataset)"
   ]
  },
  {
   "cell_type": "code",
   "execution_count": 52,
   "id": "08dd7927",
   "metadata": {},
   "outputs": [],
   "source": [
    "def is_valid(bounds):\n",
    "    # invalid if any range is negative\n",
    "    return (bounds[0][1] >= bounds[0][0]\n",
    "           and bounds[1][1] >= bounds[1][0]\n",
    "           and bounds[1][0] >= bounds[0][1])\n",
    "\n",
    "\n",
    "def uncertainty_ratio(bounds):\n",
    "    return (bounds[1][0] - bounds[0][1]) / (bounds[1][1] - bounds[0][0])\n",
    "\n",
    "\n",
    "def total_range(bounds):\n",
    "    return (bounds[0][1] - bounds[0][0]) + (bounds[1][1] - bounds[1][0])"
   ]
  },
  {
   "cell_type": "code",
   "execution_count": 82,
   "id": "8637ea8a",
   "metadata": {},
   "outputs": [
    {
     "data": {
      "text/plain": [
       "559"
      ]
     },
     "execution_count": 82,
     "metadata": {},
     "output_type": "execute_result"
    }
   ],
   "source": [
    "len(all_bounds)"
   ]
  },
  {
   "cell_type": "code",
   "execution_count": 83,
   "id": "e5e35814",
   "metadata": {},
   "outputs": [],
   "source": [
    "all_valid_bounds = [bounds for bounds in all_bounds if is_valid(bounds)]"
   ]
  },
  {
   "cell_type": "code",
   "execution_count": 84,
   "id": "ddfb45df",
   "metadata": {},
   "outputs": [
    {
     "data": {
      "text/plain": [
       "555"
      ]
     },
     "execution_count": 84,
     "metadata": {},
     "output_type": "execute_result"
    }
   ],
   "source": [
    "len(all_valid_bounds)"
   ]
  },
  {
   "cell_type": "code",
   "execution_count": 85,
   "id": "d26aeaf2",
   "metadata": {},
   "outputs": [],
   "source": [
    "all_uncertainty_ratios = [uncertainty_ratio(bounds) for bounds in all_valid_bounds]\n",
    "all_total_ranges = [total_range(bounds) for bounds in all_valid_bounds]"
   ]
  },
  {
   "cell_type": "code",
   "execution_count": 86,
   "id": "bff843fb",
   "metadata": {},
   "outputs": [
    {
     "name": "stdout",
     "output_type": "stream",
     "text": [
      "4.895721139723881e-05\n",
      "0.9999996380644046\n"
     ]
    }
   ],
   "source": [
    "# 1.0 is the most certain\n",
    "print(min(all_uncertainty_ratios))\n",
    "print(max(all_uncertainty_ratios))"
   ]
  },
  {
   "cell_type": "code",
   "execution_count": 102,
   "id": "21d43023",
   "metadata": {},
   "outputs": [
    {
     "data": {
      "text/plain": [
       "(array([60., 26., 17., 13.,  6.,  8.,  4.,  4.,  2.,  2.,  5.,  2.,  5.,\n",
       "         0.,  3.,  5.,  5.,  5.,  3.,  1.,  5.,  2.,  1.,  1.,  2.,  0.,\n",
       "         1.,  1.,  3.,  4.,  5.,  2.,  3.,  2.,  4.,  3.,  9.,  1.,  3.,\n",
       "         3.,  3.,  7.,  1.,  4.,  5.,  4.,  2.,  6.,  3.,  4.,  4.,  7.,\n",
       "         3.,  1.,  3.,  5.,  1.,  5.,  6.,  5.,  4.,  7.,  5.,  7.,  3.,\n",
       "         4.,  6.,  7.,  8.,  5.,  5.,  0.,  6.,  2.,  5.,  5.,  4.,  3.,\n",
       "         3.,  5.,  2.,  3.,  7.,  6.,  5.,  4.,  5.,  9.,  5.,  4.,  5.,\n",
       "         9.,  3.,  6.,  2., 11.,  8.,  6.,  6., 45.]),\n",
       " array([4.89572114e-05, 1.00484640e-02, 2.00479708e-02, 3.00474776e-02,\n",
       "        4.00469844e-02, 5.00464913e-02, 6.00459981e-02, 7.00455049e-02,\n",
       "        8.00450117e-02, 9.00445185e-02, 1.00044025e-01, 1.10043532e-01,\n",
       "        1.20043039e-01, 1.30042546e-01, 1.40042053e-01, 1.50041559e-01,\n",
       "        1.60041066e-01, 1.70040573e-01, 1.80040080e-01, 1.90039587e-01,\n",
       "        2.00039093e-01, 2.10038600e-01, 2.20038107e-01, 2.30037614e-01,\n",
       "        2.40037121e-01, 2.50036627e-01, 2.60036134e-01, 2.70035641e-01,\n",
       "        2.80035148e-01, 2.90034655e-01, 3.00034161e-01, 3.10033668e-01,\n",
       "        3.20033175e-01, 3.30032682e-01, 3.40032189e-01, 3.50031696e-01,\n",
       "        3.60031202e-01, 3.70030709e-01, 3.80030216e-01, 3.90029723e-01,\n",
       "        4.00029230e-01, 4.10028736e-01, 4.20028243e-01, 4.30027750e-01,\n",
       "        4.40027257e-01, 4.50026764e-01, 4.60026270e-01, 4.70025777e-01,\n",
       "        4.80025284e-01, 4.90024791e-01, 5.00024298e-01, 5.10023804e-01,\n",
       "        5.20023311e-01, 5.30022818e-01, 5.40022325e-01, 5.50021832e-01,\n",
       "        5.60021338e-01, 5.70020845e-01, 5.80020352e-01, 5.90019859e-01,\n",
       "        6.00019366e-01, 6.10018873e-01, 6.20018379e-01, 6.30017886e-01,\n",
       "        6.40017393e-01, 6.50016900e-01, 6.60016407e-01, 6.70015913e-01,\n",
       "        6.80015420e-01, 6.90014927e-01, 7.00014434e-01, 7.10013941e-01,\n",
       "        7.20013447e-01, 7.30012954e-01, 7.40012461e-01, 7.50011968e-01,\n",
       "        7.60011475e-01, 7.70010981e-01, 7.80010488e-01, 7.90009995e-01,\n",
       "        8.00009502e-01, 8.10009009e-01, 8.20008516e-01, 8.30008022e-01,\n",
       "        8.40007529e-01, 8.50007036e-01, 8.60006543e-01, 8.70006050e-01,\n",
       "        8.80005556e-01, 8.90005063e-01, 9.00004570e-01, 9.10004077e-01,\n",
       "        9.20003584e-01, 9.30003090e-01, 9.40002597e-01, 9.50002104e-01,\n",
       "        9.60001611e-01, 9.70001118e-01, 9.80000624e-01, 9.90000131e-01,\n",
       "        9.99999638e-01]),\n",
       " <BarContainer object of 100 artists>)"
      ]
     },
     "execution_count": 102,
     "metadata": {},
     "output_type": "execute_result"
    },
    {
     "data": {
      "image/png": "[encoded data removed]",
      "text/plain": [
       "<Figure size 1080x720 with 1 Axes>"
      ]
     },
     "metadata": {
      "needs_background": "light"
     },
     "output_type": "display_data"
    }
   ],
   "source": [
    "plt.figure(figsize=(15,10))\n",
    "plt.grid(visible=True)\n",
    "plt.title(f'Records per uncertainty ratio')\n",
    "plt.hist(all_uncertainty_ratios, bins=100)"
   ]
  },
  {
   "cell_type": "code",
   "execution_count": 88,
   "id": "205617d7",
   "metadata": {},
   "outputs": [
    {
     "name": "stdout",
     "output_type": "stream",
     "text": [
      "2\n",
      "106524298\n"
     ]
    }
   ],
   "source": [
    "print(min(all_total_ranges))\n",
    "print(max(all_total_ranges))"
   ]
  },
  {
   "cell_type": "code",
   "execution_count": 103,
   "id": "ff3ce498",
   "metadata": {},
   "outputs": [
    {
     "data": {
      "text/plain": [
       "(array([549.,   2.,   2.,   0.,   0.,   0.,   0.,   1.,   0.,   0.,   0.,\n",
       "          0.,   0.,   0.,   0.,   0.,   0.,   0.,   0.,   0.,   0.,   0.,\n",
       "          0.,   0.,   0.,   0.,   0.,   0.,   0.,   0.,   0.,   0.,   0.,\n",
       "          0.,   0.,   0.,   0.,   0.,   0.,   0.,   0.,   0.,   0.,   0.,\n",
       "          0.,   0.,   0.,   0.,   0.,   0.,   0.,   0.,   0.,   0.,   0.,\n",
       "          0.,   0.,   0.,   0.,   0.,   0.,   0.,   0.,   0.,   0.,   0.,\n",
       "          0.,   0.,   0.,   0.,   0.,   0.,   0.,   0.,   0.,   0.,   0.,\n",
       "          0.,   0.,   0.,   0.,   0.,   0.,   0.,   0.,   0.,   0.,   0.,\n",
       "          0.,   0.,   0.,   0.,   0.,   0.,   0.,   0.,   0.,   0.,   0.,\n",
       "          1.]),\n",
       " array([2.00000000e+00, 1.06524496e+06, 2.13048792e+06, 3.19573088e+06,\n",
       "        4.26097384e+06, 5.32621680e+06, 6.39145976e+06, 7.45670272e+06,\n",
       "        8.52194568e+06, 9.58718864e+06, 1.06524316e+07, 1.17176746e+07,\n",
       "        1.27829175e+07, 1.38481605e+07, 1.49134034e+07, 1.59786464e+07,\n",
       "        1.70438894e+07, 1.81091323e+07, 1.91743753e+07, 2.02396182e+07,\n",
       "        2.13048612e+07, 2.23701042e+07, 2.34353471e+07, 2.45005901e+07,\n",
       "        2.55658330e+07, 2.66310760e+07, 2.76963190e+07, 2.87615619e+07,\n",
       "        2.98268049e+07, 3.08920478e+07, 3.19572908e+07, 3.30225338e+07,\n",
       "        3.40877767e+07, 3.51530197e+07, 3.62182626e+07, 3.72835056e+07,\n",
       "        3.83487486e+07, 3.94139915e+07, 4.04792345e+07, 4.15444774e+07,\n",
       "        4.26097204e+07, 4.36749634e+07, 4.47402063e+07, 4.58054493e+07,\n",
       "        4.68706922e+07, 4.79359352e+07, 4.90011782e+07, 5.00664211e+07,\n",
       "        5.11316641e+07, 5.21969070e+07, 5.32621500e+07, 5.43273930e+07,\n",
       "        5.53926359e+07, 5.64578789e+07, 5.75231218e+07, 5.85883648e+07,\n",
       "        5.96536078e+07, 6.07188507e+07, 6.17840937e+07, 6.28493366e+07,\n",
       "        6.39145796e+07, 6.49798226e+07, 6.60450655e+07, 6.71103085e+07,\n",
       "        6.81755514e+07, 6.92407944e+07, 7.03060374e+07, 7.13712803e+07,\n",
       "        7.24365233e+07, 7.35017662e+07, 7.45670092e+07, 7.56322522e+07,\n",
       "        7.66974951e+07, 7.77627381e+07, 7.88279810e+07, 7.98932240e+07,\n",
       "        8.09584670e+07, 8.20237099e+07, 8.30889529e+07, 8.41541958e+07,\n",
       "        8.52194388e+07, 8.62846818e+07, 8.73499247e+07, 8.84151677e+07,\n",
       "        8.94804106e+07, 9.05456536e+07, 9.16108966e+07, 9.26761395e+07,\n",
       "        9.37413825e+07, 9.48066254e+07, 9.58718684e+07, 9.69371114e+07,\n",
       "        9.80023543e+07, 9.90675973e+07, 1.00132840e+08, 1.01198083e+08,\n",
       "        1.02263326e+08, 1.03328569e+08, 1.04393812e+08, 1.05459055e+08,\n",
       "        1.06524298e+08]),\n",
       " <BarContainer object of 100 artists>)"
      ]
     },
     "execution_count": 103,
     "metadata": {},
     "output_type": "execute_result"
    },
    {
     "data": {
      "image/png": "[encoded data removed]",
      "text/plain": [
       "<Figure size 1080x720 with 1 Axes>"
      ]
     },
     "metadata": {
      "needs_background": "light"
     },
     "output_type": "display_data"
    }
   ],
   "source": [
    "plt.figure(figsize=(15,10))\n",
    "plt.grid(visible=True)\n",
    "plt.title('Records per total size of uncertain range')\n",
    "plt.hist(all_total_ranges, bins=100)"
   ]
  },
  {
   "cell_type": "code",
   "execution_count": 91,
   "id": "c6584dd1",
   "metadata": {},
   "outputs": [],
   "source": [
    "# the max is screwing up all my plots, get rid of it\n",
    "i = all_total_ranges.index(max(all_total_ranges))\n",
    "\n",
    "xs = all_uncertainty_ratios[:i] + all_uncertainty_ratios[i+1:]\n",
    "ys = all_total_ranges[:i] + all_total_ranges[i+1:]\n",
    "\n",
    "# xs = all_uncertainty_ratios\n",
    "# ys = all_total_ranges"
   ]
  },
  {
   "cell_type": "code",
   "execution_count": 96,
   "id": "06ec665b",
   "metadata": {},
   "outputs": [
    {
     "data": {
      "text/plain": [
       "<matplotlib.collections.PathCollection at 0x7f9fd19cb2e0>"
      ]
     },
     "execution_count": 96,
     "metadata": {},
     "output_type": "execute_result"
    },
    {
     "data": {
      "image/png": "[encoded data removed]",
      "text/plain": [
       "<Figure size 720x720 with 1 Axes>"
      ]
     },
     "metadata": {
      "needs_background": "light"
     },
     "output_type": "display_data"
    }
   ],
   "source": [
    "plt.figure(figsize=(10,10))\n",
    "plt.grid(visible=True)\n",
    "plt.xlabel('Uncertainty ratio (1 is most certain)')\n",
    "plt.ylabel('Total size of uncertain range')\n",
    "plt.scatter(xs, ys, marker='.')"
   ]
  },
  {
   "cell_type": "markdown",
   "id": "7aaea74a",
   "metadata": {},
   "source": [
    "### Uncertainty from genes\n",
    "\n",
    "[Top of page](#Table-of-contents)"
   ]
  },
  {
   "cell_type": "code",
   "execution_count": 100,
   "id": "8c749e91",
   "metadata": {},
   "outputs": [],
   "source": [
    "# TODO"
   ]
  },
  {
   "cell_type": "markdown",
   "id": "ebd270e8",
   "metadata": {},
   "source": [
    "## Summary\n",
    "\n",
    "* somatic slightly enriched in complex variants compared to germline, but not much\n",
    "    * complex are **1.77%** somatic (vs. **0.878%** overall)\n",
    "* a lot of variants with known bounds have a pretty small range of values their endpoints can take (i.e. 2)\n",
    "    * large variance in uncertainty ratio mostly due to range of total variant size - see [previous notebook](https://nbviewer.org/github/EBIvariation/eva-opentargets/blob/master/data-exploration/complex-events/notebooks/detailed-hgvs-stats.ipynb#Span-lengths)\n",
    "* computing \"size\" of uncertainty has limited value given representation in data - also from [previous notebook](https://nbviewer.org/github/EBIvariation/eva-opentargets/blob/master/data-exploration/complex-events/notebooks/detailed-hgvs-stats.ipynb#Ranges)\n",
    "    * precise: **1735**\n",
    "        * uncertainty is 0\n",
    "    * imprecise (known bounds): **559**\n",
    "        * above analysis applies\n",
    "    * imprecise (unknown bounds, _mostly unknown outer bounds_): **9311**\n",
    "        * these numbers aren't very useful\n",
    "\n",
    "\n",
    "### More notes\n",
    "\n",
    "* impact of variant type on what kinds of assertions we can make - `(?_26547773)_(26775295_?)del` vs `dup`\n",
    "* expressing exactly what we know / don't know in evidence\n",
    "    * we know these N genes were (partially) deleted/duplicated (\\*)\n",
    "    * (\\*), and possibly more were also affected\n",
    "    * (\\*), and possibly more, but no more than __ (?)\n",
    "* the known bounds case might collapse entirely to the precise case\n",
    "* how this uncertainty got here (i.e. method of detection) has an impact, but we won't have that information\n",
    "\n",
    "[Top of page](#Table-of-contents)"
   ]
  },
  {
   "cell_type": "code",
   "execution_count": null,
   "id": "9442b4b8",
   "metadata": {},
   "outputs": [],
   "source": []
  }
 ],
 "metadata": {
  "kernelspec": {
   "display_name": "Python 3 (ipykernel)",
   "language": "python",
   "name": "python3"
  },
  "language_info": {
   "codemirror_mode": {
    "name": "ipython",
    "version": 3
   },
   "file_extension": ".py",
   "mimetype": "text/x-python",
   "name": "python",
   "nbconvert_exporter": "python",
   "pygments_lexer": "ipython3",
   "version": "3.8.10"
  }
 },
 "nbformat": 4,
 "nbformat_minor": 5
}
