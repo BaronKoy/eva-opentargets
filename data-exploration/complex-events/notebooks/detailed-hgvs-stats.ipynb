{
 "cells": [
  {
   "cell_type": "markdown",
   "id": "e1429c32",
   "metadata": {},
   "source": [
    "# Detailed stats of HGVS in ClinVar\n",
    "\n",
    "Looking only at records with no functional consequences and no complete `chr_pos_ref_alt` coordinates. Based on June consequence predictions and ClinVar dump.\n",
    "\n",
    "## Table of contents\n",
    "\n",
    "1. [Sequence types](#Sequence-types)\n",
    "2. [Variant types](#Variant-types)\n",
    "3. [Ranges](#Ranges)\n",
    "    1. [Span lengths](#Span-lengths)\n",
    "    2. [Intronic numbering](#Intronic-numbering)\n",
    "4. [Summary](#Summary)"
   ]
  },
  {
   "cell_type": "code",
   "execution_count": 1,
   "id": "3facf5dc",
   "metadata": {},
   "outputs": [],
   "source": [
    "import os\n",
    "import re\n",
    "import sys\n",
    "\n",
    "import numpy as np\n",
    "\n",
    "from eva_cttv_pipeline.clinvar_xml_utils import *\n",
    "from eva_cttv_pipeline.clinvar_identifier_parsing import *\n",
    "\n",
    "%matplotlib inline\n",
    "import matplotlib.pyplot as plt"
   ]
  },
  {
   "cell_type": "code",
   "execution_count": 2,
   "id": "2fabdf9c",
   "metadata": {},
   "outputs": [],
   "source": [
    "PROJECT_ROOT = '/home/april/projects/opentargets/complex-events'\n",
    "\n",
    "# dump of all records with no functional consequences and no complete coordinates\n",
    "# uses June consequence pred + ClinVar 6/26/2021\n",
    "no_consequences_path = os.path.join(PROJECT_ROOT, 'no-conseq_no-coords.xml.gz')\n",
    "dataset = ClinVarDataset(no_consequences_path)"
   ]
  },
  {
   "cell_type": "code",
   "execution_count": 3,
   "id": "4a56bacf",
   "metadata": {},
   "outputs": [],
   "source": [
    "def count_hgvs(dataset, regex_dict, exclusive=False, limit=None, include_no_hgvs=True, include_none=True):\n",
    "    \"\"\"\n",
    "    Counts records in dataset with HGVS matching a collection of regexes.\n",
    "    Can be exclusive or non-exclusive counts (see below).\n",
    "    If limit is provided, will count at most that many records (useful for testing).\n",
    "    \n",
    "    Notes:\n",
    "      * records with multiple HGVS expressions need at least one matching a given regex to be counted once\n",
    "      * can also count measures with no HGVS and ones that match none of the regexes (only if not exclusive)\n",
    "      * non-exclusive => record has an HGVS expression that matches this regex.\n",
    "                         \"If we do support X, how many records could we get?\"\n",
    "      * exclusive => record _only_ has HGVS expressions that match this regex (out of this collection).\n",
    "                     \"If we don't support X, how many records must we lose?\"\n",
    "        \n",
    "    \"\"\"\n",
    "    n = 0\n",
    "    # just use a dict instead of a counter, so we have a predictable key order\n",
    "    results = {k: 0 for k in regex_dict}\n",
    "    if include_no_hgvs:\n",
    "        results['no hgvs'] = 0\n",
    "    if not exclusive and include_none:\n",
    "        results['none'] = 0\n",
    "\n",
    "    for record in dataset:\n",
    "        if not record.measure:\n",
    "            continue\n",
    "        if not record.measure.hgvs:\n",
    "            if include_no_hgvs:\n",
    "                results['no hgvs'] += 1\n",
    "            continue\n",
    "\n",
    "        hs = [h for h in record.measure.hgvs if h is not None]\n",
    "        n += 1\n",
    "        if limit and n > limit:\n",
    "            break\n",
    "\n",
    "        temp_results = {\n",
    "            k: any(r.match(h) for h in hs)\n",
    "            for k, r in regex_dict.items()\n",
    "        }\n",
    "        any_match = False\n",
    "        for k in regex_dict:\n",
    "            if exclusive:\n",
    "                if temp_results[k] and not any(temp_results[j] for j in regex_dict if j != k):\n",
    "                    results[k] += 1\n",
    "            else:\n",
    "                if temp_results[k]:\n",
    "                    results[k] += 1\n",
    "                    any_match = True\n",
    "        if not exclusive and include_none and not any_match:\n",
    "            results['none'] += 1\n",
    "            \n",
    "    return results"
   ]
  },
  {
   "cell_type": "code",
   "execution_count": 4,
   "id": "050c9588",
   "metadata": {},
   "outputs": [],
   "source": [
    "def print_example_matches(dataset, regex_dict, size=1, limit=None, include_none=True):\n",
    "    \"\"\"\n",
    "    Like count_hgvs but returns (size) example matches for each regex where possible.\n",
    "    \"\"\"\n",
    "    n = 0\n",
    "    all_matches = {k: [] for k in regex_dict}\n",
    "    if include_none:\n",
    "        all_matches['none'] = []\n",
    "\n",
    "    for record in dataset:\n",
    "        if not record.measure or not record.measure.hgvs:\n",
    "            continue\n",
    "\n",
    "        hs = [h for h in record.measure.hgvs if h is not None]\n",
    "        n += 1\n",
    "        if limit and n > limit:\n",
    "            break\n",
    "            \n",
    "        for h in hs:\n",
    "            any_match = False\n",
    "            for k, r in regex_dict.items():\n",
    "                if r.match(h):\n",
    "                    all_matches[k].append(h)\n",
    "                    any_match = True\n",
    "            if not any_match and include_none:\n",
    "                all_matches['none'].append(h)\n",
    "\n",
    "    result = {\n",
    "        k: [v[i] for i in np.random.choice(len(v), size=min(len(v), size), replace=False)] if v else []\n",
    "        for k, v in all_matches.items()\n",
    "    }\n",
    "    for k in result:\n",
    "        print(k)\n",
    "        for s in result[k]:\n",
    "            print(f'  {s}')\n",
    "        print('\\n==========\\n')"
   ]
  },
  {
   "cell_type": "markdown",
   "id": "24498fc2",
   "metadata": {},
   "source": [
    "# Sequence types\n",
    "\n",
    "Refer to documentation [here](https://varnomen.hgvs.org/bg-material/refseq/).\n",
    "\n",
    "[Top of page](#Table-of-contents)"
   ]
  },
  {
   "cell_type": "code",
   "execution_count": 7,
   "id": "03f636a6",
   "metadata": {},
   "outputs": [],
   "source": [
    "# be more lenient than what we currently in identifier_parsing\n",
    "# for example this allows things like `chr11` or `LRG_199p1`\n",
    "sequence_identifier = r'[a-zA-Z0-9_.]+:'\n",
    "\n",
    "seq_type_dict = {\n",
    "    'coding': re.compile(sequence_identifier + r'c\\.'),\n",
    "    'genomic': re.compile(sequence_identifier + r'g\\.'),\n",
    "    'non-coding': re.compile(sequence_identifier + r'n\\.'),  # transcript but not coding for a protein\n",
    "    'protein': re.compile(sequence_identifier + r'p\\.'),\n",
    "    'mitochondrial': re.compile(sequence_identifier + r'm\\.'),\n",
    "    'circular': re.compile(sequence_identifier + r'o\\.'),\n",
    "    'RNA': re.compile(sequence_identifier + r'r\\.'),\n",
    "}"
   ]
  },
  {
   "cell_type": "code",
   "execution_count": 398,
   "id": "f3d5cd21",
   "metadata": {
    "scrolled": false
   },
   "outputs": [
    {
     "name": "stdout",
     "output_type": "stream",
     "text": [
      "coding\n",
      "  NM_006140.6:c.1056A>T\n",
      "  NM_007294.3:c.(5074+1_5075-1)_(*1_?)del\n",
      "  NM_001379164.1:c.586G>A\n",
      "  NM_001135651.3:c.95A>G\n",
      "  NM_017730.3:c.1812_1813del\n",
      "\n",
      "==========\n",
      "\n",
      "genomic\n",
      "  NC_000007.14:g.(?_5991963)_(5999285_?)del\n",
      "  NC_000009.11:g.(?_304561)_(464239_?)del\n",
      "  NC_000007.13:g.(?_65425884)_(65447170_?)dup\n",
      "  NC_000023.11:g.(?_139541049)_(139563439_?)del\n",
      "  NC_000023.10:g.(?_32235023)_(32430336_?)dup\n",
      "\n",
      "==========\n",
      "\n",
      "non-coding\n",
      "  U43746.1:n.6437delT\n",
      "  NR_027760.3:n.997A>T\n",
      "  NR_027760.3:n.790C>T\n",
      "  NR_027760.2:n.609G>A\n",
      "  NR_110830.1:n.963T>G\n",
      "\n",
      "==========\n",
      "\n",
      "protein\n",
      "  NP_000442.1:p.(=)\n",
      "  NP_758450.1:p.Arg28Pro\n",
      "  NP_000393.4:p.Leu91del\n",
      "  NP_001366094.1:p.Leu183fs\n",
      "  NP_001155001.1:p.Asp300=\n",
      "\n",
      "==========\n",
      "\n",
      "mitochondrial\n",
      "  NC_012920.1:m.961delTinsC(2_7)\n",
      "  NC_012920.1:m.961_962delinsC(n)\n",
      "  NC_012920.1:m.8350_13450del\n",
      "  NC_012920.1:m.961_962delinsC(n)\n",
      "\n",
      "==========\n",
      "\n",
      "circular\n",
      "\n",
      "==========\n",
      "\n",
      "RNA\n",
      "  NM_006867.3:r.1_989::NM_000245.2:r.3216_6641\n",
      "  NM_001080517.1:r.627_810del\n",
      "  NM_013318.3:r.1_2107::NM_004304.4:r.3173_4863\n",
      "\n",
      "==========\n",
      "\n",
      "none\n",
      "  c.(1845+1_1846-1)_(2311+1_2312-1)dup\n",
      "  p.?\n",
      "  c.(67+1_68-1)_(1705+1_1706-1)del\n",
      "  p.?\n",
      "  p.?\n",
      "\n",
      "==========\n",
      "\n"
     ]
    }
   ],
   "source": [
    "print_example_matches(dataset, seq_type_dict, size=5)"
   ]
  },
  {
   "cell_type": "code",
   "execution_count": 399,
   "id": "3483496f",
   "metadata": {},
   "outputs": [],
   "source": [
    "seq_type_counts = count_hgvs(dataset, seq_type_dict, exclusive=False)"
   ]
  },
  {
   "cell_type": "code",
   "execution_count": 400,
   "id": "adee2053",
   "metadata": {},
   "outputs": [
    {
     "data": {
      "text/plain": [
       "<BarContainer object of 9 artists>"
      ]
     },
     "execution_count": 400,
     "metadata": {},
     "output_type": "execute_result"
    },
    {
     "data": {
      "image/png": "[encoded data removed]",
      "text/plain": [
       "<Figure size 1080x504 with 1 Axes>"
      ]
     },
     "metadata": {
      "needs_background": "light"
     },
     "output_type": "display_data"
    }
   ],
   "source": [
    "plt.figure(figsize=(15,7))\n",
    "plt.title('Sequence type (non-exclusive)')\n",
    "plt.bar(seq_type_counts.keys(), seq_type_counts.values())"
   ]
  },
  {
   "cell_type": "code",
   "execution_count": 401,
   "id": "a2f332ec",
   "metadata": {},
   "outputs": [
    {
     "data": {
      "text/plain": [
       "{'coding': 2192,\n",
       " 'genomic': 12365,\n",
       " 'non-coding': 225,\n",
       " 'protein': 331,\n",
       " 'mitochondrial': 3,\n",
       " 'circular': 0,\n",
       " 'RNA': 3,\n",
       " 'no hgvs': 4030,\n",
       " 'none': 60}"
      ]
     },
     "execution_count": 401,
     "metadata": {},
     "output_type": "execute_result"
    }
   ],
   "source": [
    "seq_type_counts"
   ]
  },
  {
   "cell_type": "code",
   "execution_count": 386,
   "id": "3258bbb8",
   "metadata": {},
   "outputs": [
    {
     "data": {
      "text/plain": [
       "2417"
      ]
     },
     "execution_count": 386,
     "metadata": {},
     "output_type": "execute_result"
    }
   ],
   "source": [
    "# coding or non-coding\n",
    "2192 + 225"
   ]
  },
  {
   "cell_type": "code",
   "execution_count": 370,
   "id": "0ec2356b",
   "metadata": {},
   "outputs": [
    {
     "data": {
      "text/plain": [
       "13619"
      ]
     },
     "execution_count": 370,
     "metadata": {},
     "output_type": "execute_result"
    }
   ],
   "source": [
    "# have hgvs in general\n",
    "17649 - 4030"
   ]
  },
  {
   "cell_type": "code",
   "execution_count": 402,
   "id": "5e10c215",
   "metadata": {},
   "outputs": [],
   "source": [
    "seq_type_counts_exclusive = count_hgvs(dataset, seq_type_dict, exclusive=True)"
   ]
  },
  {
   "cell_type": "code",
   "execution_count": 403,
   "id": "09dcbe2f",
   "metadata": {},
   "outputs": [
    {
     "data": {
      "text/plain": [
       "<BarContainer object of 8 artists>"
      ]
     },
     "execution_count": 403,
     "metadata": {},
     "output_type": "execute_result"
    },
    {
     "data": {
      "image/png": "[encoded data removed]",
      "text/plain": [
       "<Figure size 1080x504 with 1 Axes>"
      ]
     },
     "metadata": {
      "needs_background": "light"
     },
     "output_type": "display_data"
    }
   ],
   "source": [
    "plt.figure(figsize=(15,7))\n",
    "plt.title('Sequence type (exclusive)')\n",
    "plt.bar(seq_type_counts_exclusive.keys(), seq_type_counts_exclusive.values())"
   ]
  },
  {
   "cell_type": "code",
   "execution_count": 404,
   "id": "440cd30a",
   "metadata": {},
   "outputs": [
    {
     "data": {
      "text/plain": [
       "{'coding': 1030,\n",
       " 'genomic': 11248,\n",
       " 'non-coding': 77,\n",
       " 'protein': 22,\n",
       " 'mitochondrial': 3,\n",
       " 'circular': 0,\n",
       " 'RNA': 3,\n",
       " 'no hgvs': 4030}"
      ]
     },
     "execution_count": 404,
     "metadata": {},
     "output_type": "execute_result"
    }
   ],
   "source": [
    "seq_type_counts_exclusive"
   ]
  },
  {
   "cell_type": "markdown",
   "id": "f9b2acb0",
   "metadata": {},
   "source": [
    "# Variant types\n",
    "\n",
    "Documentation [here](https://varnomen.hgvs.org/recommendations/general/)\n",
    "\n",
    "Compare stats [here](https://github.com/EBIvariation/eva-opentargets/tree/master/data-exploration/clinvar-variant-types#variation-representation) - distribution over all of ClinVar, using XML attribute not HGVS\n",
    "\n",
    "[Top of page](#Table-of-contents)"
   ]
  },
  {
   "cell_type": "code",
   "execution_count": 9,
   "id": "e67eb0da",
   "metadata": {},
   "outputs": [],
   "source": [
    "genomic_sequence = f'^{sequence_identifier}g\\.'\n",
    "all_other_sequence = f'^{sequence_identifier}[a-fh-z]\\.'"
   ]
  },
  {
   "cell_type": "code",
   "execution_count": 441,
   "id": "f951cf34",
   "metadata": {},
   "outputs": [],
   "source": [
    "# double-counts hybrid things, e.g.\n",
    "#  * NC_000013.9:g.93703239_93802554del99316insCTA\n",
    "#  * NC_000016.9:g.2155486_2155487ins2145304_2155487inv\n",
    "variant_regex = {\n",
    "    'substitution (genomic)': re.compile(f'{genomic_sequence}.*?>.*?'),\n",
    "    'deletion (genomic)': re.compile(f'{genomic_sequence}.*?del(?!ins).*?'),\n",
    "    'duplication (genomic)': re.compile(f'{genomic_sequence}.*?dup.*?'),\n",
    "    'insertion (genomic)': re.compile(f'{genomic_sequence}.*?(?<!del)ins.*?'),\n",
    "    'inversion (genomic)': re.compile(f'{genomic_sequence}.*?inv.*?'),\n",
    "    'delins (genomic)': re.compile(f'{genomic_sequence}.*?delins.*?'),\n",
    "    \n",
    "    'substitution (other)': re.compile(f'{all_other_sequence}.*?>.*?'),\n",
    "    'deletion (other)': re.compile(f'{all_other_sequence}.*?del(?!ins).*?'),\n",
    "    'duplication (other)': re.compile(f'{all_other_sequence}.*?dup.*?'),\n",
    "    'insertion (other)': re.compile(f'{all_other_sequence}.*?(?<!del)ins.*?'),\n",
    "    'inversion (other)': re.compile(f'{all_other_sequence}.*?inv.*?'),\n",
    "    'delins (other)': re.compile(f'{all_other_sequence}.*?delins.*?'),\n",
    "}"
   ]
  },
  {
   "cell_type": "code",
   "execution_count": 442,
   "id": "3e4adef4",
   "metadata": {
    "scrolled": false
   },
   "outputs": [
    {
     "name": "stdout",
     "output_type": "stream",
     "text": [
      "substitution (genomic)\n",
      "  NC_000023.10:g.605412C>A\n",
      "  NC_000024.9:g.1357443G>A\n",
      "  NG_012926.1:g.5598G>A\n",
      "  NC_000024.9:g.1357665C>T\n",
      "  NC_000023.10:g.1407750G>A\n",
      "\n",
      "==========\n",
      "\n",
      "deletion (genomic)\n",
      "  NC_000023.10:g.(?_32827600)_(32841967_?)del\n",
      "  NC_000014.8:g.100955624_101366977del\n",
      "  NC_000009.11:g.(?_130616558)_(130616644_?)del\n",
      "  NC_000017.10:g.(?_41196353)_(41277500_?)del\n",
      "  NC_000001.11:g.(?_237756278)_(237832657_?)del\n",
      "\n",
      "==========\n",
      "\n",
      "duplication (genomic)\n",
      "  NC_000017.10:g.(?_8212556)_(8226834_?)dup\n",
      "  NC_000002.11:g.(?_48030537)_(48030834_?)dup\n",
      "  NC_000024.9:g.555220dup\n",
      "  NC_000003.11:g.(?_180379629)_(180379815_?)dup\n",
      "  NC_000010.9:g.79036437_79286611dup\n",
      "\n",
      "==========\n",
      "\n",
      "insertion (genomic)\n",
      "  NG_009385.2:g.5047_5048insGTT\n",
      "  NC_000023.10:g.1404731_1404732insT\n",
      "  NC_000016.10:g.54716967_54716968ins[54716967_55565004;AGCTAACAAGTAATACCTAACAGTTATTCAGC]\n",
      "  NC_000013.11:g.93997007_94063501del66495insATAAATCACTTAGAGATGT\n",
      "  NC_000013.10:g.32893302_32893303insAlu\n",
      "\n",
      "==========\n",
      "\n",
      "inversion (genomic)\n",
      "  NC_000016.9:g.1566500_2119769inv\n",
      "  NC_000009.11:g.71705804_71974823invdup\n",
      "  NC_000001.10:g.154130985_156843877inv\n",
      "  NC_000010.10:g.43611191_61663279inv\n",
      "  NC_000009.11:g.12246100_101559378inv\n",
      "\n",
      "==========\n",
      "\n",
      "delins (genomic)\n",
      "  NC_000008.11:g.86587460_86650711delinsKY923049.1g1_466\n",
      "  NC_000020.10:g.25364147_25378237delinsGG\n",
      "  NC_000005.10:g.88846693_89051376delinsG\n",
      "  NC_000023.11:g.154030638_154038583delinsAC\n",
      "  NC_000017.10:g.29518017_29548981delinsTC\n",
      "\n",
      "==========\n",
      "\n",
      "substitution (other)\n",
      "  NR_027760.3:n.873G>A\n",
      "  NM_172245.4:c.77-6T>C\n",
      "  NM_001379158.1:c.904C>T\n",
      "  NM_172246.4:c.334C>T\n",
      "  NM_001379164.1:c.1064T>C\n",
      "\n",
      "==========\n",
      "\n",
      "deletion (other)\n",
      "  U43746.1:n.9877-68_9877-65delTTAC\n",
      "  LRG_274t1:c.(940+1_941-1)_(1186+1_1187-1)del\n",
      "  NM_014018.2:c.214_395del\n",
      "  NM_007300.3:c.81-?_134+?del\n",
      "  NM_003977.2:c.1-?_993+?del\n",
      "\n",
      "==========\n",
      "\n",
      "duplication (other)\n",
      "  LRG_293t1:c.7008-?_9117+?dup\n",
      "  NM_003000.2:c.201-?_765+?dup\n",
      "  NM_000314.4:c.-(903_882)dupGGGACTCTTTATGCGCTGCGGC\n",
      "  LRG_710t2:c.633+3398dup\n",
      "  LRG_218t1:c.793-?_1276+?dup\n",
      "\n",
      "==========\n",
      "\n",
      "insertion (other)\n",
      "  NM_000518.5:c.94_95insGGC\n",
      "  NM_004656.3:c.68-2_68-1ins22\n",
      "  NM_003365.2:c.73_74insG)inexon2\n",
      "  NM_003159.2:c.2045_2046delAGins18\n",
      "  NM_000051.3:c.8844_8845insLINE1\n",
      "\n",
      "==========\n",
      "\n",
      "inversion (other)\n",
      "  NM_000038.6:c.422+1123_532-577delins423-1933_423-1687inv\n",
      "  NM_000251.1:c.1311_1334delins1338_1361inv\n",
      "  NM_000251.1:c.1277-?_(*272_?)inv\n",
      "  NM_145698.4:c.626-689_937-234delins936+1075_c.936+1230inv\n",
      "\n",
      "==========\n",
      "\n",
      "delins (other)\n",
      "  NM_007294.3:c.-7620_80+468delins8\n",
      "  NM_004992.3:c.27-4722_*739delins43\n",
      "  NM_000251.1:c.-11844_1077-6021delins155\n",
      "  NC_012920.1:m.961_962delinsC(n)\n",
      "  LRG_35t1:c.1653_*9delins23\n",
      "\n",
      "==========\n",
      "\n",
      "none\n",
      "  NP_006131.2:p.Ile332=\n",
      "  NP_001366094.1:p.Leu342=\n",
      "  NP_001366094.1:p.Thr93=\n",
      "  NP_001366084.1:p.Phe94Ser\n",
      "  NP_001366082.1:p.Leu19=\n",
      "\n",
      "==========\n",
      "\n"
     ]
    }
   ],
   "source": [
    "print_example_matches(dataset, variant_regex, size=5)"
   ]
  },
  {
   "cell_type": "code",
   "execution_count": 448,
   "id": "2905dc90",
   "metadata": {},
   "outputs": [],
   "source": [
    "variant_counts = count_hgvs(dataset, variant_regex, include_no_hgvs=False, exclusive=False)"
   ]
  },
  {
   "cell_type": "code",
   "execution_count": 449,
   "id": "208a9abc",
   "metadata": {},
   "outputs": [
    {
     "data": {
      "text/plain": [
       "<BarContainer object of 13 artists>"
      ]
     },
     "execution_count": 449,
     "metadata": {},
     "output_type": "execute_result"
    },
    {
     "data": {
      "image/png": "[encoded data removed]",
      "text/plain": [
       "<Figure size 1080x504 with 1 Axes>"
      ]
     },
     "metadata": {
      "needs_background": "light"
     },
     "output_type": "display_data"
    }
   ],
   "source": [
    "plt.figure(figsize=(15,7))\n",
    "plt.title('Variant type')\n",
    "plt.xticks(rotation='vertical')\n",
    "plt.bar(variant_counts.keys(), variant_counts.values())"
   ]
  },
  {
   "cell_type": "code",
   "execution_count": 450,
   "id": "e739b299",
   "metadata": {},
   "outputs": [
    {
     "data": {
      "text/plain": [
       "{'substitution (genomic)': 245,\n",
       " 'deletion (genomic)': 8741,\n",
       " 'duplication (genomic)': 3277,\n",
       " 'insertion (genomic)': 55,\n",
       " 'inversion (genomic)': 15,\n",
       " 'delins (genomic)': 43,\n",
       " 'substitution (other)': 333,\n",
       " 'deletion (other)': 1469,\n",
       " 'duplication (other)': 252,\n",
       " 'insertion (other)': 187,\n",
       " 'inversion (other)': 4,\n",
       " 'delins (other)': 82,\n",
       " 'none': 95}"
      ]
     },
     "execution_count": 450,
     "metadata": {},
     "output_type": "execute_result"
    }
   ],
   "source": [
    "variant_counts"
   ]
  },
  {
   "cell_type": "markdown",
   "id": "fe5232e7",
   "metadata": {},
   "source": [
    "# Ranges"
   ]
  },
  {
   "cell_type": "markdown",
   "id": "e3a2c0e5",
   "metadata": {},
   "source": [
    "Mostly documented [here](https://varnomen.hgvs.org/recommendations/uncertain/) though note the first case is not uncertain.\n",
    "\n",
    "  * `g.12345_12678del`- no uncertainty\n",
    "  * `g.(123456_234567)_(345678_456789)del` - variable endpoints within a known range\n",
    "  * `g.(?_234567)_(345678_?)del` - variable endpoints within an unknown range\n",
    "  \n",
    "Also split into genomic vs. other sequences - the former we can definitely deal with, not sure about the others.\n",
    "\n",
    "See below for intronic coordinate ranges...\n",
    "\n",
    "[Top of page](#Table-of-contents)"
   ]
  },
  {
   "cell_type": "code",
   "execution_count": 10,
   "id": "7b3c2751",
   "metadata": {},
   "outputs": [],
   "source": [
    "genomic_sequence = f'^{sequence_identifier}g\\.'\n",
    "coding_sequence = f'^{sequence_identifier}c\\.'\n",
    "noncoding_sequence = f'^{sequence_identifier}n\\.'\n",
    "other_sequence = f'^{sequence_identifier}[abdefh-mo-z]\\.' # r'^' + sequence_identifier + r'[a-fh-z]\\.'\n",
    "num_range = r'[0-9]+_[0-9]+'\n",
    "unk_range = r'[0-9?]+_[0-9?]+'\n",
    "ch = r'[^?_+-]'  # we allow characters on either side of the range, but none of this guff"
   ]
  },
  {
   "cell_type": "code",
   "execution_count": 410,
   "id": "08fb8d06",
   "metadata": {},
   "outputs": [],
   "source": [
    "# g.12345_12678del\n",
    "def definite_range(sequence_type):\n",
    "    return re.compile(f'{sequence_type}{ch}*?{num_range}{ch}*?$')\n",
    "\n",
    "\n",
    "# g.(123456_234567)_(345678_456789)del\n",
    "def variable_range(sequence_type):\n",
    "    return re.compile(f'{sequence_type}{ch}*?\\({num_range}\\)_\\({num_range}\\){ch}*?$')\n",
    "\n",
    "\n",
    "# g.(?_234567)_(345678_?)del\n",
    "def unknown_range(sequence_type):\n",
    "    return re.compile(f'{sequence_type}{ch}*?(?=.*?\\?.*?)\\({unk_range}\\)_\\({unk_range}\\){ch}*?$')\n",
    "\n",
    "\n",
    "range_regex = {\n",
    "    'definite (genomic)': definite_range(genomic_sequence),\n",
    "    'variable (genomic)': variable_range(genomic_sequence),\n",
    "    'unknown (genomic)': unknown_range(genomic_sequence),\n",
    "    \n",
    "    'definite (coding)': definite_range(coding_sequence),\n",
    "    'variable (coding)': variable_range(coding_sequence),\n",
    "    'unknown (coding)': unknown_range(coding_sequence),\n",
    "    \n",
    "    'definite (noncoding)': definite_range(noncoding_sequence),\n",
    "    'variable (noncoding)': variable_range(noncoding_sequence),\n",
    "    'unknown (noncoding)': unknown_range(noncoding_sequence),\n",
    "    \n",
    "    'definite (other)': definite_range(other_sequence),\n",
    "    'variable (other)': variable_range(other_sequence),\n",
    "    'unknown (other)': unknown_range(other_sequence),\n",
    "}"
   ]
  },
  {
   "cell_type": "code",
   "execution_count": 411,
   "id": "4335af13",
   "metadata": {
    "scrolled": false
   },
   "outputs": [
    {
     "name": "stdout",
     "output_type": "stream",
     "text": [
      "definite (genomic)\n",
      "  NG_047171.1:g.53226_78767del\n",
      "  NC_000017.11:g.43048585_43059975del\n",
      "  NC_000016.10:g.12595039_12636793del\n",
      "  NC_000003.12:g.65206172_65228858del\n",
      "  NC_000002.11:g.160075929_164666149del\n",
      "\n",
      "==========\n",
      "\n",
      "variable (genomic)\n",
      "  NC_000017.11:g.(43063952_43067607)_(43076615_43082403)del\n",
      "  NC_000011.8:g.(67967534_67967551)_(67974756_67974774)del\n",
      "  NC_000019.9:g.(11217716_11218068)_(11218190_11219759)del\n",
      "  NC_000016.10:g.(89767238_89769836)_(89775816_89778800)del\n",
      "  NC_000016.10:g.(89792548_89795905)_(89803342_89805279)del\n",
      "\n",
      "==========\n",
      "\n",
      "unknown (genomic)\n",
      "  NC_000005.9:g.(?_112162795)_(112179833_?)dup\n",
      "  NG_009363.1:g.(171122_181389)_(188621_?)del\n",
      "  NC_000015.10:g.(?_26547773)_(26775295_?)del\n",
      "  NC_000007.13:g.(?_117227773)_(117227921_?)del\n",
      "  NC_000020.10:g.(?_10234257)_(10654198_?)del\n",
      "\n",
      "==========\n",
      "\n",
      "definite (coding)\n",
      "  NM_003000.2:c.73_846del\n",
      "  NM_000249.3:c.1163_1164ins4\n",
      "  NM_000052.4:c.3152_3156del5ins4\n",
      "  NM_001379160.1:c.368_377del\n",
      "  NM_000035.4:c.1_624del\n",
      "\n",
      "==========\n",
      "\n",
      "variable (coding)\n",
      "\n",
      "==========\n",
      "\n",
      "unknown (coding)\n",
      "  NM_000260.3:c.(?_6355)_(6648_?)del\n",
      "  NM_153700.2:c.(?_1)_(5328_?)del\n",
      "  NM_000527.4:c.(?_1846)_(2547_?)dup\n",
      "  LRG_254t2:c.(?_1)_(356_?)del\n",
      "  NM_015120.4:c.(?_9911)_(11550_?)del\n",
      "\n",
      "==========\n",
      "\n",
      "definite (noncoding)\n",
      "  U43746.1:n.9558_9562delTGAGGins3\n",
      "  U43746.1:n.4081_4083delAAA\n",
      "  U43746.1:n.7890_7891ins37\n",
      "  U43746.1:n.8628_8630delTTTins4\n",
      "  U14680.1:n.5653_5658delACCAGTins20\n",
      "\n",
      "==========\n",
      "\n",
      "variable (noncoding)\n",
      "\n",
      "==========\n",
      "\n",
      "unknown (noncoding)\n",
      "\n",
      "==========\n",
      "\n",
      "definite (other)\n",
      "  NP_003915.2:p.Ala260(5_9)\n",
      "  NC_012920.1:m.961_962delinsC(n)\n",
      "  NM_001080517.1:r.627_810del\n",
      "  NP_003915.2:p.Ala260[(5_9)]\n",
      "  NC_012920.1:m.961_962delinsC(n)\n",
      "\n",
      "==========\n",
      "\n",
      "variable (other)\n",
      "\n",
      "==========\n",
      "\n",
      "unknown (other)\n",
      "\n",
      "==========\n",
      "\n",
      "none\n",
      "  NP_758448.1:p.Gly177Glu\n",
      "  NM_172249.4:c.279A>G\n",
      "  NM_178129.5:c.869C>G\n",
      "  NC_000007.13:g.116166573-?_116436183+?dup\n",
      "  NM_172246.4:c.565C>T\n",
      "\n",
      "==========\n",
      "\n"
     ]
    }
   ],
   "source": [
    "print_example_matches(dataset, range_regex, size=5)"
   ]
  },
  {
   "cell_type": "code",
   "execution_count": 412,
   "id": "b1521c9a",
   "metadata": {},
   "outputs": [],
   "source": [
    "range_counts = count_hgvs(dataset, range_regex, include_no_hgvs=False)"
   ]
  },
  {
   "cell_type": "code",
   "execution_count": 413,
   "id": "3997667a",
   "metadata": {},
   "outputs": [
    {
     "data": {
      "text/plain": [
       "<BarContainer object of 13 artists>"
      ]
     },
     "execution_count": 413,
     "metadata": {},
     "output_type": "execute_result"
    },
    {
     "data": {
      "image/png": "[encoded data removed]",
      "text/plain": [
       "<Figure size 1080x504 with 1 Axes>"
      ]
     },
     "metadata": {
      "needs_background": "light"
     },
     "output_type": "display_data"
    }
   ],
   "source": [
    "plt.figure(figsize=(15,7))\n",
    "plt.xticks(rotation='vertical')\n",
    "plt.title('Ranges')\n",
    "plt.bar(range_counts.keys(), range_counts.values())"
   ]
  },
  {
   "cell_type": "code",
   "execution_count": 414,
   "id": "589840cf",
   "metadata": {},
   "outputs": [
    {
     "data": {
      "text/plain": [
       "{'definite (genomic)': 1735,\n",
       " 'variable (genomic)': 559,\n",
       " 'unknown (genomic)': 9311,\n",
       " 'definite (coding)': 264,\n",
       " 'variable (coding)': 0,\n",
       " 'unknown (coding)': 79,\n",
       " 'definite (noncoding)': 58,\n",
       " 'variable (noncoding)': 0,\n",
       " 'unknown (noncoding)': 0,\n",
       " 'definite (other)': 7,\n",
       " 'variable (other)': 0,\n",
       " 'unknown (other)': 0,\n",
       " 'none': 1739}"
      ]
     },
     "execution_count": 414,
     "metadata": {},
     "output_type": "execute_result"
    }
   ],
   "source": [
    "range_counts"
   ]
  },
  {
   "cell_type": "code",
   "execution_count": 369,
   "id": "149843b5",
   "metadata": {},
   "outputs": [
    {
     "data": {
      "text/plain": [
       "11605"
      ]
     },
     "execution_count": 369,
     "metadata": {},
     "output_type": "execute_result"
    }
   ],
   "source": [
    "# genomic ranges\n",
    "1735 + 559 + 9311"
   ]
  },
  {
   "cell_type": "code",
   "execution_count": 387,
   "id": "69b8379a",
   "metadata": {},
   "outputs": [
    {
     "data": {
      "text/plain": [
       "401"
      ]
     },
     "execution_count": 387,
     "metadata": {},
     "output_type": "execute_result"
    }
   ],
   "source": [
    "# coding / noncoding ranges\n",
    "264 + 79 + 58"
   ]
  },
  {
   "cell_type": "markdown",
   "id": "66216e0f",
   "metadata": {},
   "source": [
    "## Span lengths\n",
    "\n",
    "Lengths of spans - definite or minimum provided.  For now only compute for genomic sequences, as getting span length for coding/noncoding is a bit more complicated.\n",
    "\n",
    "[Top of page](#Table-of-contents)"
   ]
  },
  {
   "cell_type": "code",
   "execution_count": 5,
   "id": "acf254c5",
   "metadata": {},
   "outputs": [],
   "source": [
    "def span_lengths(dataset, regex, limit=None):\n",
    "    \"\"\"\n",
    "    Returns all span lengths for a given regex.\n",
    "    This will take the first two captured groups of the regex, convert to integers, and subtract the two.\n",
    "    It will NOT be smart.\n",
    "    \"\"\"\n",
    "    n = 0\n",
    "    all_spans = []\n",
    "    \n",
    "    for record in dataset:\n",
    "        if not record.measure or not record.measure.hgvs:\n",
    "            continue\n",
    "\n",
    "        hs = [h for h in record.measure.hgvs if h is not None]\n",
    "        n += 1\n",
    "        if limit and n > limit:\n",
    "            break\n",
    "            \n",
    "        for h in hs:\n",
    "            m = regex.match(h)\n",
    "            if m and m.group(1) and m.group(2):\n",
    "                span = int(m.group(2)) - int(m.group(1)) + 1\n",
    "                if span < 0:\n",
    "                    print('negative span!!!', h)\n",
    "                else:\n",
    "                    all_spans.append(span)\n",
    "                # presumably all hgvs expressions for one record have the same span, don't double count\n",
    "                break\n",
    "                \n",
    "    return all_spans"
   ]
  },
  {
   "cell_type": "code",
   "execution_count": 11,
   "id": "49865019",
   "metadata": {},
   "outputs": [],
   "source": [
    "# same as previous but with capturing groups added\n",
    "def_range = r'([0-9]+)_([0-9]+)'\n",
    "var_range = r'\\([0-9?]+_([0-9]+)\\)_\\(([0-9]+)_[0-9?]+\\)'\n",
    "def_span_regex = re.compile(f'{genomic_sequence}{ch}*?{def_range}{ch}*?$')\n",
    "var_span_regex = re.compile(f'{genomic_sequence}{ch}*?{var_range}{ch}*?$')"
   ]
  },
  {
   "cell_type": "code",
   "execution_count": 12,
   "id": "68481d84",
   "metadata": {},
   "outputs": [
    {
     "name": "stdout",
     "output_type": "stream",
     "text": [
      "negative span!!! NC_000016.9:g.(?_14725823)_(14643928_?)del\n",
      "negative span!!! NC_000003.11:g.(128203154_128202733)_(128202028_128201205)del\n",
      "negative span!!! NC_000002.11:g.(?_86565200)_(86481816_86479194)del\n",
      "negative span!!! NC_000015.9:g.(?_44955845)_(44918529_44914997)del\n",
      "negative span!!! NC_000015.9:g.(44887456_44884637)_(44881449_44878049)del\n",
      "negative span!!! NC_000015.9:g.(44884528_44881613)_(44877833_44876757)dup\n"
     ]
    }
   ],
   "source": [
    "spans = span_lengths(dataset, def_span_regex) + span_lengths(dataset, var_span_regex)"
   ]
  },
  {
   "cell_type": "code",
   "execution_count": 348,
   "id": "52c66992",
   "metadata": {},
   "outputs": [
    {
     "name": "stdout",
     "output_type": "stream",
     "text": [
      "11529\n"
     ]
    }
   ],
   "source": [
    "# This is everything with a known minimum span - genomic reference sequence, X_Y or (?_X)_(Y_?)\n",
    "print(len(spans))"
   ]
  },
  {
   "cell_type": "code",
   "execution_count": 350,
   "id": "653d615c",
   "metadata": {},
   "outputs": [
    {
     "name": "stdout",
     "output_type": "stream",
     "text": [
      "Mean: 382710.48798681586\n",
      "Median: 19283.0\n",
      "Min: 2\n",
      "Max: 200036731\n"
     ]
    }
   ],
   "source": [
    "print('Mean:', np.mean(spans))\n",
    "print('Median:', np.median(spans))\n",
    "print('Min:', np.min(spans))\n",
    "print('Max:', np.max(spans))"
   ]
  },
  {
   "cell_type": "code",
   "execution_count": 453,
   "id": "7525e374",
   "metadata": {},
   "outputs": [
    {
     "name": "stdout",
     "output_type": "stream",
     "text": [
      "5827\n"
     ]
    }
   ],
   "source": [
    "# actually reasonable spans...\n",
    "MAX_REASONABLE_SPAN = 20000 #100000\n",
    "\n",
    "smaller_spans = [x for x in spans if x < MAX_REASONABLE_SPAN]\n",
    "print(len(smaller_spans))"
   ]
  },
  {
   "cell_type": "code",
   "execution_count": 454,
   "id": "5724f3a1",
   "metadata": {},
   "outputs": [
    {
     "data": {
      "text/plain": [
       "(array([1419.,  479.,  137.,  124.,  103.,  113.,   84.,  107.,  118.,\n",
       "          79.,   84.,   88.,   73.,   67.,   55.,   71.,   66.,   63.,\n",
       "          81.,   47.,   56.,   63.,   50.,   53.,   58.,   39.,   46.,\n",
       "          63.,   40.,   35.,   37.,   57.,   52.,   29.,   41.,   40.,\n",
       "          45.,   24.,   34.,   41.,   36.,   46.,   33.,   22.,   26.,\n",
       "          32.,   29.,   32.,   29.,   26.,   29.,   22.,   29.,   37.,\n",
       "          28.,   32.,   23.,   37.,   31.,   27.,   22.,   33.,   28.,\n",
       "          19.,   14.,   21.,   37.,   25.,   23.,   17.,   21.,   28.,\n",
       "          23.,   24.,   22.,   28.,   25.,   18.,   24.,   26.,   24.,\n",
       "          20.,   24.,   16.,   23.,   34.,   23.,   15.,   10.,   16.,\n",
       "          20.,   13.,   19.,   16.,   12.,   23.,   19.,   19.,   17.,\n",
       "          19.]),\n",
       " array([2.000000e+00, 2.019500e+02, 4.019000e+02, 6.018500e+02,\n",
       "        8.018000e+02, 1.001750e+03, 1.201700e+03, 1.401650e+03,\n",
       "        1.601600e+03, 1.801550e+03, 2.001500e+03, 2.201450e+03,\n",
       "        2.401400e+03, 2.601350e+03, 2.801300e+03, 3.001250e+03,\n",
       "        3.201200e+03, 3.401150e+03, 3.601100e+03, 3.801050e+03,\n",
       "        4.001000e+03, 4.200950e+03, 4.400900e+03, 4.600850e+03,\n",
       "        4.800800e+03, 5.000750e+03, 5.200700e+03, 5.400650e+03,\n",
       "        5.600600e+03, 5.800550e+03, 6.000500e+03, 6.200450e+03,\n",
       "        6.400400e+03, 6.600350e+03, 6.800300e+03, 7.000250e+03,\n",
       "        7.200200e+03, 7.400150e+03, 7.600100e+03, 7.800050e+03,\n",
       "        8.000000e+03, 8.199950e+03, 8.399900e+03, 8.599850e+03,\n",
       "        8.799800e+03, 8.999750e+03, 9.199700e+03, 9.399650e+03,\n",
       "        9.599600e+03, 9.799550e+03, 9.999500e+03, 1.019945e+04,\n",
       "        1.039940e+04, 1.059935e+04, 1.079930e+04, 1.099925e+04,\n",
       "        1.119920e+04, 1.139915e+04, 1.159910e+04, 1.179905e+04,\n",
       "        1.199900e+04, 1.219895e+04, 1.239890e+04, 1.259885e+04,\n",
       "        1.279880e+04, 1.299875e+04, 1.319870e+04, 1.339865e+04,\n",
       "        1.359860e+04, 1.379855e+04, 1.399850e+04, 1.419845e+04,\n",
       "        1.439840e+04, 1.459835e+04, 1.479830e+04, 1.499825e+04,\n",
       "        1.519820e+04, 1.539815e+04, 1.559810e+04, 1.579805e+04,\n",
       "        1.599800e+04, 1.619795e+04, 1.639790e+04, 1.659785e+04,\n",
       "        1.679780e+04, 1.699775e+04, 1.719770e+04, 1.739765e+04,\n",
       "        1.759760e+04, 1.779755e+04, 1.799750e+04, 1.819745e+04,\n",
       "        1.839740e+04, 1.859735e+04, 1.879730e+04, 1.899725e+04,\n",
       "        1.919720e+04, 1.939715e+04, 1.959710e+04, 1.979705e+04,\n",
       "        1.999700e+04]),\n",
       " <BarContainer object of 100 artists>)"
      ]
     },
     "execution_count": 454,
     "metadata": {},
     "output_type": "execute_result"
    },
    {
     "data": {
      "image/png": "[encoded data removed]",
      "text/plain": [
       "<Figure size 1080x720 with 1 Axes>"
      ]
     },
     "metadata": {
      "needs_background": "light"
     },
     "output_type": "display_data"
    }
   ],
   "source": [
    "plt.figure(figsize=(15,10))\n",
    "plt.grid(visible=True)\n",
    "plt.title(f'Minimum Spans (less than {MAX_REASONABLE_SPAN})')\n",
    "# first array is counts per bin\n",
    "# second array is left edges of bins, plus last right edge\n",
    "plt.hist(smaller_spans, bins=100)"
   ]
  },
  {
   "cell_type": "code",
   "execution_count": 13,
   "id": "b3588ff3",
   "metadata": {},
   "outputs": [
    {
     "name": "stdout",
     "output_type": "stream",
     "text": [
      "3738\n"
     ]
    }
   ],
   "source": [
    "# VEP acceptable spans\n",
    "vep_spans = [x for x in spans if x < 5000]\n",
    "print(len(vep_spans))"
   ]
  },
  {
   "cell_type": "markdown",
   "id": "15fafe88",
   "metadata": {},
   "source": [
    "## Intronic numbering\n",
    "\n",
    "Documentation [here](https://varnomen.hgvs.org/bg-material/numbering/) and particularly the [diagram](https://varnomen.hgvs.org/assets/RefSeq.jpg).\n",
    "\n",
    "Only used for coding and non-coding reference sequences, so not relevant if we focus on genomic.\n",
    "\n",
    "[Top of page](#Table-of-contents)"
   ]
  },
  {
   "cell_type": "code",
   "execution_count": 432,
   "id": "a2833952",
   "metadata": {},
   "outputs": [],
   "source": [
    "coding_sequence = r'^' + sequence_identifier + r'c\\.'\n",
    "other_sequence = r'^' + sequence_identifier + r'[abd-z]\\.'\n",
    "\n",
    "pivot = r'[-*]?[0-9]+'\n",
    "offset = r'[+-][0-9]+'\n",
    "endpoint = pivot + offset\n",
    "\n",
    "num_range = f'{endpoint}_{endpoint}'\n",
    "unk_range = f'(?:{endpoint}|\\?)_(?:{endpoint}|\\?)'\n",
    "ch = r'[^?_+-]'  # we allow characters on either side of the range, but none of this guff\n",
    "\n",
    "irange_regex = {\n",
    "    'definite intron (coding)': re.compile(coding_sequence + f'{ch}*?{num_range}{ch}*?$'),\n",
    "    'variable intron (coding)': re.compile(coding_sequence + f'{ch}*?\\({num_range}\\)_\\({num_range}\\){ch}*?$'),\n",
    "    'unknown intron (coding)': re.compile(coding_sequence + f'{ch}*?(?=.*?\\?.*?)\\({unk_range}\\)_\\({unk_range}\\){ch}*?$'),\n",
    "    'definite intron (other)': re.compile(other_sequence + f'{ch}*?{num_range}{ch}*?$'),\n",
    "    'variable intron (other)': re.compile(other_sequence + f'{ch}*?\\({num_range}\\)_\\({num_range}\\){ch}*?$'),\n",
    "    'unknown intron (other)': re.compile(other_sequence + f'{ch}*?(?=.*?\\?.*?)\\({unk_range}\\)_\\({unk_range}\\){ch}*?$'),\n",
    "}"
   ]
  },
  {
   "cell_type": "code",
   "execution_count": 452,
   "id": "bf3c43bf",
   "metadata": {},
   "outputs": [
    {
     "name": "stdout",
     "output_type": "stream",
     "text": [
      "definite intron (coding)\n",
      "  LRG_214t1:c.889-1633_7395-667del\n",
      "  NM_000135.2:c.1006+727_1626+1288del\n",
      "  NM_000267.3:c.7000-499_7908-479del\n",
      "  NM_000267.3:c.655-60_888+5621delins135\n",
      "  NM_001379166.1:c.473+16_473+17del\n",
      "\n",
      "==========\n",
      "\n",
      "variable intron (coding)\n",
      "  LRG_274t1:c.(67+1_68-1)_(1586+1_1587-1)del\n",
      "  LRG_627t2:c.(3502+1_3503-1)_(4173+1_4174-1)del\n",
      "  NM_000135.2:c.(2601+1_2602-1)_(2981+1_2982-1)del\n",
      "  NM_000492.3:c.(1766+1_1767-1)_(2619+1_2620-1)del\n",
      "  LRG_274t1:c.(940+1_941-1)_(1186+1_1187-1)del\n",
      "\n",
      "==========\n",
      "\n",
      "unknown intron (coding)\n",
      "  NM_000535.5:c.(?_989-5)_(2445+5_?)del\n",
      "  LRG_199t1:c.(?_6439-24498)_(7873-5329_?)del\n",
      "  NM_172095.1:c.(?_718-34)_(843-857_?)del\n",
      "  NM_001142800.1:c.(2259+1_2260-1)_(2381+1_?)del\n",
      "  LRG_161t1:c.(?_989-5)_(2445+5_?)del\n",
      "\n",
      "==========\n",
      "\n",
      "definite intron (other)\n",
      "  U43746.1:n.7830-114_7830-112delAGT\n",
      "  U43746.1:n.9877-68_9877-65delTTAC\n",
      "  U14680.1:n.5396+47_5396+48ins20\n",
      "\n",
      "==========\n",
      "\n",
      "variable intron (other)\n",
      "\n",
      "==========\n",
      "\n",
      "unknown intron (other)\n",
      "\n",
      "==========\n",
      "\n"
     ]
    }
   ],
   "source": [
    "print_example_matches(dataset, irange_regex, size=5, include_none=False)"
   ]
  },
  {
   "cell_type": "code",
   "execution_count": 434,
   "id": "3bf1f139",
   "metadata": {},
   "outputs": [
    {
     "data": {
      "text/plain": [
       "<BarContainer object of 6 artists>"
      ]
     },
     "execution_count": 434,
     "metadata": {},
     "output_type": "execute_result"
    },
    {
     "data": {
      "image/png": "[encoded data removed]",
      "text/plain": [
       "<Figure size 1080x504 with 1 Axes>"
      ]
     },
     "metadata": {
      "needs_background": "light"
     },
     "output_type": "display_data"
    }
   ],
   "source": [
    "irange_counts = count_hgvs(dataset, irange_regex, include_no_hgvs=False, include_none=False)\n",
    "\n",
    "plt.figure(figsize=(15,7))\n",
    "plt.title('Ranges')\n",
    "plt.bar(irange_counts.keys(), irange_counts.values())"
   ]
  },
  {
   "cell_type": "code",
   "execution_count": 435,
   "id": "16706287",
   "metadata": {},
   "outputs": [
    {
     "data": {
      "text/plain": [
       "{'definite intron (coding)': 158,\n",
       " 'variable intron (coding)': 258,\n",
       " 'unknown intron (coding)': 7,\n",
       " 'definite intron (other)': 3,\n",
       " 'variable intron (other)': 0,\n",
       " 'unknown intron (other)': 0}"
      ]
     },
     "execution_count": 435,
     "metadata": {},
     "output_type": "execute_result"
    }
   ],
   "source": [
    "irange_counts"
   ]
  },
  {
   "cell_type": "code",
   "execution_count": 436,
   "id": "21b539ae",
   "metadata": {},
   "outputs": [
    {
     "data": {
      "text/plain": [
       "426"
      ]
     },
     "execution_count": 436,
     "metadata": {},
     "output_type": "execute_result"
    }
   ],
   "source": [
    "sum(irange_counts.values())"
   ]
  },
  {
   "cell_type": "markdown",
   "id": "7ed21a02",
   "metadata": {},
   "source": [
    "# Summary\n",
    "\n",
    "* **17,649** records without consequences and without complete coordinates\n",
    "    * Of these, **13,619** have HGVS identifiers\n",
    "        * Of these, **12,365** are genomic\n",
    "            * Of these, **11,605** involve ranges\n",
    "                * Of these, **11,529** have a known minimum span\n",
    "                    * Of these, **5,827** have span less than 20kb\n",
    "                    \n",
    "[Top of page](#Table-of-contents)"
   ]
  },
  {
   "cell_type": "markdown",
   "id": "69c1f396",
   "metadata": {},
   "source": [
    "## Questions / comments\n",
    "\n",
    "* Can we handle non-genomic reference (in particular coding and non-coding, possibly also protein - direct to consequence not via coordinates)?\n",
    "* Still some substitutions, can we pick those up?\n",
    "    * if ClinVar didn't create coordinates, is there a reason why?\n",
    "* What things aren't included in these range expressions? (see below)\n",
    "    * point deletions `NC_000023.10:g.32459297del`\n",
    "    * point insertions `NM_000179.2:c.3557-4insT`\n",
    "    * substitutions `LRG_199t1:c.357+1G>A`\n",
    "    * protein substitutions `NP_758448.1:p.Gly177Glu`\n",
    "    * \"advanced\" stuff like translocations - see [here](https://varnomen.hgvs.org/recommendations/DNA/variant/complex/) (I actually didn't see any of these)\n",
    "    * miscellaneous errors and things I don't understand `NC_000019.9:g.(?_47255735_47259271del`\n",
    "    * ..."
   ]
  },
  {
   "cell_type": "code",
   "execution_count": null,
   "id": "d6192a60",
   "metadata": {},
   "outputs": [],
   "source": []
  }
 ],
 "metadata": {
  "kernelspec": {
   "display_name": "Python 3 (ipykernel)",
   "language": "python",
   "name": "python3"
  },
  "language_info": {
   "codemirror_mode": {
    "name": "ipython",
    "version": 3
   },
   "file_extension": ".py",
   "mimetype": "text/x-python",
   "name": "python",
   "nbconvert_exporter": "python",
   "pygments_lexer": "ipython3",
   "version": "3.8.10"
  }
 },
 "nbformat": 4,
 "nbformat_minor": 5
}
