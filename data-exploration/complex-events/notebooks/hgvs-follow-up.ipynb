{
 "cells": [
  {
   "cell_type": "code",
   "execution_count": 14,
   "id": "d1aad868",
   "metadata": {},
   "outputs": [],
   "source": [
    "from collections import defaultdict, Counter\n",
    "from itertools import zip_longest\n",
    "import json\n",
    "import os\n",
    "import re\n",
    "import sys\n",
    "import urllib\n",
    "\n",
    "import numpy as np\n",
    "import requests\n",
    "\n",
    "from consequence_prediction.vep_mapping_pipeline.consequence_mapping import *\n",
    "\n",
    "%matplotlib inline\n",
    "import matplotlib.pyplot as plt"
   ]
  },
  {
   "cell_type": "code",
   "execution_count": 3,
   "id": "d204fe9f",
   "metadata": {},
   "outputs": [],
   "source": [
    "from eva_cttv_pipeline.clinvar_xml_io.clinvar_xml_io import *"
   ]
  },
  {
   "cell_type": "markdown",
   "id": "cd7aa4f4",
   "metadata": {},
   "source": [
    "## VEP handling: HGVS"
   ]
  },
  {
   "cell_type": "code",
   "execution_count": 70,
   "id": "b84d3c9d",
   "metadata": {},
   "outputs": [],
   "source": [
    "def try_to_vep(hgvs, long=False):\n",
    "    \"\"\"Attempts to get consequences from VEP for HGVS expression.\"\"\"\n",
    "    safe_hgvs = urllib.parse.quote(hgvs)\n",
    "    vep_url = f'https://rest.ensembl.org/vep/human/hgvs/{safe_hgvs}?content-type=application/json'\n",
    "    resp = requests.get(vep_url).json()\n",
    "    if 'error' in resp:\n",
    "        print('ERROR:', resp['error'])\n",
    "    else:\n",
    "        print('SUCCESS:', resp[0]['most_severe_consequence'])\n",
    "        if long:\n",
    "            print(json.dumps(resp, indent=4, sort_keys=True))\n",
    "    print('=====')"
   ]
  },
  {
   "cell_type": "code",
   "execution_count": 334,
   "id": "15807766",
   "metadata": {
    "scrolled": false
   },
   "outputs": [
    {
     "name": "stdout",
     "output_type": "stream",
     "text": [
      "SUCCESS: intron_variant\n",
      "=====\n",
      "SUCCESS: intron_variant\n",
      "=====\n"
     ]
    }
   ],
   "source": [
    "# Non-range cases\n",
    "try_to_vep('NC_000011.10:g.17605796dup')\n",
    "try_to_vep('NC_000011.10:g.17605796C>T')"
   ]
  },
  {
   "cell_type": "code",
   "execution_count": 337,
   "id": "b87ca0db",
   "metadata": {
    "scrolled": false
   },
   "outputs": [
    {
     "name": "stdout",
     "output_type": "stream",
     "text": [
      "ERROR: Unable to parse HGVS notation 'NC_000011.10:g.17605796_17612832del': Region requested must be smaller than 5kb\n",
      "=====\n",
      "SUCCESS: splice_acceptor_variant\n",
      "=====\n",
      "SUCCESS: intron_variant\n",
      "=====\n"
     ]
    }
   ],
   "source": [
    "# Range must be less than 5kb\n",
    "try_to_vep('NC_000011.10:g.17605796_17612832del')\n",
    "try_to_vep('NC_000011.10:g.17605796_17608796del')  # modified to  be <5kb\n",
    "try_to_vep('NC_000011.10:g.17605796_17605797insT')"
   ]
  },
  {
   "cell_type": "code",
   "execution_count": 73,
   "id": "03d83a21",
   "metadata": {},
   "outputs": [
    {
     "name": "stdout",
     "output_type": "stream",
     "text": [
      "SUCCESS: splice_acceptor_variant\n",
      "=====\n",
      "SUCCESS: transcript_ablation\n",
      "=====\n"
     ]
    }
   ],
   "source": [
    "# Amazingly, definite intronic range also seems to work\n",
    "try_to_vep('LRG_214t1:c.889-1633_7395-667del')\n",
    "try_to_vep('NM_000267.3:c.7000-499_7908-479del')"
   ]
  },
  {
   "cell_type": "code",
   "execution_count": 74,
   "id": "7e5a20c9",
   "metadata": {},
   "outputs": [
    {
     "name": "stdout",
     "output_type": "stream",
     "text": [
      "ERROR: Unable to parse HGVS notation 'NC_000011.10:g.(17605790_17605796)_(17612832_1761283)del': Could not parse the HGVS notation NC_000011.10:g.(17605790_17605796)_(17612832_1761283)del - can't interpret '(17612832_1761283)'\n",
      "=====\n",
      "ERROR: Unable to parse HGVS notation 'NC_000011.10:g.(?_17605796)_(17612832_?)del': HGVS notation for variation with unknown location is not supported\n",
      "=====\n",
      "ERROR: You must specify a region in the format chr, chr:start or chr:start-end at /nfs/public/release/ensweb/live/rest/www_105/.plenv/versions/5.26.1/lib/perl5/site_perl/5.26.1/x86_64-linux/Bio/DB/HTS/Tabix.pm line 104.\n",
      "\n",
      "=====\n"
     ]
    }
   ],
   "source": [
    "# No support for uncertainty\n",
    "try_to_vep('NC_000011.10:g.(17605790_17605796)_(17612832_1761283)del')\n",
    "try_to_vep('NC_000011.10:g.(?_17605796)_(17612832_?)del')\n",
    "\n",
    "# I forgot this case in the other notebook, probably safe to say we can't do much with it\n",
    "try_to_vep('NC_000011.10:g.?_17612832del')"
   ]
  },
  {
   "cell_type": "code",
   "execution_count": 80,
   "id": "35df3c79",
   "metadata": {
    "scrolled": true
   },
   "outputs": [
    {
     "name": "stdout",
     "output_type": "stream",
     "text": [
      "ERROR: Unable to parse HGVS notation 'U43746.1:n.9877-68_9877-65delTTAC': Could not get a Transcript object for 'U43746.1'\n",
      "=====\n",
      "SUCCESS: inframe_deletion\n",
      "=====\n",
      "SUCCESS: transcript_ablation\n",
      "=====\n",
      "ERROR: Unable to parse HGVS notation 'NR_027760.2:n.609G>A': Could not get a Transcript object for 'NR_027760.2'\n",
      "=====\n"
     ]
    }
   ],
   "source": [
    "# weird stuff\n",
    "try_to_vep('U43746.1:n.9877-68_9877-65delTTAC')\n",
    "try_to_vep('NP_000393.4:p.Leu91del')\n",
    "try_to_vep('NC_012920.1:m.8350_12450del')\n",
    "try_to_vep('NR_027760.2:n.609G>A')"
   ]
  },
  {
   "cell_type": "markdown",
   "id": "035dd479",
   "metadata": {},
   "source": [
    "### Summary\n",
    "\n",
    "To work with VEP hgvs endpoint:\n",
    "* g, c, p sequence types\n",
    "* must be GRCh38\n",
    "* size less than 5 kb\n",
    "    * about 3738 of these in ClinVar (known min span)\n",
    "* no uncertainty"
   ]
  },
  {
   "cell_type": "markdown",
   "id": "11524237",
   "metadata": {},
   "source": [
    "## VEP handling: region\n",
    "\n",
    "This is the endpoint used by the code currently, see [here](https://github.com/EBIvariation/eva-opentargets/blob/master/consequence_prediction/vep_mapping_pipeline/consequence_mapping.py#L57).\n",
    "\n",
    "Example query from VEP API docs, more documentation on input formatting [here](https://m.ensembl.org/info/docs/tools/vep/vep_formats.html):\n",
    "\n",
    "`https://rest.ensembl.org/vep/human/region/7:100318423-100321323:1/DUP?content-type=application/json`\n",
    "\n",
    "`{chr}:{start}-{end}:{strand}/{INS|DEL|DUP|TDUP}`  (TDUP = tandem duplication (?))\n",
    "\n",
    "Notes\n",
    "* region can be larger than 5 kb\n",
    "* not sure can do multiple regions at once from API docs\n",
    "* needs (exact) genomic coordinates"
   ]
  },
  {
   "cell_type": "code",
   "execution_count": 138,
   "id": "4d6b86d3",
   "metadata": {},
   "outputs": [],
   "source": [
    "# bulk query is possible as well\n",
    "# example from above: NC_000011.10:g.17605796_17612832del\n",
    "variants = ['NC_000011.10 17605796 17612832 DEL + NC_000011.10:g.17605796_17612832del']\n",
    "results = query_vep(variants, VEP_SHORT_QUERY_DISTANCE)"
   ]
  },
  {
   "cell_type": "code",
   "execution_count": 139,
   "id": "633b4706",
   "metadata": {
    "scrolled": true
   },
   "outputs": [
    {
     "data": {
      "text/plain": [
       "[{'transcript_consequences': [{'consequence_terms': ['splice_polypyrimidine_tract_variant',\n",
       "     'non_coding_transcript_exon_variant',\n",
       "     'intron_variant',\n",
       "     'feature_truncation'],\n",
       "    'gene_id': 'ENSG00000188162',\n",
       "    'gene_symbol_source': 'HGNC',\n",
       "    'transcript_id': 'ENST00000342528',\n",
       "    'gene_symbol': 'OTOG',\n",
       "    'biotype': 'retained_intron',\n",
       "    'bp_overlap': 7037,\n",
       "    'strand': 1,\n",
       "    'variant_allele': 'deletion',\n",
       "    'impact': 'LOW',\n",
       "    'percentage_overlap': 11.6,\n",
       "    'hgnc_id': 'HGNC:8516'},\n",
       "   {'strand': 1,\n",
       "    'percentage_overlap': 7.05,\n",
       "    'impact': 'LOW',\n",
       "    'hgnc_id': 'HGNC:8516',\n",
       "    'transcript_id': 'ENST00000399391',\n",
       "    'gene_id': 'ENSG00000188162',\n",
       "    'biotype': 'protein_coding',\n",
       "    'bp_overlap': 7037,\n",
       "    'variant_allele': 'deletion',\n",
       "    'gene_symbol_source': 'HGNC',\n",
       "    'consequence_terms': ['splice_polypyrimidine_tract_variant',\n",
       "     'coding_sequence_variant',\n",
       "     'intron_variant',\n",
       "     'feature_truncation'],\n",
       "    'gene_symbol': 'OTOG'},\n",
       "   {'gene_id': 'ENSG00000188162',\n",
       "    'transcript_id': 'ENST00000399397',\n",
       "    'percentage_overlap': 7.12,\n",
       "    'hgnc_id': 'HGNC:8516',\n",
       "    'impact': 'LOW',\n",
       "    'strand': 1,\n",
       "    'gene_symbol': 'OTOG',\n",
       "    'consequence_terms': ['splice_polypyrimidine_tract_variant',\n",
       "     'coding_sequence_variant',\n",
       "     'intron_variant',\n",
       "     'feature_truncation'],\n",
       "    'gene_symbol_source': 'HGNC',\n",
       "    'variant_allele': 'deletion',\n",
       "    'biotype': 'protein_coding',\n",
       "    'bp_overlap': 7037}],\n",
       "  'strand': 1,\n",
       "  'allele_string': 'deletion',\n",
       "  'regulatory_feature_consequences': [{'percentage_overlap': 100,\n",
       "    'impact': 'MODIFIER',\n",
       "    'variant_allele': 'deletion',\n",
       "    'regulatory_feature_id': 'ENSR00001183653',\n",
       "    'consequence_terms': ['regulatory_region_ablation',\n",
       "     'regulatory_region_variant'],\n",
       "    'bp_overlap': 1000},\n",
       "   {'regulatory_feature_id': 'ENSR00000037537',\n",
       "    'consequence_terms': ['regulatory_region_ablation',\n",
       "     'regulatory_region_variant'],\n",
       "    'bp_overlap': 618,\n",
       "    'percentage_overlap': 100,\n",
       "    'impact': 'MODIFIER',\n",
       "    'variant_allele': 'deletion'},\n",
       "   {'regulatory_feature_id': 'ENSR00000424935',\n",
       "    'bp_overlap': 32,\n",
       "    'consequence_terms': ['regulatory_region_variant'],\n",
       "    'impact': 'MODIFIER',\n",
       "    'percentage_overlap': 8,\n",
       "    'variant_allele': 'deletion'}],\n",
       "  'most_severe_consequence': 'splice_polypyrimidine_tract_variant',\n",
       "  'assembly_name': 'GRCh38',\n",
       "  'motif_feature_consequences': [{'motif_feature_id': 'ENSM00206851191',\n",
       "    'consequence_terms': ['TFBS_ablation', 'TF_binding_site_variant'],\n",
       "    'bp_overlap': 14,\n",
       "    'impact': 'MODERATE',\n",
       "    'percentage_overlap': 100,\n",
       "    'variant_allele': 'deletion'},\n",
       "   {'bp_overlap': 13,\n",
       "    'consequence_terms': ['TFBS_ablation', 'TF_binding_site_variant'],\n",
       "    'motif_feature_id': 'ENSM00205281179',\n",
       "    'variant_allele': 'deletion',\n",
       "    'percentage_overlap': 100,\n",
       "    'impact': 'MODERATE'},\n",
       "   {'variant_allele': 'deletion',\n",
       "    'impact': 'MODERATE',\n",
       "    'percentage_overlap': 100,\n",
       "    'motif_feature_id': 'ENSM00526166528',\n",
       "    'consequence_terms': ['TFBS_ablation', 'TF_binding_site_variant'],\n",
       "    'bp_overlap': 15},\n",
       "   {'percentage_overlap': 100,\n",
       "    'impact': 'MODERATE',\n",
       "    'variant_allele': 'deletion',\n",
       "    'bp_overlap': 8,\n",
       "    'consequence_terms': ['TFBS_ablation', 'TF_binding_site_variant'],\n",
       "    'motif_feature_id': 'ENSM00525041465'}],\n",
       "  'end': 17612832,\n",
       "  'input': 'NC_000011.10 17605796 17612832 DEL + NC_000011.10:g.17605796_17612832del',\n",
       "  'id': 'NC_000011.10:g.17605796_17612832del',\n",
       "  'start': 17605796,\n",
       "  'seq_region_name': 'NC_000011.10'}]"
      ]
     },
     "execution_count": 139,
     "metadata": {},
     "output_type": "execute_result"
    }
   ],
   "source": [
    "results"
   ]
  },
  {
   "cell_type": "markdown",
   "id": "720014e6",
   "metadata": {},
   "source": [
    "## Biomart\n",
    "\n",
    "Query biomart using region to get genes affected (q: is this different from the above region request?)"
   ]
  },
  {
   "cell_type": "code",
   "execution_count": 106,
   "id": "266a72bf",
   "metadata": {},
   "outputs": [],
   "source": [
    "# query in the code doesn't quite work as chromosomal_region isn't an attribute\n",
    "# value is similar format to VEP region endpoint: chr:start:end:strand\n",
    "# but need to map NC_000011.10 -> 11\n",
    "query = \"\"\"<?xml version=\"1.0\" encoding=\"UTF-8\"?>\n",
    "<!DOCTYPE Query>\n",
    "<Query  virtualSchemaName = \"default\" formatter = \"TSV\" header = \"0\" uniqueRows = \"0\" count = \"\" datasetConfigVersion = \"0.6\" >\n",
    "\t\t\t\n",
    "\t<Dataset name = \"hsapiens_gene_ensembl\" interface = \"default\" >\n",
    "\t\t<Filter name = \"chromosomal_region\" value = \"11:17605796:17612832:1\"/>\n",
    "\t\t<Attribute name = \"ensembl_gene_id\" />\n",
    "\t</Dataset>\n",
    "</Query>\n",
    "\n",
    "\"\"\".replace('\\n', '')\n",
    "url = f\"http://www.ensembl.org/biomart/martservice?query={query}\""
   ]
  },
  {
   "cell_type": "code",
   "execution_count": 107,
   "id": "7eded00a",
   "metadata": {},
   "outputs": [],
   "source": [
    "resp = requests.get(url)"
   ]
  },
  {
   "cell_type": "code",
   "execution_count": 109,
   "id": "9248a7cb",
   "metadata": {},
   "outputs": [
    {
     "name": "stdout",
     "output_type": "stream",
     "text": [
      "ENSG00000188162\n",
      "\n"
     ]
    }
   ],
   "source": [
    "# same example as used for VEP region\n",
    "print(resp.text)"
   ]
  },
  {
   "cell_type": "markdown",
   "id": "7af73626",
   "metadata": {},
   "source": [
    "Notes\n",
    "* similar to procedure used in repeat expansion pipeline (in particular know how to do in bulk)\n",
    "* needs chromosome\n",
    "* no functional consequences just gene targets"
   ]
  },
  {
   "cell_type": "markdown",
   "id": "0ae6cf7f",
   "metadata": {},
   "source": [
    "## Target genes from HGVS spans"
   ]
  },
  {
   "cell_type": "code",
   "execution_count": 4,
   "id": "7df32fc6",
   "metadata": {},
   "outputs": [],
   "source": [
    "PROJECT_ROOT = '/home/april/projects/opentargets/complex-events'\n",
    "\n",
    "# dump of all records with no functional consequences and no complete coordinates\n",
    "# uses June consequence pred + ClinVar 6/26/2021\n",
    "no_consequences_path = os.path.join(PROJECT_ROOT, 'no-conseq_no-coords.xml.gz')\n",
    "dataset = ClinVarDataset(no_consequences_path)"
   ]
  },
  {
   "cell_type": "code",
   "execution_count": 47,
   "id": "6c2d3c49",
   "metadata": {},
   "outputs": [],
   "source": [
    "sequence_identifier = r'[a-zA-Z0-9_.]+'\n",
    "genomic_sequence = f'^({sequence_identifier}):g\\.'\n",
    "\n",
    "# only INS, DEL, DUP supported by VEP\n",
    "variant_type_regex = {\n",
    "    re.compile(f'{genomic_sequence}.*?del(?!ins).*?') : 'DEL',\n",
    "    re.compile(f'{genomic_sequence}.*?dup.*?') : 'DUP',\n",
    "    re.compile(f'{genomic_sequence}.*?(?<!del)ins.*?') : 'INS',\n",
    "}\n",
    "\n",
    "def_range = r'([0-9]+)_([0-9]+)'\n",
    "var_range = r'\\([0-9?]+_([0-9]+)\\)_\\(([0-9]+)_[0-9?]+\\)'\n",
    "ch = r'[^?_+-]'\n",
    "\n",
    "def_span_regex = re.compile(f'{genomic_sequence}{ch}*?{def_range}{ch}*?$')\n",
    "var_span_regex = re.compile(f'{genomic_sequence}{ch}*?{var_range}{ch}*?$')"
   ]
  },
  {
   "cell_type": "code",
   "execution_count": 48,
   "id": "8c749e91",
   "metadata": {},
   "outputs": [],
   "source": [
    "def hgvs_to_vep_identifier(hgvs):\n",
    "    m = def_span_regex.match(hgvs)\n",
    "    if not m:\n",
    "        m = var_span_regex.match(hgvs)\n",
    "        if not m:\n",
    "            return\n",
    "        \n",
    "    seq = m.group(1)\n",
    "    # not everything accepted by VEP, for now we'll be lazy\n",
    "    if not (seq.startswith('NC') or seq.startswith('LRG') or seq.startswith('NW') or seq.startswith('AC')):\n",
    "        return\n",
    "    \n",
    "    start = int(m.group(2))\n",
    "    end = int(m.group(3))\n",
    "    if start > end+1:\n",
    "        return\n",
    "    \n",
    "    variant_type = None\n",
    "    for r, s in variant_type_regex.items():\n",
    "        if r.match(hgvs):\n",
    "            variant_type = s\n",
    "            break\n",
    "    if not variant_type:\n",
    "        return\n",
    "    \n",
    "    return f'{seq} {start} {end} {variant_type} + {hgvs}'"
   ]
  },
  {
   "cell_type": "code",
   "execution_count": 49,
   "id": "b04dabe2",
   "metadata": {},
   "outputs": [],
   "source": [
    "def extract_genes(vep_results):\n",
    "    results_by_variant = defaultdict(list)\n",
    "    for result in vep_results:\n",
    "        variant_identifier = result['id']\n",
    "        consequences = result.get('transcript_consequences', [])\n",
    "        results_by_variant[variant_identifier].extend({c['gene_id'] for c in consequences})\n",
    "    return results_by_variant"
   ]
  },
  {
   "cell_type": "code",
   "execution_count": 323,
   "id": "49beb12c",
   "metadata": {},
   "outputs": [],
   "source": [
    "def extract_most_severe_consequence(vep_results):\n",
    "    results_by_variant = {}\n",
    "    for result in vep_results:\n",
    "        variant_identifier = result['id']\n",
    "        consequence = result.get('most_severe_consequence', '')\n",
    "        results_by_variant[variant_identifier] = consequence\n",
    "    return results_by_variant"
   ]
  },
  {
   "cell_type": "code",
   "execution_count": 50,
   "id": "b994eaae",
   "metadata": {},
   "outputs": [],
   "source": [
    "def grouper(iterable, n):\n",
    "    args = [iter(iterable)] * n\n",
    "    return [x for x in zip_longest(*args, fillvalue=None) if x is not None]"
   ]
  },
  {
   "cell_type": "code",
   "execution_count": 53,
   "id": "c6192a21",
   "metadata": {},
   "outputs": [],
   "source": [
    "def get_vep_results(dataset, limit=None, verbose=False):\n",
    "    n = 0\n",
    "    hgvs_list = []\n",
    "    \n",
    "    for record in dataset:\n",
    "        if not record.measure or not record.measure.hgvs:\n",
    "            continue\n",
    "\n",
    "        # must be GRCh38 for VEP to work\n",
    "        def current_hgvs(measure):\n",
    "            return [elem.text for elem in measure._hgvs_elems if 'previous' not in elem.attrib['Type'].lower()]\n",
    "            \n",
    "        # NB. might double count records\n",
    "        hgvs_list.extend([h for h in current_hgvs(record.measure) if h is not None])\n",
    "        n += 1\n",
    "        if limit and n > limit:\n",
    "            break\n",
    "    \n",
    "    print(f'{n} records processed')\n",
    "    print(f'{len(hgvs_list)} HGVS expressions')\n",
    "    \n",
    "    variants = [hgvs_to_vep_identifier(hgvs) for hgvs in hgvs_list]\n",
    "    variants = [v for v in variants if v]  # v is None if it couldn't be parsed\n",
    "    print(f'{len(variants)} parsed into chrom/start/end/type')\n",
    "\n",
    "    # VEP only accepts batches of 200\n",
    "    i = 0\n",
    "    vep_results = []\n",
    "    for group in grouper(variants, n=200):\n",
    "        vep_results.extend(query_vep(variants=group, search_distance=VEP_SHORT_QUERY_DISTANCE))\n",
    "        i += 1\n",
    "        if verbose:\n",
    "            print(f'Done with batch {i}')\n",
    "        \n",
    "    return vep_results"
   ]
  },
  {
   "cell_type": "code",
   "execution_count": 324,
   "id": "ac10cd84",
   "metadata": {},
   "outputs": [],
   "source": [
    "def most_severe_consequence(dataset, limit=None):\n",
    "    vep_results = get_vep_results(dataset, limit)\n",
    "    \n",
    "    hgvs_to_consequence = extract_most_severe_consequence(vep_results)\n",
    "    print(f'{len(hgvs_to_consequence)} successfully mapped by VEP')\n",
    "    \n",
    "    return hgvs_to_consequence"
   ]
  },
  {
   "cell_type": "code",
   "execution_count": 327,
   "id": "5fa7fdd7",
   "metadata": {
    "scrolled": true
   },
   "outputs": [
    {
     "name": "stdout",
     "output_type": "stream",
     "text": [
      "13619 records processed\n",
      "17395 HGVS expressions\n",
      "6583 parsed into chrom/start/end/type\n",
      "Done with batch 1\n",
      "Done with batch 2\n",
      "Done with batch 3\n",
      "Done with batch 4\n",
      "Done with batch 5\n",
      "Done with batch 6\n",
      "Done with batch 7\n",
      "Done with batch 8\n",
      "Done with batch 9\n",
      "Done with batch 10\n",
      "Done with batch 11\n",
      "Done with batch 12\n",
      "Done with batch 13\n",
      "Done with batch 14\n",
      "Done with batch 15\n",
      "Done with batch 16\n",
      "Done with batch 17\n",
      "Done with batch 18\n",
      "Done with batch 19\n",
      "Done with batch 20\n",
      "Done with batch 21\n",
      "Done with batch 22\n",
      "Done with batch 23\n",
      "Done with batch 24\n",
      "Done with batch 25\n",
      "Done with batch 26\n",
      "Done with batch 27\n",
      "Done with batch 28\n",
      "Done with batch 29\n",
      "Done with batch 30\n",
      "Done with batch 31\n",
      "Done with batch 32\n",
      "Done with batch 33\n",
      "6270 successfully mapped by VEP\n"
     ]
    }
   ],
   "source": [
    "hgvs_to_consequence = most_severe_consequence(dataset)"
   ]
  },
  {
   "cell_type": "code",
   "execution_count": 328,
   "id": "9f0e5980",
   "metadata": {
    "scrolled": true
   },
   "outputs": [],
   "source": [
    "consequence_counts = Counter(hgvs_to_consequence.values())"
   ]
  },
  {
   "cell_type": "code",
   "execution_count": 333,
   "id": "e9b976e4",
   "metadata": {},
   "outputs": [
    {
     "data": {
      "text/plain": [
       "<BarContainer object of 20 artists>"
      ]
     },
     "execution_count": 333,
     "metadata": {},
     "output_type": "execute_result"
    },
    {
     "data": {
      "image/png": "[encoded data removed]",
      "text/plain": [
       "<Figure size 1080x720 with 1 Axes>"
      ]
     },
     "metadata": {
      "needs_background": "light"
     },
     "output_type": "display_data"
    }
   ],
   "source": [
    "plt.figure(figsize=(15,10))\n",
    "plt.xticks(rotation='vertical')\n",
    "plt.title(f'Most severe consequence')\n",
    "plt.bar(consequence_counts.keys(), consequence_counts.values())"
   ]
  },
  {
   "cell_type": "code",
   "execution_count": 332,
   "id": "35015d62",
   "metadata": {},
   "outputs": [
    {
     "data": {
      "text/plain": [
       "Counter({'splice_polypyrimidine_tract_variant': 1596,\n",
       "         'transcript_ablation': 2234,\n",
       "         'stop_lost': 1133,\n",
       "         'TFBS_ablation': 39,\n",
       "         'intron_variant': 47,\n",
       "         'transcript_amplification': 513,\n",
       "         'start_lost': 177,\n",
       "         'coding_sequence_variant': 252,\n",
       "         'frameshift_variant': 154,\n",
       "         'inframe_deletion': 41,\n",
       "         'upstream_gene_variant': 3,\n",
       "         'regulatory_region_ablation': 22,\n",
       "         '3_prime_UTR_variant': 5,\n",
       "         'non_coding_transcript_exon_variant': 12,\n",
       "         '5_prime_UTR_variant': 24,\n",
       "         'intergenic_variant': 12,\n",
       "         'downstream_gene_variant': 2,\n",
       "         'TFBS_amplification': 1,\n",
       "         'regulatory_region_amplification': 2,\n",
       "         'non_coding_transcript_variant': 1})"
      ]
     },
     "execution_count": 332,
     "metadata": {},
     "output_type": "execute_result"
    }
   ],
   "source": [
    "consequence_counts"
   ]
  },
  {
   "cell_type": "code",
   "execution_count": 52,
   "id": "91e1aa4a",
   "metadata": {},
   "outputs": [],
   "source": [
    "def gene_counts(dataset, limit=None):\n",
    "    vep_results = get_vep_results(dataset, limit)\n",
    "        \n",
    "    hgvs_to_genes = extract_genes(vep_results)\n",
    "    print(f'{len(hgvs_to_genes)} successfully mapped by VEP')\n",
    "    \n",
    "    return hgvs_to_genes, [len(y) for x,y in hgvs_to_genes.items()]"
   ]
  },
  {
   "cell_type": "code",
   "execution_count": 54,
   "id": "82234bd9",
   "metadata": {
    "scrolled": true
   },
   "outputs": [
    {
     "name": "stdout",
     "output_type": "stream",
     "text": [
      "13619 records processed\n",
      "17395 HGVS expressions\n",
      "6583 parsed into chrom/start/end/type\n",
      "6270 successfully mapped by VEP\n"
     ]
    }
   ],
   "source": [
    "hgvs_to_genes, counts = gene_counts(dataset)"
   ]
  },
  {
   "cell_type": "code",
   "execution_count": 303,
   "id": "7c7755aa",
   "metadata": {},
   "outputs": [
    {
     "name": "stdout",
     "output_type": "stream",
     "text": [
      "Mean: 4.137480063795853\n",
      "Median: 2.0\n",
      "Min: 0\n",
      "Max: 437\n"
     ]
    }
   ],
   "source": [
    "print('Mean:', np.mean(counts))\n",
    "print('Median:', np.median(counts))\n",
    "print('Min:', np.min(counts))\n",
    "print('Max:', np.max(counts))"
   ]
  },
  {
   "cell_type": "code",
   "execution_count": 318,
   "id": "1b5db71f",
   "metadata": {},
   "outputs": [
    {
     "name": "stdout",
     "output_type": "stream",
     "text": [
      "6199\n"
     ]
    }
   ],
   "source": [
    "MAX_REASONABLE_COUNT = 50\n",
    "smaller_counts = [x for x in counts if x < MAX_REASONABLE_COUNT]\n",
    "print(len(smaller_counts))"
   ]
  },
  {
   "cell_type": "code",
   "execution_count": 320,
   "id": "63f76082",
   "metadata": {},
   "outputs": [
    {
     "data": {
      "text/plain": [
       "(array([7.600e+01, 2.698e+03, 1.568e+03, 7.890e+02, 4.070e+02, 1.520e+02,\n",
       "        1.050e+02, 4.900e+01, 6.700e+01, 3.800e+01, 3.500e+01, 1.800e+01,\n",
       "        1.700e+01, 9.000e+00, 1.500e+01, 1.600e+01, 9.000e+00, 9.000e+00,\n",
       "        8.000e+00, 8.000e+00, 9.000e+00, 8.000e+00, 4.000e+00, 2.000e+00,\n",
       "        4.000e+00, 2.000e+00, 5.000e+00, 8.000e+00, 2.000e+00, 5.000e+00,\n",
       "        4.000e+00, 5.000e+00, 2.000e+00, 3.000e+00, 6.000e+00, 1.000e+00,\n",
       "        4.000e+00, 2.000e+00, 1.000e+00, 1.000e+00, 1.000e+00, 4.000e+00,\n",
       "        4.000e+00, 0.000e+00, 3.000e+00, 4.000e+00, 0.000e+00, 3.000e+00,\n",
       "        7.000e+00, 2.000e+00]),\n",
       " array([ 0.  ,  0.98,  1.96,  2.94,  3.92,  4.9 ,  5.88,  6.86,  7.84,\n",
       "         8.82,  9.8 , 10.78, 11.76, 12.74, 13.72, 14.7 , 15.68, 16.66,\n",
       "        17.64, 18.62, 19.6 , 20.58, 21.56, 22.54, 23.52, 24.5 , 25.48,\n",
       "        26.46, 27.44, 28.42, 29.4 , 30.38, 31.36, 32.34, 33.32, 34.3 ,\n",
       "        35.28, 36.26, 37.24, 38.22, 39.2 , 40.18, 41.16, 42.14, 43.12,\n",
       "        44.1 , 45.08, 46.06, 47.04, 48.02, 49.  ]),\n",
       " <BarContainer object of 50 artists>)"
      ]
     },
     "execution_count": 320,
     "metadata": {},
     "output_type": "execute_result"
    },
    {
     "data": {
      "image/png": "[encoded data removed]",
      "text/plain": [
       "<Figure size 1080x720 with 1 Axes>"
      ]
     },
     "metadata": {
      "needs_background": "light"
     },
     "output_type": "display_data"
    }
   ],
   "source": [
    "plt.figure(figsize=(15,10))\n",
    "plt.grid(visible=True)\n",
    "plt.title(f'Number of target genes (less than {MAX_REASONABLE_COUNT})')\n",
    "# first array is counts per bin\n",
    "# second array is left edges of bins, plus last right edge\n",
    "plt.hist(smaller_counts, bins=min(100, MAX_REASONABLE_COUNT))"
   ]
  },
  {
   "cell_type": "markdown",
   "id": "40f71377",
   "metadata": {},
   "source": [
    "### Summary\n",
    "\n",
    "* out of 11,000 with known minimum span, 6270 successfully mapped by VEP\n",
    "* haven't fully tested how many HGVS are handled by VEP \"out of the box\"\n",
    "\n",
    "### Questions\n",
    "\n",
    "* check hgvs is always on the + strand\n",
    "* how important is it to actually get the variant type, if we have chrom/start/end?\n",
    "    * related, can we do anything about delins?\n",
    "* what to do with sequences that aren't accepted by VEP as-is?\n",
    "    - OK for VEP: `NC`, `LRG`, `NW`, `AC`\n",
    "    - not OK:\n",
    "        - `NG_*` genomic region - could map (?)\n",
    "        - `hg38.chrX` and similar - could parse\n",
    "        - `AF287270` - genomic region also?\n",
    "        - `CM000663.1`\n",
    "        - `L78833.1`\n",
    "\n",
    "For OT\n",
    "* should these have a different consequence type, as we do for repeat expansion?\n",
    "* what's the cutoff we should use?\n",
    "* dealing with uncertainty"
   ]
  }
 ],
 "metadata": {
  "kernelspec": {
   "display_name": "Python 3 (ipykernel)",
   "language": "python",
   "name": "python3"
  },
  "language_info": {
   "codemirror_mode": {
    "name": "ipython",
    "version": 3
   },
   "file_extension": ".py",
   "mimetype": "text/x-python",
   "name": "python",
   "nbconvert_exporter": "python",
   "pygments_lexer": "ipython3",
   "version": "3.8.10"
  }
 },
 "nbformat": 4,
 "nbformat_minor": 5
}
